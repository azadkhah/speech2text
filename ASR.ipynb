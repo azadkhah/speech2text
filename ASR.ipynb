{
  "cells": [
    {
      "cell_type": "markdown",
      "metadata": {
        "id": "view-in-github",
        "colab_type": "text"
      },
      "source": [
        "<a href=\"https://colab.research.google.com/github/azadkhah/speech2text/blob/main/ASR.ipynb\" target=\"_parent\"><img src=\"https://colab.research.google.com/assets/colab-badge.svg\" alt=\"Open In Colab\"/></a>"
      ]
    },
    {
      "cell_type": "code",
      "execution_count": null,
      "metadata": {
        "colab": {
          "base_uri": "https://localhost:8080/"
        },
        "id": "sB0GvwTfuhjr",
        "outputId": "2c52ca1d-2dfc-457a-89bf-af568b720443"
      },
      "outputs": [
        {
          "output_type": "stream",
          "name": "stdout",
          "text": [
            "Thu Jun 16 10:58:24 2022       \n",
            "+-----------------------------------------------------------------------------+\n",
            "| NVIDIA-SMI 460.32.03    Driver Version: 460.32.03    CUDA Version: 11.2     |\n",
            "|-------------------------------+----------------------+----------------------+\n",
            "| GPU  Name        Persistence-M| Bus-Id        Disp.A | Volatile Uncorr. ECC |\n",
            "| Fan  Temp  Perf  Pwr:Usage/Cap|         Memory-Usage | GPU-Util  Compute M. |\n",
            "|                               |                      |               MIG M. |\n",
            "|===============================+======================+======================|\n",
            "|   0  Tesla T4            Off  | 00000000:00:04.0 Off |                    0 |\n",
            "| N/A   46C    P8     9W /  70W |      0MiB / 15109MiB |      0%      Default |\n",
            "|                               |                      |                  N/A |\n",
            "+-------------------------------+----------------------+----------------------+\n",
            "                                                                               \n",
            "+-----------------------------------------------------------------------------+\n",
            "| Processes:                                                                  |\n",
            "|  GPU   GI   CI        PID   Type   Process name                  GPU Memory |\n",
            "|        ID   ID                                                   Usage      |\n",
            "|=============================================================================|\n",
            "|  No running processes found                                                 |\n",
            "+-----------------------------------------------------------------------------+\n"
          ]
        }
      ],
      "source": [
        "!nvidia-smi"
      ]
    },
    {
      "cell_type": "code",
      "execution_count": null,
      "metadata": {
        "colab": {
          "base_uri": "https://localhost:8080/"
        },
        "id": "zb0JDMJpzMQb",
        "outputId": "e36436f8-95e5-4828-b06f-950be6b963aa"
      },
      "outputs": [
        {
          "output_type": "stream",
          "name": "stdout",
          "text": [
            "Mounted at /content/drive\n"
          ]
        }
      ],
      "source": [
        "from google.colab import drive\n",
        "drive.mount('/content/drive')"
      ]
    },
    {
      "cell_type": "code",
      "source": [
        "!rsync -a /content/cv-corpus-9.0-2022-04-27 /content/drive/MyDrive"
      ],
      "metadata": {
        "colab": {
          "base_uri": "https://localhost:8080/"
        },
        "id": "-gQSfTm714H7",
        "outputId": "5c0e3393-b665-4c98-a4da-40c4372cc799"
      },
      "execution_count": null,
      "outputs": [
        {
          "output_type": "stream",
          "name": "stdout",
          "text": [
            "rsync: recv_generator: failed to stat \"/content/drive/MyDrive/cv-corpus-9.0-2022-04-27/fa/clips/common_voice_fa_18202354.mp3\": Input/output error (5)\n",
            "rsync: recv_generator: failed to stat \"/content/drive/MyDrive/cv-corpus-9.0-2022-04-27/fa/clips/common_voice_fa_18202355.mp3\": Input/output error (5)\n",
            "rsync: recv_generator: failed to stat \"/content/drive/MyDrive/cv-corpus-9.0-2022-04-27/fa/clips/common_voice_fa_18202356.mp3\": Input/output error (5)\n",
            "rsync: recv_generator: failed to stat \"/content/drive/MyDrive/cv-corpus-9.0-2022-04-27/fa/clips/common_voice_fa_18202357.mp3\": Input/output error (5)\n",
            "rsync: recv_generator: failed to stat \"/content/drive/MyDrive/cv-corpus-9.0-2022-04-27/fa/clips/common_voice_fa_18202358.mp3\": Input/output error (5)\n",
            "rsync: recv_generator: failed to stat \"/content/drive/MyDrive/cv-corpus-9.0-2022-04-27/fa/clips/common_voice_fa_18202375.mp3\": Input/output error (5)\n",
            "rsync: recv_generator: failed to stat \"/content/drive/MyDrive/cv-corpus-9.0-2022-04-27/fa/clips/common_voice_fa_18202376.mp3\": Input/output error (5)\n",
            "rsync: recv_generator: failed to stat \"/content/drive/MyDrive/cv-corpus-9.0-2022-04-27/fa/clips/common_voice_fa_18202377.mp3\": Input/output error (5)\n",
            "rsync: recv_generator: failed to stat \"/content/drive/MyDrive/cv-corpus-9.0-2022-04-27/fa/clips/common_voice_fa_18202378.mp3\": Input/output error (5)\n",
            "rsync: recv_generator: failed to stat \"/content/drive/MyDrive/cv-corpus-9.0-2022-04-27/fa/clips/common_voice_fa_18202379.mp3\": Input/output error (5)\n",
            "rsync: recv_generator: failed to stat \"/content/drive/MyDrive/cv-corpus-9.0-2022-04-27/fa/clips/common_voice_fa_18202385.mp3\": Input/output error (5)\n",
            "rsync: recv_generator: failed to stat \"/content/drive/MyDrive/cv-corpus-9.0-2022-04-27/fa/clips/common_voice_fa_18202387.mp3\": Input/output error (5)\n",
            "rsync: recv_generator: failed to stat \"/content/drive/MyDrive/cv-corpus-9.0-2022-04-27/fa/clips/common_voice_fa_18202390.mp3\": Input/output error (5)\n",
            "rsync: recv_generator: failed to stat \"/content/drive/MyDrive/cv-corpus-9.0-2022-04-27/fa/clips/common_voice_fa_18202391.mp3\": Input/output error (5)\n",
            "rsync: recv_generator: failed to stat \"/content/drive/MyDrive/cv-corpus-9.0-2022-04-27/fa/clips/common_voice_fa_18202393.mp3\": Input/output error (5)\n",
            "rsync error: some files/attrs were not transferred (see previous errors) (code 23) at main.c(1196) [sender=3.1.2]\n"
          ]
        }
      ]
    },
    {
      "cell_type": "code",
      "execution_count": null,
      "metadata": {
        "id": "K_7ei9spz1Z6"
      },
      "outputs": [],
      "source": [
        "import os\n",
        "# os.chdir('/content/drive/MyDrive')\n",
        "os.chdir('/content/drive/MyDrive/cv-corpus-9.0-2022-04-27')\n"
      ]
    },
    {
      "cell_type": "code",
      "source": [
        "!wget https://mozilla-common-voice-datasets.s3.dualstack.us-west-2.amazonaws.com/cv-corpus-9.0-2022-04-27/cv-corpus-9.0-2022-04-27-fa.tar.gz"
      ],
      "metadata": {
        "colab": {
          "base_uri": "https://localhost:8080/"
        },
        "id": "7LraI53YK1Ca",
        "outputId": "b1d93547-9678-4ace-aadb-dc1a54f72891"
      },
      "execution_count": null,
      "outputs": [
        {
          "output_type": "stream",
          "name": "stdout",
          "text": [
            "--2022-06-16 11:01:17--  https://mozilla-common-voice-datasets.s3.dualstack.us-west-2.amazonaws.com/cv-corpus-9.0-2022-04-27/cv-corpus-9.0-2022-04-27-fa.tar.gz\n",
            "Resolving mozilla-common-voice-datasets.s3.dualstack.us-west-2.amazonaws.com (mozilla-common-voice-datasets.s3.dualstack.us-west-2.amazonaws.com)... 52.92.131.194, 2600:1fa0:40df:a7c8:345c:b072::\n",
            "Connecting to mozilla-common-voice-datasets.s3.dualstack.us-west-2.amazonaws.com (mozilla-common-voice-datasets.s3.dualstack.us-west-2.amazonaws.com)|52.92.131.194|:443... connected.\n",
            "HTTP request sent, awaiting response... 200 OK\n",
            "Length: 10032969547 (9.3G) [application/octet-stream]\n",
            "Saving to: ‘cv-corpus-9.0-2022-04-27-fa.tar.gz’\n",
            "\n",
            "cv-corpus-9.0-2022- 100%[===================>]   9.34G  46.1MB/s    in 3m 33s  \n",
            "\n",
            "2022-06-16 11:04:50 (45.0 MB/s) - ‘cv-corpus-9.0-2022-04-27-fa.tar.gz’ saved [10032969547/10032969547]\n",
            "\n"
          ]
        }
      ]
    },
    {
      "cell_type": "code",
      "source": [
        "!tar -xzf /content/cv-corpus-9.0-2022-04-27-fa.tar.gz"
      ],
      "metadata": {
        "id": "b_vNuz9wbX1-"
      },
      "execution_count": null,
      "outputs": []
    },
    {
      "cell_type": "code",
      "execution_count": null,
      "metadata": {
        "id": "ooQ5RPBMBn61",
        "colab": {
          "base_uri": "https://localhost:8080/"
        },
        "outputId": "cce7ede7-6e9f-44a4-9883-bc07c8e7fc03"
      },
      "outputs": [
        {
          "output_type": "stream",
          "name": "stdout",
          "text": [
            "cv-corpus-9.0-2022-04-27  fa\n"
          ]
        }
      ],
      "source": [
        "!ls"
      ]
    },
    {
      "cell_type": "code",
      "execution_count": null,
      "metadata": {
        "colab": {
          "base_uri": "https://localhost:8080/"
        },
        "id": "2yrGEGWq0uRK",
        "outputId": "94d0c1dc-60b6-4efe-bd52-e996a250ebf5"
      },
      "outputs": [
        {
          "output_type": "stream",
          "name": "stdout",
          "text": [
            "env: LC_ALL=C.UTF-8\n",
            "env: LANG=C.UTF-8\n",
            "env: TRANSFORMERS_CACHE=/content/cache\n",
            "env: HF_DATASETS_CACHE=/content/cache\n",
            "env: CUDA_LAUNCH_BLOCKING=1\n"
          ]
        }
      ],
      "source": [
        "%env LC_ALL=C.UTF-8\n",
        "%env LANG=C.UTF-8\n",
        "%env TRANSFORMERS_CACHE=/content/cache\n",
        "%env HF_DATASETS_CACHE=/content/cache\n",
        "%env CUDA_LAUNCH_BLOCKING=1"
      ]
    },
    {
      "cell_type": "code",
      "execution_count": null,
      "metadata": {
        "colab": {
          "base_uri": "https://localhost:8080/"
        },
        "id": "FA73P7Cx0k9B",
        "outputId": "dc327d68-a0c1-4884-a6b8-faad51f0d5de"
      },
      "outputs": [
        {
          "name": "stdout",
          "output_type": "stream",
          "text": [
            "XLSR-53  cv-corpus-9.0-2022-04-27  vocab.json\n"
          ]
        }
      ],
      "source": [
        "!ls"
      ]
    },
    {
      "cell_type": "code",
      "execution_count": null,
      "metadata": {
        "id": "D7u22m2403KZ"
      },
      "outputs": [],
      "source": [
        "%%capture\n",
        "!pip install -U datasets\n",
        "!pip install -U transformers\n",
        "!pip install torchaudio\n",
        "!pip install librosa\n",
        "!pip install jiwer\n",
        "!pip install hazm\n",
        "!pip install num2fawords"
      ]
    },
    {
      "cell_type": "code",
      "execution_count": null,
      "metadata": {
        "id": "6XtTf7UZidoV"
      },
      "outputs": [],
      "source": [
        "# %%capture\n",
        "# !pip install git+https://github.com/huggingface/datasets.git\n",
        "# !pip install git+https://github.com/huggingface/transformers.git\n",
        "# !pip install torchaudio\n",
        "# !pip install librosa\n",
        "# !pip install jiwer\n",
        "# !pip install wandb"
      ]
    },
    {
      "cell_type": "code",
      "execution_count": null,
      "metadata": {
        "colab": {
          "base_uri": "https://localhost:8080/"
        },
        "id": "iG1lqJdQp9SP",
        "outputId": "6a5298a7-13a7-4b39-ea84-379c0a1d9af7"
      },
      "outputs": [
        {
          "name": "stdout",
          "output_type": "stream",
          "text": [
            "Looking in indexes: https://pypi.org/simple, https://us-python.pkg.dev/colab-wheels/public/simple/\n",
            "Requirement already satisfied: pydub in /usr/local/lib/python3.7/dist-packages (0.25.1)\n",
            "Looking in indexes: https://pypi.org/simple, https://us-python.pkg.dev/colab-wheels/public/simple/\n",
            "Requirement already satisfied: pythainlp==2.3.1 in /usr/local/lib/python3.7/dist-packages (2.3.1)\n",
            "Requirement already satisfied: requests>=2.22.0 in /usr/local/lib/python3.7/dist-packages (from pythainlp==2.3.1) (2.23.0)\n",
            "Requirement already satisfied: python-crfsuite>=0.9.6 in /usr/local/lib/python3.7/dist-packages (from pythainlp==2.3.1) (0.9.8)\n",
            "Requirement already satisfied: tinydb>=3.0 in /usr/local/lib/python3.7/dist-packages (from pythainlp==2.3.1) (4.7.0)\n",
            "Requirement already satisfied: idna<3,>=2.5 in /usr/local/lib/python3.7/dist-packages (from requests>=2.22.0->pythainlp==2.3.1) (2.10)\n",
            "Requirement already satisfied: certifi>=2017.4.17 in /usr/local/lib/python3.7/dist-packages (from requests>=2.22.0->pythainlp==2.3.1) (2022.5.18.1)\n",
            "Requirement already satisfied: urllib3!=1.25.0,!=1.25.1,<1.26,>=1.21.1 in /usr/local/lib/python3.7/dist-packages (from requests>=2.22.0->pythainlp==2.3.1) (1.25.11)\n",
            "Requirement already satisfied: chardet<4,>=3.0.2 in /usr/local/lib/python3.7/dist-packages (from requests>=2.22.0->pythainlp==2.3.1) (3.0.4)\n",
            "Requirement already satisfied: typing-extensions<5.0.0,>=3.10.0 in /usr/local/lib/python3.7/dist-packages (from tinydb>=3.0->pythainlp==2.3.1) (4.2.0)\n",
            "Looking in indexes: https://pypi.org/simple, https://us-python.pkg.dev/colab-wheels/public/simple/\n",
            "Requirement already satisfied: ipywidgets in /usr/local/lib/python3.7/dist-packages (7.7.0)\n",
            "Requirement already satisfied: ipython-genutils~=0.2.0 in /usr/local/lib/python3.7/dist-packages (from ipywidgets) (0.2.0)\n",
            "Requirement already satisfied: traitlets>=4.3.1 in /usr/local/lib/python3.7/dist-packages (from ipywidgets) (5.1.1)\n",
            "Requirement already satisfied: ipython>=4.0.0 in /usr/local/lib/python3.7/dist-packages (from ipywidgets) (5.5.0)\n",
            "Requirement already satisfied: ipykernel>=4.5.1 in /usr/local/lib/python3.7/dist-packages (from ipywidgets) (4.10.1)\n",
            "Requirement already satisfied: widgetsnbextension~=3.6.0 in /usr/local/lib/python3.7/dist-packages (from ipywidgets) (3.6.0)\n",
            "Requirement already satisfied: nbformat>=4.2.0 in /usr/local/lib/python3.7/dist-packages (from ipywidgets) (5.4.0)\n",
            "Requirement already satisfied: jupyterlab-widgets>=1.0.0 in /usr/local/lib/python3.7/dist-packages (from ipywidgets) (1.1.0)\n",
            "Requirement already satisfied: tornado>=4.0 in /usr/local/lib/python3.7/dist-packages (from ipykernel>=4.5.1->ipywidgets) (5.1.1)\n",
            "Requirement already satisfied: jupyter-client in /usr/local/lib/python3.7/dist-packages (from ipykernel>=4.5.1->ipywidgets) (5.3.5)\n",
            "Requirement already satisfied: decorator in /usr/local/lib/python3.7/dist-packages (from ipython>=4.0.0->ipywidgets) (4.4.2)\n",
            "Requirement already satisfied: pygments in /usr/local/lib/python3.7/dist-packages (from ipython>=4.0.0->ipywidgets) (2.6.1)\n",
            "Requirement already satisfied: pexpect in /usr/local/lib/python3.7/dist-packages (from ipython>=4.0.0->ipywidgets) (4.8.0)\n",
            "Requirement already satisfied: simplegeneric>0.8 in /usr/local/lib/python3.7/dist-packages (from ipython>=4.0.0->ipywidgets) (0.8.1)\n",
            "Requirement already satisfied: prompt-toolkit<2.0.0,>=1.0.4 in /usr/local/lib/python3.7/dist-packages (from ipython>=4.0.0->ipywidgets) (1.0.18)\n",
            "Requirement already satisfied: pickleshare in /usr/local/lib/python3.7/dist-packages (from ipython>=4.0.0->ipywidgets) (0.7.5)\n",
            "Requirement already satisfied: setuptools>=18.5 in /usr/local/lib/python3.7/dist-packages (from ipython>=4.0.0->ipywidgets) (57.4.0)\n",
            "Requirement already satisfied: jupyter-core in /usr/local/lib/python3.7/dist-packages (from nbformat>=4.2.0->ipywidgets) (4.10.0)\n",
            "Requirement already satisfied: fastjsonschema in /usr/local/lib/python3.7/dist-packages (from nbformat>=4.2.0->ipywidgets) (2.15.3)\n",
            "Requirement already satisfied: jsonschema>=2.6 in /usr/local/lib/python3.7/dist-packages (from nbformat>=4.2.0->ipywidgets) (4.3.3)\n",
            "Requirement already satisfied: importlib-resources>=1.4.0 in /usr/local/lib/python3.7/dist-packages (from jsonschema>=2.6->nbformat>=4.2.0->ipywidgets) (5.7.1)\n",
            "Requirement already satisfied: attrs>=17.4.0 in /usr/local/lib/python3.7/dist-packages (from jsonschema>=2.6->nbformat>=4.2.0->ipywidgets) (21.4.0)\n",
            "Requirement already satisfied: typing-extensions in /usr/local/lib/python3.7/dist-packages (from jsonschema>=2.6->nbformat>=4.2.0->ipywidgets) (4.2.0)\n",
            "Requirement already satisfied: pyrsistent!=0.17.0,!=0.17.1,!=0.17.2,>=0.14.0 in /usr/local/lib/python3.7/dist-packages (from jsonschema>=2.6->nbformat>=4.2.0->ipywidgets) (0.18.1)\n",
            "Requirement already satisfied: importlib-metadata in /usr/local/lib/python3.7/dist-packages (from jsonschema>=2.6->nbformat>=4.2.0->ipywidgets) (4.11.4)\n",
            "Requirement already satisfied: zipp>=3.1.0 in /usr/local/lib/python3.7/dist-packages (from importlib-resources>=1.4.0->jsonschema>=2.6->nbformat>=4.2.0->ipywidgets) (3.8.0)\n",
            "Requirement already satisfied: six>=1.9.0 in /usr/local/lib/python3.7/dist-packages (from prompt-toolkit<2.0.0,>=1.0.4->ipython>=4.0.0->ipywidgets) (1.15.0)\n",
            "Requirement already satisfied: wcwidth in /usr/local/lib/python3.7/dist-packages (from prompt-toolkit<2.0.0,>=1.0.4->ipython>=4.0.0->ipywidgets) (0.2.5)\n",
            "Requirement already satisfied: notebook>=4.4.1 in /usr/local/lib/python3.7/dist-packages (from widgetsnbextension~=3.6.0->ipywidgets) (5.3.1)\n",
            "Requirement already satisfied: jinja2 in /usr/local/lib/python3.7/dist-packages (from notebook>=4.4.1->widgetsnbextension~=3.6.0->ipywidgets) (2.11.3)\n",
            "Requirement already satisfied: terminado>=0.8.1 in /usr/local/lib/python3.7/dist-packages (from notebook>=4.4.1->widgetsnbextension~=3.6.0->ipywidgets) (0.13.3)\n",
            "Requirement already satisfied: nbconvert in /usr/local/lib/python3.7/dist-packages (from notebook>=4.4.1->widgetsnbextension~=3.6.0->ipywidgets) (5.6.1)\n",
            "Requirement already satisfied: Send2Trash in /usr/local/lib/python3.7/dist-packages (from notebook>=4.4.1->widgetsnbextension~=3.6.0->ipywidgets) (1.8.0)\n",
            "Requirement already satisfied: python-dateutil>=2.1 in /usr/local/lib/python3.7/dist-packages (from jupyter-client->ipykernel>=4.5.1->ipywidgets) (2.8.2)\n",
            "Requirement already satisfied: pyzmq>=13 in /usr/local/lib/python3.7/dist-packages (from jupyter-client->ipykernel>=4.5.1->ipywidgets) (23.0.0)\n",
            "Requirement already satisfied: ptyprocess in /usr/local/lib/python3.7/dist-packages (from terminado>=0.8.1->notebook>=4.4.1->widgetsnbextension~=3.6.0->ipywidgets) (0.7.0)\n",
            "Requirement already satisfied: MarkupSafe>=0.23 in /usr/local/lib/python3.7/dist-packages (from jinja2->notebook>=4.4.1->widgetsnbextension~=3.6.0->ipywidgets) (2.0.1)\n",
            "Requirement already satisfied: bleach in /usr/local/lib/python3.7/dist-packages (from nbconvert->notebook>=4.4.1->widgetsnbextension~=3.6.0->ipywidgets) (5.0.0)\n",
            "Requirement already satisfied: pandocfilters>=1.4.1 in /usr/local/lib/python3.7/dist-packages (from nbconvert->notebook>=4.4.1->widgetsnbextension~=3.6.0->ipywidgets) (1.5.0)\n",
            "Requirement already satisfied: defusedxml in /usr/local/lib/python3.7/dist-packages (from nbconvert->notebook>=4.4.1->widgetsnbextension~=3.6.0->ipywidgets) (0.7.1)\n",
            "Requirement already satisfied: testpath in /usr/local/lib/python3.7/dist-packages (from nbconvert->notebook>=4.4.1->widgetsnbextension~=3.6.0->ipywidgets) (0.6.0)\n",
            "Requirement already satisfied: mistune<2,>=0.8.1 in /usr/local/lib/python3.7/dist-packages (from nbconvert->notebook>=4.4.1->widgetsnbextension~=3.6.0->ipywidgets) (0.8.4)\n",
            "Requirement already satisfied: entrypoints>=0.2.2 in /usr/local/lib/python3.7/dist-packages (from nbconvert->notebook>=4.4.1->widgetsnbextension~=3.6.0->ipywidgets) (0.4)\n",
            "Requirement already satisfied: webencodings in /usr/local/lib/python3.7/dist-packages (from bleach->nbconvert->notebook>=4.4.1->widgetsnbextension~=3.6.0->ipywidgets) (0.5.1)\n"
          ]
        }
      ],
      "source": [
        "# %pip install pydub\n",
        "# %pip install pythainlp==2.3.1\n",
        "# %pip install ipywidgets"
      ]
    },
    {
      "cell_type": "code",
      "execution_count": null,
      "metadata": {
        "colab": {
          "base_uri": "https://localhost:8080/"
        },
        "id": "bgkB2nzH_MO3",
        "outputId": "fd070ba9-a5f7-4751-c888-5806c6fe99ce"
      },
      "outputs": [
        {
          "output_type": "stream",
          "name": "stdout",
          "text": [
            "--2022-06-15 12:40:17--  https://mozilla-common-voice-datasets.s3.dualstack.us-west-2.amazonaws.com/cv-corpus-9.0-2022-04-27/cv-corpus-9.0-2022-04-27-fa.tar.gz\n",
            "Resolving mozilla-common-voice-datasets.s3.dualstack.us-west-2.amazonaws.com (mozilla-common-voice-datasets.s3.dualstack.us-west-2.amazonaws.com)... 52.218.205.129, 2600:1fa0:4060:e09:34da:eab9::\n",
            "Connecting to mozilla-common-voice-datasets.s3.dualstack.us-west-2.amazonaws.com (mozilla-common-voice-datasets.s3.dualstack.us-west-2.amazonaws.com)|52.218.205.129|:443... connected.\n",
            "HTTP request sent, awaiting response... 200 OK\n",
            "Length: 10032969547 (9.3G) [application/octet-stream]\n",
            "Saving to: ‘cv-corpus-9.0-2022-04-27-fa.tar.gz’\n",
            "\n",
            "cv-corpus-9.0-2022- 100%[===================>]   9.34G  33.6MB/s    in 4m 46s  \n",
            "\n",
            "2022-06-15 12:45:04 (33.5 MB/s) - ‘cv-corpus-9.0-2022-04-27-fa.tar.gz’ saved [10032969547/10032969547]\n",
            "\n"
          ]
        }
      ],
      "source": [
        "!wget https://mozilla-common-voice-datasets.s3.dualstack.us-west-2.amazonaws.com/cv-corpus-9.0-2022-04-27/cv-corpus-9.0-2022-04-27-fa.tar.gz"
      ]
    },
    {
      "cell_type": "code",
      "execution_count": null,
      "metadata": {
        "id": "j5kGQPyZJqLG"
      },
      "outputs": [],
      "source": [
        "!tar -xzf /content/cv-corpus-9.0-2022-04-27-fa.tar.gz"
      ]
    },
    {
      "cell_type": "code",
      "execution_count": null,
      "metadata": {
        "id": "DhNC_Y-oXJBY"
      },
      "outputs": [],
      "source": [
        "# !rm -rf cv-corpus-9.0-2022-04-27-fa.tar.gz"
      ]
    },
    {
      "cell_type": "code",
      "execution_count": null,
      "metadata": {
        "id": "uxcljooMXblT"
      },
      "outputs": [],
      "source": [
        "from datasets import load_dataset, load_metric\n",
        "\n",
        "import pandas as pd\n",
        "import numpy as np\n",
        "\n",
        "import hazm\n",
        "from num2fawords import words, ordinal_words\n",
        "from tqdm import tqdm\n",
        "\n",
        "from sklearn.model_selection import train_test_split\n",
        "\n",
        "import os\n",
        "import string\n",
        "import six\n",
        "import re\n",
        "import glob"
      ]
    },
    {
      "cell_type": "code",
      "execution_count": null,
      "metadata": {
        "id": "J7arPfkVJd5K"
      },
      "outputs": [],
      "source": [
        "_normalizer = hazm.Normalizer()\n",
        "\n",
        "chars_to_ignore = [\n",
        "    \",\", \"?\", \".\", \"!\", \"-\", \";\", \":\", '\"\"', \"%\", \"'\", '\"', \"�\",\n",
        "    \"#\", \"!\", \"؟\", \"?\", \"«\", \"»\", \"،\", \"(\", \")\", \"؛\", \"'ٔ\", \"٬\",'ٔ', \",\", \"?\", \n",
        "    \".\", \"!\", \"-\", \";\", \":\",'\"',\"“\", \"%\", \"‘\", \"”\", \"�\", \"–\", \"…\", \"_\", \"”\", '“', '„',\n",
        "    'ā', 'š',\n",
        "#     \"ء\",\n",
        "]\n",
        "\n",
        "# In case of farsi\n",
        "chars_to_ignore = chars_to_ignore + list(string.ascii_lowercase + string.digits)\n",
        "\n",
        "chars_to_mapping = {\n",
        "    'ك': 'ک', 'دِ': 'د', 'بِ': 'ب', 'زِ': 'ز', 'ذِ': 'ذ', 'شِ': 'ش', 'سِ': 'س', 'ى': 'ی',\n",
        "    'ي': 'ی', 'أ': 'ا', 'ؤ': 'و', \"ے\": \"ی\", \"ۀ\": \"ه\", \"ﭘ\": \"پ\", \"ﮐ\": \"ک\", \"ﯽ\": \"ی\",\n",
        "    \"ﺎ\": \"ا\", \"ﺑ\": \"ب\", \"ﺘ\": \"ت\", \"ﺧ\": \"خ\", \"ﺩ\": \"د\", \"ﺱ\": \"س\", \"ﻀ\": \"ض\", \"ﻌ\": \"ع\",\n",
        "    \"ﻟ\": \"ل\", \"ﻡ\": \"م\", \"ﻢ\": \"م\", \"ﻪ\": \"ه\", \"ﻮ\": \"و\", 'ﺍ': \"ا\", 'ة': \"ه\",\n",
        "    'ﯾ': \"ی\", 'ﯿ': \"ی\", 'ﺒ': \"ب\", 'ﺖ': \"ت\", 'ﺪ': \"د\", 'ﺮ': \"ر\", 'ﺴ': \"س\", 'ﺷ': \"ش\",\n",
        "    'ﺸ': \"ش\", 'ﻋ': \"ع\", 'ﻤ': \"م\", 'ﻥ': \"ن\", 'ﻧ': \"ن\", 'ﻭ': \"و\", 'ﺭ': \"ر\", \"ﮔ\": \"گ\",\n",
        "        \n",
        "    # \"ها\": \"  ها\", \"ئ\": \"ی\",\n",
        "    \"۱۴ام\": \"۱۴ ام\",\n",
        "        \n",
        "    \"a\": \" ای \", \"b\": \" بی \", \"c\": \" سی \", \"d\": \" دی \", \"e\": \" ایی \", \"f\": \" اف \",\n",
        "    \"g\": \" جی \", \"h\": \" اچ \", \"i\": \" آی \", \"j\": \" جی \", \"k\": \" کی \", \"l\": \" ال \",\n",
        "    \"m\": \" ام \", \"n\": \" ان \", \"o\": \" او \", \"p\": \" پی \", \"q\": \" کیو \", \"r\": \" آر \",\n",
        "    \"s\": \" اس \", \"t\": \" تی \", \"u\": \" یو \", \"v\": \" وی \", \"w\": \" دبلیو \", \"x\": \" اکس \",\n",
        "    \"y\": \" وای \", \"z\": \" زد \",\n",
        "    \"\\u200c\": \" \", \"\\u200d\": \" \", \"\\u200e\": \" \", \"\\u200f\": \" \", \"\\ufeff\": \" \",\n",
        "}\n",
        "\n",
        "\n",
        "def multiple_replace(text, chars_to_mapping):\n",
        "    pattern = \"|\".join(map(re.escape, chars_to_mapping.keys()))\n",
        "    return re.sub(pattern, lambda m: chars_to_mapping[m.group()], str(text))\n",
        "\n",
        "def remove_special_characters(text, chars_to_ignore_regex):\n",
        "    text = re.sub(chars_to_ignore_regex, '', text).lower() + \" \"\n",
        "    return text\n",
        "\n",
        "def normalizer(text, chars_to_ignore=chars_to_ignore, chars_to_mapping=chars_to_mapping):\n",
        "    chars_to_ignore_regex = f\"\"\"[{\"\".join(chars_to_ignore)}]\"\"\"\n",
        "    text = text.lower().strip()\n",
        "\n",
        "    text = _normalizer.normalize(text)\n",
        "    text = multiple_replace(text, chars_to_mapping)\n",
        "    text = remove_special_characters(text, chars_to_ignore_regex)\n",
        "    text = re.sub(\" +\", \" \", text)\n",
        "    _text = []\n",
        "    for word in text.split():\n",
        "        try:\n",
        "            word = int(word)\n",
        "            _text.append(words(word))\n",
        "        except:\n",
        "            _text.append(word)\n",
        "            \n",
        "    text = \" \".join(_text) + \" \"\n",
        "    text = text.strip()\n",
        "\n",
        "    if not len(text) > 0:\n",
        "        return None\n",
        "    \n",
        "    return text + \" \""
      ]
    },
    {
      "cell_type": "code",
      "execution_count": null,
      "metadata": {
        "colab": {
          "base_uri": "https://localhost:8080/"
        },
        "id": "mIhjiLfijMPO",
        "outputId": "918d7d41-11bb-4083-d246-2559e07962c6"
      },
      "outputs": [
        {
          "output_type": "stream",
          "name": "stdout",
          "text": [
            "clips\t invalidated.tsv  reported.tsv\ttrain.tsv\n",
            "dev.tsv  other.tsv\t  test.tsv\tvalidated.tsv\n"
          ]
        }
      ],
      "source": [
        "abs_path_to_data = os.path.join(\"/content/drive/MyDrive/cv-corpus-9.0-2022-04-27/fa\")\n",
        "!ls {abs_path_to_data}"
      ]
    },
    {
      "cell_type": "code",
      "execution_count": null,
      "metadata": {
        "colab": {
          "base_uri": "https://localhost:8080/"
        },
        "id": "Mi-WeX_KD54D",
        "outputId": "35b6b972-8da9-4496-a7eb-a61893c63bcd"
      },
      "outputs": [
        {
          "output_type": "stream",
          "name": "stdout",
          "text": [
            "/content/drive/MyDrive/cv-corpus-9.0-2022-04-27/fa/dev.tsv\n",
            "/content/drive/MyDrive/cv-corpus-9.0-2022-04-27/fa/invalidated.tsv\n",
            "/content/drive/MyDrive/cv-corpus-9.0-2022-04-27/fa/other.tsv\n",
            "/content/drive/MyDrive/cv-corpus-9.0-2022-04-27/fa/reported.tsv\n",
            "/content/drive/MyDrive/cv-corpus-9.0-2022-04-27/fa/test.tsv\n",
            "/content/drive/MyDrive/cv-corpus-9.0-2022-04-27/fa/train.tsv\n",
            "/content/drive/MyDrive/cv-corpus-9.0-2022-04-27/fa/validated.tsv\n"
          ]
        }
      ],
      "source": [
        "abs_path_to_data = os.path.join(\"/content/drive/MyDrive\", \"cv-corpus-9.0-2022-04-27\", \"fa\")\n",
        "!ls {abs_path_to_data}/*.tsv"
      ]
    },
    {
      "cell_type": "code",
      "source": [
        "train: pd.DataFrame = pd.read_csv(\"/content/cv-corpus-9.0-2022-04-27/fa/train.tsv\", delimiter=\"\\t\")\n",
        "train[\"set\"] = \"train\"\n",
        "dev: pd.DataFrame = pd.read_csv(\"/content/cv-corpus-9.0-2022-04-27/fa/dev.tsv\", delimiter=\"\\t\")\n",
        "dev[\"set\"] = \"dev\"\n",
        "test: pd.DataFrame = pd.read_csv(\"/content/cv-corpus-9.0-2022-04-27/fa/test.tsv\", delimiter=\"\\t\")\n",
        "test[\"set\"] = \"test\"\n",
        "data: pd.DataFrame = pd.read_csv(\"/content/cv-corpus-9.0-2022-04-27/fa/validated.tsv\", delimiter=\"\\t\")\n",
        "\n",
        "command: str = \"sox {mp3_path} -t wav -r {sr} -c 1 -b 16 - |\"\n",
        "\n",
        "#     break\n",
        "    \n",
        "df = pd.DataFrame(train)\n",
        "# df=df[\"client_id\",\"path\",\"sentence\",\"gender\"]\n",
        "df.head()"
      ],
      "metadata": {
        "colab": {
          "base_uri": "https://localhost:8080/",
          "height": 600
        },
        "id": "-Th8GT9eNeR9",
        "outputId": "88107811-f629-4fe8-f32c-4454bce5fb05"
      },
      "execution_count": null,
      "outputs": [
        {
          "output_type": "stream",
          "name": "stderr",
          "text": [
            "/usr/local/lib/python3.7/dist-packages/IPython/core/interactiveshell.py:2882: DtypeWarning: Columns (7) have mixed types.Specify dtype option on import or set low_memory=False.\n",
            "  exec(code_obj, self.user_global_ns, self.user_ns)\n"
          ]
        },
        {
          "output_type": "execute_result",
          "data": {
            "text/plain": [
              "                                           client_id  \\\n",
              "0  dfdeffdc55c8a41487b142ba5afb354d8eb081822ed326...   \n",
              "1  dfdeffdc55c8a41487b142ba5afb354d8eb081822ed326...   \n",
              "2  dfdeffdc55c8a41487b142ba5afb354d8eb081822ed326...   \n",
              "3  dfdeffdc55c8a41487b142ba5afb354d8eb081822ed326...   \n",
              "4  dfdeffdc55c8a41487b142ba5afb354d8eb081822ed326...   \n",
              "\n",
              "                           path                                      sentence  \\\n",
              "0  common_voice_fa_25244256.mp3  او نسبت به هم مدرسهای خود محبت کودکانه داشت.   \n",
              "1  common_voice_fa_25244257.mp3   او هرگونه اطلاع دربارهی توطئه را انکار کرد.   \n",
              "2  common_voice_fa_25244258.mp3  اکنون میتوانی همهی نقشههای خود را آشکار کنی.   \n",
              "3  common_voice_fa_25244259.mp3                    اکثر پرندگان تخم میگذارند.   \n",
              "4  common_voice_fa_25244260.mp3          با این تهدیدها نمیتوانی مرا بترسانی!   \n",
              "\n",
              "   up_votes  down_votes  age gender accents locale  segment    set  \n",
              "0         2           0  NaN    NaN     NaN     fa      NaN  train  \n",
              "1         2           0  NaN    NaN     NaN     fa      NaN  train  \n",
              "2         2           0  NaN    NaN     NaN     fa      NaN  train  \n",
              "3         2           0  NaN    NaN     NaN     fa      NaN  train  \n",
              "4         2           0  NaN    NaN     NaN     fa      NaN  train  "
            ],
            "text/html": [
              "\n",
              "  <div id=\"df-415adcc0-d38a-487c-8ce8-1ddb8f7332ae\">\n",
              "    <div class=\"colab-df-container\">\n",
              "      <div>\n",
              "<style scoped>\n",
              "    .dataframe tbody tr th:only-of-type {\n",
              "        vertical-align: middle;\n",
              "    }\n",
              "\n",
              "    .dataframe tbody tr th {\n",
              "        vertical-align: top;\n",
              "    }\n",
              "\n",
              "    .dataframe thead th {\n",
              "        text-align: right;\n",
              "    }\n",
              "</style>\n",
              "<table border=\"1\" class=\"dataframe\">\n",
              "  <thead>\n",
              "    <tr style=\"text-align: right;\">\n",
              "      <th></th>\n",
              "      <th>client_id</th>\n",
              "      <th>path</th>\n",
              "      <th>sentence</th>\n",
              "      <th>up_votes</th>\n",
              "      <th>down_votes</th>\n",
              "      <th>age</th>\n",
              "      <th>gender</th>\n",
              "      <th>accents</th>\n",
              "      <th>locale</th>\n",
              "      <th>segment</th>\n",
              "      <th>set</th>\n",
              "    </tr>\n",
              "  </thead>\n",
              "  <tbody>\n",
              "    <tr>\n",
              "      <th>0</th>\n",
              "      <td>dfdeffdc55c8a41487b142ba5afb354d8eb081822ed326...</td>\n",
              "      <td>common_voice_fa_25244256.mp3</td>\n",
              "      <td>او نسبت به هم مدرسهای خود محبت کودکانه داشت.</td>\n",
              "      <td>2</td>\n",
              "      <td>0</td>\n",
              "      <td>NaN</td>\n",
              "      <td>NaN</td>\n",
              "      <td>NaN</td>\n",
              "      <td>fa</td>\n",
              "      <td>NaN</td>\n",
              "      <td>train</td>\n",
              "    </tr>\n",
              "    <tr>\n",
              "      <th>1</th>\n",
              "      <td>dfdeffdc55c8a41487b142ba5afb354d8eb081822ed326...</td>\n",
              "      <td>common_voice_fa_25244257.mp3</td>\n",
              "      <td>او هرگونه اطلاع دربارهی توطئه را انکار کرد.</td>\n",
              "      <td>2</td>\n",
              "      <td>0</td>\n",
              "      <td>NaN</td>\n",
              "      <td>NaN</td>\n",
              "      <td>NaN</td>\n",
              "      <td>fa</td>\n",
              "      <td>NaN</td>\n",
              "      <td>train</td>\n",
              "    </tr>\n",
              "    <tr>\n",
              "      <th>2</th>\n",
              "      <td>dfdeffdc55c8a41487b142ba5afb354d8eb081822ed326...</td>\n",
              "      <td>common_voice_fa_25244258.mp3</td>\n",
              "      <td>اکنون میتوانی همهی نقشههای خود را آشکار کنی.</td>\n",
              "      <td>2</td>\n",
              "      <td>0</td>\n",
              "      <td>NaN</td>\n",
              "      <td>NaN</td>\n",
              "      <td>NaN</td>\n",
              "      <td>fa</td>\n",
              "      <td>NaN</td>\n",
              "      <td>train</td>\n",
              "    </tr>\n",
              "    <tr>\n",
              "      <th>3</th>\n",
              "      <td>dfdeffdc55c8a41487b142ba5afb354d8eb081822ed326...</td>\n",
              "      <td>common_voice_fa_25244259.mp3</td>\n",
              "      <td>اکثر پرندگان تخم میگذارند.</td>\n",
              "      <td>2</td>\n",
              "      <td>0</td>\n",
              "      <td>NaN</td>\n",
              "      <td>NaN</td>\n",
              "      <td>NaN</td>\n",
              "      <td>fa</td>\n",
              "      <td>NaN</td>\n",
              "      <td>train</td>\n",
              "    </tr>\n",
              "    <tr>\n",
              "      <th>4</th>\n",
              "      <td>dfdeffdc55c8a41487b142ba5afb354d8eb081822ed326...</td>\n",
              "      <td>common_voice_fa_25244260.mp3</td>\n",
              "      <td>با این تهدیدها نمیتوانی مرا بترسانی!</td>\n",
              "      <td>2</td>\n",
              "      <td>0</td>\n",
              "      <td>NaN</td>\n",
              "      <td>NaN</td>\n",
              "      <td>NaN</td>\n",
              "      <td>fa</td>\n",
              "      <td>NaN</td>\n",
              "      <td>train</td>\n",
              "    </tr>\n",
              "  </tbody>\n",
              "</table>\n",
              "</div>\n",
              "      <button class=\"colab-df-convert\" onclick=\"convertToInteractive('df-415adcc0-d38a-487c-8ce8-1ddb8f7332ae')\"\n",
              "              title=\"Convert this dataframe to an interactive table.\"\n",
              "              style=\"display:none;\">\n",
              "        \n",
              "  <svg xmlns=\"http://www.w3.org/2000/svg\" height=\"24px\"viewBox=\"0 0 24 24\"\n",
              "       width=\"24px\">\n",
              "    <path d=\"M0 0h24v24H0V0z\" fill=\"none\"/>\n",
              "    <path d=\"M18.56 5.44l.94 2.06.94-2.06 2.06-.94-2.06-.94-.94-2.06-.94 2.06-2.06.94zm-11 1L8.5 8.5l.94-2.06 2.06-.94-2.06-.94L8.5 2.5l-.94 2.06-2.06.94zm10 10l.94 2.06.94-2.06 2.06-.94-2.06-.94-.94-2.06-.94 2.06-2.06.94z\"/><path d=\"M17.41 7.96l-1.37-1.37c-.4-.4-.92-.59-1.43-.59-.52 0-1.04.2-1.43.59L10.3 9.45l-7.72 7.72c-.78.78-.78 2.05 0 2.83L4 21.41c.39.39.9.59 1.41.59.51 0 1.02-.2 1.41-.59l7.78-7.78 2.81-2.81c.8-.78.8-2.07 0-2.86zM5.41 20L4 18.59l7.72-7.72 1.47 1.35L5.41 20z\"/>\n",
              "  </svg>\n",
              "      </button>\n",
              "      \n",
              "  <style>\n",
              "    .colab-df-container {\n",
              "      display:flex;\n",
              "      flex-wrap:wrap;\n",
              "      gap: 12px;\n",
              "    }\n",
              "\n",
              "    .colab-df-convert {\n",
              "      background-color: #E8F0FE;\n",
              "      border: none;\n",
              "      border-radius: 50%;\n",
              "      cursor: pointer;\n",
              "      display: none;\n",
              "      fill: #1967D2;\n",
              "      height: 32px;\n",
              "      padding: 0 0 0 0;\n",
              "      width: 32px;\n",
              "    }\n",
              "\n",
              "    .colab-df-convert:hover {\n",
              "      background-color: #E2EBFA;\n",
              "      box-shadow: 0px 1px 2px rgba(60, 64, 67, 0.3), 0px 1px 3px 1px rgba(60, 64, 67, 0.15);\n",
              "      fill: #174EA6;\n",
              "    }\n",
              "\n",
              "    [theme=dark] .colab-df-convert {\n",
              "      background-color: #3B4455;\n",
              "      fill: #D2E3FC;\n",
              "    }\n",
              "\n",
              "    [theme=dark] .colab-df-convert:hover {\n",
              "      background-color: #434B5C;\n",
              "      box-shadow: 0px 1px 3px 1px rgba(0, 0, 0, 0.15);\n",
              "      filter: drop-shadow(0px 1px 2px rgba(0, 0, 0, 0.3));\n",
              "      fill: #FFFFFF;\n",
              "    }\n",
              "  </style>\n",
              "\n",
              "      <script>\n",
              "        const buttonEl =\n",
              "          document.querySelector('#df-415adcc0-d38a-487c-8ce8-1ddb8f7332ae button.colab-df-convert');\n",
              "        buttonEl.style.display =\n",
              "          google.colab.kernel.accessAllowed ? 'block' : 'none';\n",
              "\n",
              "        async function convertToInteractive(key) {\n",
              "          const element = document.querySelector('#df-415adcc0-d38a-487c-8ce8-1ddb8f7332ae');\n",
              "          const dataTable =\n",
              "            await google.colab.kernel.invokeFunction('convertToInteractive',\n",
              "                                                     [key], {});\n",
              "          if (!dataTable) return;\n",
              "\n",
              "          const docLinkHtml = 'Like what you see? Visit the ' +\n",
              "            '<a target=\"_blank\" href=https://colab.research.google.com/notebooks/data_table.ipynb>data table notebook</a>'\n",
              "            + ' to learn more about interactive tables.';\n",
              "          element.innerHTML = '';\n",
              "          dataTable['output_type'] = 'display_data';\n",
              "          await google.colab.output.renderOutput(dataTable, element);\n",
              "          const docLink = document.createElement('div');\n",
              "          docLink.innerHTML = docLinkHtml;\n",
              "          element.appendChild(docLink);\n",
              "        }\n",
              "      </script>\n",
              "    </div>\n",
              "  </div>\n",
              "  "
            ]
          },
          "metadata": {},
          "execution_count": 14
        }
      ]
    },
    {
      "cell_type": "code",
      "source": [
        ""
      ],
      "metadata": {
        "id": "jwVkTxdvGy2K"
      },
      "execution_count": null,
      "outputs": []
    },
    {
      "cell_type": "code",
      "execution_count": null,
      "metadata": {
        "colab": {
          "base_uri": "https://localhost:8080/",
          "height": 600
        },
        "id": "H9rZK3agnL4r",
        "outputId": "21bcdc88-f649-4372-e216-a671ded60113"
      },
      "outputs": [
        {
          "name": "stderr",
          "output_type": "stream",
          "text": [
            "/usr/local/lib/python3.7/dist-packages/IPython/core/interactiveshell.py:2882: DtypeWarning: Columns (7) have mixed types.Specify dtype option on import or set low_memory=False.\n",
            "  exec(code_obj, self.user_global_ns, self.user_ns)\n"
          ]
        },
        {
          "data": {
            "text/html": [
              "\n",
              "  <div id=\"df-d5f1f95f-5b93-442f-884c-3e402cccac9e\">\n",
              "    <div class=\"colab-df-container\">\n",
              "      <div>\n",
              "<style scoped>\n",
              "    .dataframe tbody tr th:only-of-type {\n",
              "        vertical-align: middle;\n",
              "    }\n",
              "\n",
              "    .dataframe tbody tr th {\n",
              "        vertical-align: top;\n",
              "    }\n",
              "\n",
              "    .dataframe thead th {\n",
              "        text-align: right;\n",
              "    }\n",
              "</style>\n",
              "<table border=\"1\" class=\"dataframe\">\n",
              "  <thead>\n",
              "    <tr style=\"text-align: right;\">\n",
              "      <th></th>\n",
              "      <th>client_id</th>\n",
              "      <th>path</th>\n",
              "      <th>sentence</th>\n",
              "      <th>up_votes</th>\n",
              "      <th>down_votes</th>\n",
              "      <th>age</th>\n",
              "      <th>gender</th>\n",
              "      <th>accents</th>\n",
              "      <th>locale</th>\n",
              "      <th>segment</th>\n",
              "      <th>set</th>\n",
              "    </tr>\n",
              "  </thead>\n",
              "  <tbody>\n",
              "    <tr>\n",
              "      <th>0</th>\n",
              "      <td>dfdeffdc55c8a41487b142ba5afb354d8eb081822ed326...</td>\n",
              "      <td>common_voice_fa_25244256.mp3</td>\n",
              "      <td>او نسبت به هم مدرسهای خود محبت کودکانه داشت.</td>\n",
              "      <td>2</td>\n",
              "      <td>0</td>\n",
              "      <td>NaN</td>\n",
              "      <td>NaN</td>\n",
              "      <td>NaN</td>\n",
              "      <td>fa</td>\n",
              "      <td>NaN</td>\n",
              "      <td>train</td>\n",
              "    </tr>\n",
              "    <tr>\n",
              "      <th>1</th>\n",
              "      <td>dfdeffdc55c8a41487b142ba5afb354d8eb081822ed326...</td>\n",
              "      <td>common_voice_fa_25244257.mp3</td>\n",
              "      <td>او هرگونه اطلاع دربارهی توطئه را انکار کرد.</td>\n",
              "      <td>2</td>\n",
              "      <td>0</td>\n",
              "      <td>NaN</td>\n",
              "      <td>NaN</td>\n",
              "      <td>NaN</td>\n",
              "      <td>fa</td>\n",
              "      <td>NaN</td>\n",
              "      <td>train</td>\n",
              "    </tr>\n",
              "    <tr>\n",
              "      <th>2</th>\n",
              "      <td>dfdeffdc55c8a41487b142ba5afb354d8eb081822ed326...</td>\n",
              "      <td>common_voice_fa_25244258.mp3</td>\n",
              "      <td>اکنون میتوانی همهی نقشههای خود را آشکار کنی.</td>\n",
              "      <td>2</td>\n",
              "      <td>0</td>\n",
              "      <td>NaN</td>\n",
              "      <td>NaN</td>\n",
              "      <td>NaN</td>\n",
              "      <td>fa</td>\n",
              "      <td>NaN</td>\n",
              "      <td>train</td>\n",
              "    </tr>\n",
              "    <tr>\n",
              "      <th>3</th>\n",
              "      <td>dfdeffdc55c8a41487b142ba5afb354d8eb081822ed326...</td>\n",
              "      <td>common_voice_fa_25244259.mp3</td>\n",
              "      <td>اکثر پرندگان تخم میگذارند.</td>\n",
              "      <td>2</td>\n",
              "      <td>0</td>\n",
              "      <td>NaN</td>\n",
              "      <td>NaN</td>\n",
              "      <td>NaN</td>\n",
              "      <td>fa</td>\n",
              "      <td>NaN</td>\n",
              "      <td>train</td>\n",
              "    </tr>\n",
              "    <tr>\n",
              "      <th>4</th>\n",
              "      <td>dfdeffdc55c8a41487b142ba5afb354d8eb081822ed326...</td>\n",
              "      <td>common_voice_fa_25244260.mp3</td>\n",
              "      <td>با این تهدیدها نمیتوانی مرا بترسانی!</td>\n",
              "      <td>2</td>\n",
              "      <td>0</td>\n",
              "      <td>NaN</td>\n",
              "      <td>NaN</td>\n",
              "      <td>NaN</td>\n",
              "      <td>fa</td>\n",
              "      <td>NaN</td>\n",
              "      <td>train</td>\n",
              "    </tr>\n",
              "  </tbody>\n",
              "</table>\n",
              "</div>\n",
              "      <button class=\"colab-df-convert\" onclick=\"convertToInteractive('df-d5f1f95f-5b93-442f-884c-3e402cccac9e')\"\n",
              "              title=\"Convert this dataframe to an interactive table.\"\n",
              "              style=\"display:none;\">\n",
              "        \n",
              "  <svg xmlns=\"http://www.w3.org/2000/svg\" height=\"24px\"viewBox=\"0 0 24 24\"\n",
              "       width=\"24px\">\n",
              "    <path d=\"M0 0h24v24H0V0z\" fill=\"none\"/>\n",
              "    <path d=\"M18.56 5.44l.94 2.06.94-2.06 2.06-.94-2.06-.94-.94-2.06-.94 2.06-2.06.94zm-11 1L8.5 8.5l.94-2.06 2.06-.94-2.06-.94L8.5 2.5l-.94 2.06-2.06.94zm10 10l.94 2.06.94-2.06 2.06-.94-2.06-.94-.94-2.06-.94 2.06-2.06.94z\"/><path d=\"M17.41 7.96l-1.37-1.37c-.4-.4-.92-.59-1.43-.59-.52 0-1.04.2-1.43.59L10.3 9.45l-7.72 7.72c-.78.78-.78 2.05 0 2.83L4 21.41c.39.39.9.59 1.41.59.51 0 1.02-.2 1.41-.59l7.78-7.78 2.81-2.81c.8-.78.8-2.07 0-2.86zM5.41 20L4 18.59l7.72-7.72 1.47 1.35L5.41 20z\"/>\n",
              "  </svg>\n",
              "      </button>\n",
              "      \n",
              "  <style>\n",
              "    .colab-df-container {\n",
              "      display:flex;\n",
              "      flex-wrap:wrap;\n",
              "      gap: 12px;\n",
              "    }\n",
              "\n",
              "    .colab-df-convert {\n",
              "      background-color: #E8F0FE;\n",
              "      border: none;\n",
              "      border-radius: 50%;\n",
              "      cursor: pointer;\n",
              "      display: none;\n",
              "      fill: #1967D2;\n",
              "      height: 32px;\n",
              "      padding: 0 0 0 0;\n",
              "      width: 32px;\n",
              "    }\n",
              "\n",
              "    .colab-df-convert:hover {\n",
              "      background-color: #E2EBFA;\n",
              "      box-shadow: 0px 1px 2px rgba(60, 64, 67, 0.3), 0px 1px 3px 1px rgba(60, 64, 67, 0.15);\n",
              "      fill: #174EA6;\n",
              "    }\n",
              "\n",
              "    [theme=dark] .colab-df-convert {\n",
              "      background-color: #3B4455;\n",
              "      fill: #D2E3FC;\n",
              "    }\n",
              "\n",
              "    [theme=dark] .colab-df-convert:hover {\n",
              "      background-color: #434B5C;\n",
              "      box-shadow: 0px 1px 3px 1px rgba(0, 0, 0, 0.15);\n",
              "      filter: drop-shadow(0px 1px 2px rgba(0, 0, 0, 0.3));\n",
              "      fill: #FFFFFF;\n",
              "    }\n",
              "  </style>\n",
              "\n",
              "      <script>\n",
              "        const buttonEl =\n",
              "          document.querySelector('#df-d5f1f95f-5b93-442f-884c-3e402cccac9e button.colab-df-convert');\n",
              "        buttonEl.style.display =\n",
              "          google.colab.kernel.accessAllowed ? 'block' : 'none';\n",
              "\n",
              "        async function convertToInteractive(key) {\n",
              "          const element = document.querySelector('#df-d5f1f95f-5b93-442f-884c-3e402cccac9e');\n",
              "          const dataTable =\n",
              "            await google.colab.kernel.invokeFunction('convertToInteractive',\n",
              "                                                     [key], {});\n",
              "          if (!dataTable) return;\n",
              "\n",
              "          const docLinkHtml = 'Like what you see? Visit the ' +\n",
              "            '<a target=\"_blank\" href=https://colab.research.google.com/notebooks/data_table.ipynb>data table notebook</a>'\n",
              "            + ' to learn more about interactive tables.';\n",
              "          element.innerHTML = '';\n",
              "          dataTable['output_type'] = 'display_data';\n",
              "          await google.colab.output.renderOutput(dataTable, element);\n",
              "          const docLink = document.createElement('div');\n",
              "          docLink.innerHTML = docLinkHtml;\n",
              "          element.appendChild(docLink);\n",
              "        }\n",
              "      </script>\n",
              "    </div>\n",
              "  </div>\n",
              "  "
            ],
            "text/plain": [
              "                                           client_id  \\\n",
              "0  dfdeffdc55c8a41487b142ba5afb354d8eb081822ed326...   \n",
              "1  dfdeffdc55c8a41487b142ba5afb354d8eb081822ed326...   \n",
              "2  dfdeffdc55c8a41487b142ba5afb354d8eb081822ed326...   \n",
              "3  dfdeffdc55c8a41487b142ba5afb354d8eb081822ed326...   \n",
              "4  dfdeffdc55c8a41487b142ba5afb354d8eb081822ed326...   \n",
              "\n",
              "                           path                                      sentence  \\\n",
              "0  common_voice_fa_25244256.mp3  او نسبت به هم مدرسهای خود محبت کودکانه داشت.   \n",
              "1  common_voice_fa_25244257.mp3   او هرگونه اطلاع دربارهی توطئه را انکار کرد.   \n",
              "2  common_voice_fa_25244258.mp3  اکنون میتوانی همهی نقشههای خود را آشکار کنی.   \n",
              "3  common_voice_fa_25244259.mp3                    اکثر پرندگان تخم میگذارند.   \n",
              "4  common_voice_fa_25244260.mp3          با این تهدیدها نمیتوانی مرا بترسانی!   \n",
              "\n",
              "   up_votes  down_votes  age gender accents locale  segment    set  \n",
              "0         2           0  NaN    NaN     NaN     fa      NaN  train  \n",
              "1         2           0  NaN    NaN     NaN     fa      NaN  train  \n",
              "2         2           0  NaN    NaN     NaN     fa      NaN  train  \n",
              "3         2           0  NaN    NaN     NaN     fa      NaN  train  \n",
              "4         2           0  NaN    NaN     NaN     fa      NaN  train  "
            ]
          },
          "execution_count": 29,
          "metadata": {},
          "output_type": "execute_result"
        }
      ],
      "source": [
        "cv_root: str = \"./cv-corpus-9.0-2022-04-27\"\n",
        "\n",
        "train: pd.DataFrame = pd.read_csv(f\"{cv_root}/fa/train.tsv\", delimiter=\"\\t\")\n",
        "train[\"set\"] = \"train\"\n",
        "dev: pd.DataFrame = pd.read_csv(f\"{cv_root}/fa/dev.tsv\", delimiter=\"\\t\")\n",
        "dev[\"set\"] = \"dev\"\n",
        "test: pd.DataFrame = pd.read_csv(f\"{cv_root}/fa/test.tsv\", delimiter=\"\\t\")\n",
        "test[\"set\"] = \"test\"\n",
        "data: pd.DataFrame = pd.read_csv(f\"{cv_root}/fa/validated.tsv\", delimiter=\"\\t\")\n",
        "\n",
        "command: str = \"sox {mp3_path} -t wav -r {sr} -c 1 -b 16 - |\"\n",
        "\n",
        "#     break\n",
        "    \n",
        "df = pd.DataFrame(train)\n",
        "df.head()\n"
      ]
    },
    {
      "cell_type": "code",
      "execution_count": null,
      "metadata": {
        "colab": {
          "base_uri": "https://localhost:8080/",
          "height": 530
        },
        "id": "RmW51ydLni8M",
        "outputId": "54294eac-bd9b-41e8-f59e-7716da30f206"
      },
      "outputs": [
        {
          "output_type": "stream",
          "name": "stdout",
          "text": [
            "Step 0: 24150\n",
            "Step 1: 24150\n"
          ]
        },
        {
          "output_type": "stream",
          "name": "stderr",
          "text": [
            "/usr/local/lib/python3.7/dist-packages/ipykernel_launcher.py:5: FutureWarning: In a future version of pandas all arguments of DataFrame.drop except for the argument 'labels' will be keyword-only\n",
            "  \"\"\"\n"
          ]
        },
        {
          "output_type": "stream",
          "name": "stdout",
          "text": [
            "Step 2: 24150\n"
          ]
        },
        {
          "output_type": "execute_result",
          "data": {
            "text/plain": [
              "                                           client_id  \\\n",
              "0  905f57aec6a2be507cf66ef52fdc13fa23a30fe16bc399...   \n",
              "1  02891c7f20efefaece0df2cce7f74e0fedb8bd47d2930a...   \n",
              "2  7e0268374dd928d3b1a13b14cdd5361767aedd441c9066...   \n",
              "3  dfdeffdc55c8a41487b142ba5afb354d8eb081822ed326...   \n",
              "4  02891c7f20efefaece0df2cce7f74e0fedb8bd47d2930a...   \n",
              "\n",
              "                           path  \\\n",
              "0  common_voice_fa_28439320.mp3   \n",
              "1  common_voice_fa_30475316.mp3   \n",
              "2  common_voice_fa_27972853.mp3   \n",
              "3  common_voice_fa_25244470.mp3   \n",
              "4  common_voice_fa_22769842.mp3   \n",
              "\n",
              "                                           sentence  up_votes  down_votes  \\\n",
              "0                   بخش نهارخوری در گوشهی آشپزخانه          4           0   \n",
              "1                                 صدای مهیب انفجار          2           0   \n",
              "2  به مجرد کشته شدن ماهیها گندیدگی آنها شروع میشود          2           0   \n",
              "3                    از این زندگی فلاکت بار خستهام          2           0   \n",
              "4                                             آهنگ          2           0   \n",
              "\n",
              "        age gender accents locale  segment    set  \n",
              "0       NaN   male     NaN     fa      NaN  train  \n",
              "1       NaN    NaN     NaN     fa      NaN  train  \n",
              "2  twenties   male     NaN     fa      NaN  train  \n",
              "3       NaN    NaN     NaN     fa      NaN  train  \n",
              "4  twenties   male     NaN     fa      NaN  train  "
            ],
            "text/html": [
              "\n",
              "  <div id=\"df-593b4f46-9b05-4f63-bb4f-8e3212dba154\">\n",
              "    <div class=\"colab-df-container\">\n",
              "      <div>\n",
              "<style scoped>\n",
              "    .dataframe tbody tr th:only-of-type {\n",
              "        vertical-align: middle;\n",
              "    }\n",
              "\n",
              "    .dataframe tbody tr th {\n",
              "        vertical-align: top;\n",
              "    }\n",
              "\n",
              "    .dataframe thead th {\n",
              "        text-align: right;\n",
              "    }\n",
              "</style>\n",
              "<table border=\"1\" class=\"dataframe\">\n",
              "  <thead>\n",
              "    <tr style=\"text-align: right;\">\n",
              "      <th></th>\n",
              "      <th>client_id</th>\n",
              "      <th>path</th>\n",
              "      <th>sentence</th>\n",
              "      <th>up_votes</th>\n",
              "      <th>down_votes</th>\n",
              "      <th>age</th>\n",
              "      <th>gender</th>\n",
              "      <th>accents</th>\n",
              "      <th>locale</th>\n",
              "      <th>segment</th>\n",
              "      <th>set</th>\n",
              "    </tr>\n",
              "  </thead>\n",
              "  <tbody>\n",
              "    <tr>\n",
              "      <th>0</th>\n",
              "      <td>905f57aec6a2be507cf66ef52fdc13fa23a30fe16bc399...</td>\n",
              "      <td>common_voice_fa_28439320.mp3</td>\n",
              "      <td>بخش نهارخوری در گوشهی آشپزخانه</td>\n",
              "      <td>4</td>\n",
              "      <td>0</td>\n",
              "      <td>NaN</td>\n",
              "      <td>male</td>\n",
              "      <td>NaN</td>\n",
              "      <td>fa</td>\n",
              "      <td>NaN</td>\n",
              "      <td>train</td>\n",
              "    </tr>\n",
              "    <tr>\n",
              "      <th>1</th>\n",
              "      <td>02891c7f20efefaece0df2cce7f74e0fedb8bd47d2930a...</td>\n",
              "      <td>common_voice_fa_30475316.mp3</td>\n",
              "      <td>صدای مهیب انفجار</td>\n",
              "      <td>2</td>\n",
              "      <td>0</td>\n",
              "      <td>NaN</td>\n",
              "      <td>NaN</td>\n",
              "      <td>NaN</td>\n",
              "      <td>fa</td>\n",
              "      <td>NaN</td>\n",
              "      <td>train</td>\n",
              "    </tr>\n",
              "    <tr>\n",
              "      <th>2</th>\n",
              "      <td>7e0268374dd928d3b1a13b14cdd5361767aedd441c9066...</td>\n",
              "      <td>common_voice_fa_27972853.mp3</td>\n",
              "      <td>به مجرد کشته شدن ماهیها گندیدگی آنها شروع میشود</td>\n",
              "      <td>2</td>\n",
              "      <td>0</td>\n",
              "      <td>twenties</td>\n",
              "      <td>male</td>\n",
              "      <td>NaN</td>\n",
              "      <td>fa</td>\n",
              "      <td>NaN</td>\n",
              "      <td>train</td>\n",
              "    </tr>\n",
              "    <tr>\n",
              "      <th>3</th>\n",
              "      <td>dfdeffdc55c8a41487b142ba5afb354d8eb081822ed326...</td>\n",
              "      <td>common_voice_fa_25244470.mp3</td>\n",
              "      <td>از این زندگی فلاکت بار خستهام</td>\n",
              "      <td>2</td>\n",
              "      <td>0</td>\n",
              "      <td>NaN</td>\n",
              "      <td>NaN</td>\n",
              "      <td>NaN</td>\n",
              "      <td>fa</td>\n",
              "      <td>NaN</td>\n",
              "      <td>train</td>\n",
              "    </tr>\n",
              "    <tr>\n",
              "      <th>4</th>\n",
              "      <td>02891c7f20efefaece0df2cce7f74e0fedb8bd47d2930a...</td>\n",
              "      <td>common_voice_fa_22769842.mp3</td>\n",
              "      <td>آهنگ</td>\n",
              "      <td>2</td>\n",
              "      <td>0</td>\n",
              "      <td>twenties</td>\n",
              "      <td>male</td>\n",
              "      <td>NaN</td>\n",
              "      <td>fa</td>\n",
              "      <td>NaN</td>\n",
              "      <td>train</td>\n",
              "    </tr>\n",
              "  </tbody>\n",
              "</table>\n",
              "</div>\n",
              "      <button class=\"colab-df-convert\" onclick=\"convertToInteractive('df-593b4f46-9b05-4f63-bb4f-8e3212dba154')\"\n",
              "              title=\"Convert this dataframe to an interactive table.\"\n",
              "              style=\"display:none;\">\n",
              "        \n",
              "  <svg xmlns=\"http://www.w3.org/2000/svg\" height=\"24px\"viewBox=\"0 0 24 24\"\n",
              "       width=\"24px\">\n",
              "    <path d=\"M0 0h24v24H0V0z\" fill=\"none\"/>\n",
              "    <path d=\"M18.56 5.44l.94 2.06.94-2.06 2.06-.94-2.06-.94-.94-2.06-.94 2.06-2.06.94zm-11 1L8.5 8.5l.94-2.06 2.06-.94-2.06-.94L8.5 2.5l-.94 2.06-2.06.94zm10 10l.94 2.06.94-2.06 2.06-.94-2.06-.94-.94-2.06-.94 2.06-2.06.94z\"/><path d=\"M17.41 7.96l-1.37-1.37c-.4-.4-.92-.59-1.43-.59-.52 0-1.04.2-1.43.59L10.3 9.45l-7.72 7.72c-.78.78-.78 2.05 0 2.83L4 21.41c.39.39.9.59 1.41.59.51 0 1.02-.2 1.41-.59l7.78-7.78 2.81-2.81c.8-.78.8-2.07 0-2.86zM5.41 20L4 18.59l7.72-7.72 1.47 1.35L5.41 20z\"/>\n",
              "  </svg>\n",
              "      </button>\n",
              "      \n",
              "  <style>\n",
              "    .colab-df-container {\n",
              "      display:flex;\n",
              "      flex-wrap:wrap;\n",
              "      gap: 12px;\n",
              "    }\n",
              "\n",
              "    .colab-df-convert {\n",
              "      background-color: #E8F0FE;\n",
              "      border: none;\n",
              "      border-radius: 50%;\n",
              "      cursor: pointer;\n",
              "      display: none;\n",
              "      fill: #1967D2;\n",
              "      height: 32px;\n",
              "      padding: 0 0 0 0;\n",
              "      width: 32px;\n",
              "    }\n",
              "\n",
              "    .colab-df-convert:hover {\n",
              "      background-color: #E2EBFA;\n",
              "      box-shadow: 0px 1px 2px rgba(60, 64, 67, 0.3), 0px 1px 3px 1px rgba(60, 64, 67, 0.15);\n",
              "      fill: #174EA6;\n",
              "    }\n",
              "\n",
              "    [theme=dark] .colab-df-convert {\n",
              "      background-color: #3B4455;\n",
              "      fill: #D2E3FC;\n",
              "    }\n",
              "\n",
              "    [theme=dark] .colab-df-convert:hover {\n",
              "      background-color: #434B5C;\n",
              "      box-shadow: 0px 1px 3px 1px rgba(0, 0, 0, 0.15);\n",
              "      filter: drop-shadow(0px 1px 2px rgba(0, 0, 0, 0.3));\n",
              "      fill: #FFFFFF;\n",
              "    }\n",
              "  </style>\n",
              "\n",
              "      <script>\n",
              "        const buttonEl =\n",
              "          document.querySelector('#df-593b4f46-9b05-4f63-bb4f-8e3212dba154 button.colab-df-convert');\n",
              "        buttonEl.style.display =\n",
              "          google.colab.kernel.accessAllowed ? 'block' : 'none';\n",
              "\n",
              "        async function convertToInteractive(key) {\n",
              "          const element = document.querySelector('#df-593b4f46-9b05-4f63-bb4f-8e3212dba154');\n",
              "          const dataTable =\n",
              "            await google.colab.kernel.invokeFunction('convertToInteractive',\n",
              "                                                     [key], {});\n",
              "          if (!dataTable) return;\n",
              "\n",
              "          const docLinkHtml = 'Like what you see? Visit the ' +\n",
              "            '<a target=\"_blank\" href=https://colab.research.google.com/notebooks/data_table.ipynb>data table notebook</a>'\n",
              "            + ' to learn more about interactive tables.';\n",
              "          element.innerHTML = '';\n",
              "          dataTable['output_type'] = 'display_data';\n",
              "          await google.colab.output.renderOutput(dataTable, element);\n",
              "          const docLink = document.createElement('div');\n",
              "          docLink.innerHTML = docLinkHtml;\n",
              "          element.appendChild(docLink);\n",
              "        }\n",
              "      </script>\n",
              "    </div>\n",
              "  </div>\n",
              "  "
            ]
          },
          "metadata": {},
          "execution_count": 15
        }
      ],
      "source": [
        "print(f\"Step 0: {len(df)}\")\n",
        "\n",
        "df[\"status\"] = df[\"path\"].apply(lambda path: True if os.path.exists(path) else None)\n",
        "df = df.dropna(subset=[\"path\"])\n",
        "df = df.drop(\"status\", 1)\n",
        "print(f\"Step 1: {len(df)}\")\n",
        "\n",
        "# df[\"prev_sentence\"] = df[\"sentence\"]\n",
        "df[\"sentence\"] = df[\"sentence\"].apply(lambda t: normalizer(t))\n",
        "df = df.dropna(subset=[\"sentence\"])\n",
        "print(f\"Step 2: {len(df)}\")\n",
        "\n",
        "# df = df[[\"prev_sentence\", \"sentence\", \"path\"]]\n",
        "# df = df[[\"sentence\", \"path\"]]\n",
        "df = df.sample(frac=1)\n",
        "df = df.reset_index(drop=True)\n",
        "df.head()\n"
      ]
    },
    {
      "cell_type": "code",
      "execution_count": null,
      "metadata": {
        "colab": {
          "base_uri": "https://localhost:8080/"
        },
        "id": "VA5TXGmrrjE9",
        "outputId": "15314f41-d962-4d2c-e7c6-0f5a6b8abc2a"
      },
      "outputs": [
        {
          "output_type": "stream",
          "name": "stdout",
          "text": [
            "33 37\n",
            "[' ', '=', 'ء', 'آ', 'ئ', 'ا', 'ب', 'ت', 'ث', 'ج', 'ح', 'خ', 'د', 'ذ', 'ر', 'ز', 'س', 'ش', 'ص', 'ض', 'ط', 'ظ', 'ع', 'غ', 'ف', 'ق', 'ل', 'م', 'ن', 'ه', 'و', 'پ', 'چ', 'ژ', 'ک', 'گ', 'ی']\n"
          ]
        }
      ],
      "source": [
        "main_vocab = [\"ح\", \"چ\", \"ج\", \"ث\", \"ت\", \"پ\", \"ب\", \"آ\", \"ا\", \"ش\", \"س\", \"ژ\", \"ز\", \"ر\", \"ذ\", \"د\", \"خ\", \"ق\", \"ف\", \"غ\", \"ع\", \"ظ\", \"ط\", \"ض\", \"ص\", \"ی\", \"ه\", \"و\", \"ن\", \"م\", \"ل\", \"گ\", \"ک\"]\n",
        "text = \" \".join(df[\"sentence\"].values.tolist())\n",
        "vocab = list(sorted(set(text)))\n",
        "\n",
        "for v in main_vocab:\n",
        "    if v not in vocab:\n",
        "        print(\"v\", v)\n",
        "\n",
        "print(len(main_vocab), len(vocab))\n",
        "print(vocab)"
      ]
    },
    {
      "cell_type": "code",
      "execution_count": null,
      "metadata": {
        "colab": {
          "base_uri": "https://localhost:8080/",
          "height": 128
        },
        "id": "KeRqCFCwsDgs",
        "outputId": "4daf37d3-8d7a-48b6-a93c-8f1cb3303aa5"
      },
      "outputs": [
        {
          "output_type": "stream",
          "name": "stdout",
          "text": [
            "465\n",
            "اندام خوش ریخت  \n",
            "\n"
          ]
        },
        {
          "output_type": "execute_result",
          "data": {
            "text/plain": [
              "<IPython.lib.display.Audio object>"
            ],
            "text/html": [
              "\n",
              "                <audio controls=\"controls\" autoplay=\"autoplay\">\n",
              "                    <source src=\"data:audio/wav;base64,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\" type=\"audio/wav\" />\n",
              "                    Your browser does not support the audio element.\n",
              "                </audio>\n",
              "              "
            ]
          },
          "metadata": {},
          "execution_count": 17
        }
      ],
      "source": [
        "import torchaudio\n",
        "import librosa\n",
        "import IPython.display as ipd\n",
        "import numpy as np\n",
        "\n",
        "idx = np.random.randint(0, len(df))\n",
        "print(idx)\n",
        "sample = df.iloc[idx]\n",
        "\n",
        "path = sample[\"path\"]\n",
        "print(sample[\"sentence\"], \"\\n\")\n",
        "speech, sr = torchaudio.load(\"/content/cv-corpus-9.0-2022-04-27/fa/clips/\"+path)\n",
        "speech = speech[0].numpy().squeeze()\n",
        "\n",
        "speech = librosa.resample(np.asarray(speech), sr, 16_000)\n",
        "ipd.Audio(data=np.asarray(speech), autoplay=True, rate=16000)"
      ]
    },
    {
      "cell_type": "code",
      "execution_count": null,
      "metadata": {
        "id": "CptBhFuVt8LB",
        "colab": {
          "base_uri": "https://localhost:8080/"
        },
        "outputId": "610dd368-2003-4d7f-f954-e71c5a2f4d2f"
      },
      "outputs": [
        {
          "output_type": "stream",
          "name": "stdout",
          "text": [
            "(24150, 2)\n",
            "(9852, 2)\n"
          ]
        }
      ],
      "source": [
        "train_df=pd.DataFrame(train)\n",
        "test_df=pd.DataFrame(test)\n",
        "train_df = train_df[[\"path\", \"sentence\"]]\n",
        "train_df = train_df.reset_index(drop=True)\n",
        "\n",
        "test_df = test_df[[\"path\", \"sentence\"]]\n",
        "test_df = test_df.reset_index(drop=True)\n",
        "\n",
        "print(train_df.shape)\n",
        "print(test_df.shape)"
      ]
    },
    {
      "cell_type": "code",
      "source": [
        "abs_path_to_data = os.path.join(\"/content\", \"cv-corpus-9.0-2022-04-27\", \"fa\")\n",
        "!ls {abs_path_to_data}"
      ],
      "metadata": {
        "colab": {
          "base_uri": "https://localhost:8080/"
        },
        "id": "sLSO8k_wR8O2",
        "outputId": "3b073758-beea-4d92-ae21-9c28314674fc"
      },
      "execution_count": null,
      "outputs": [
        {
          "output_type": "stream",
          "name": "stdout",
          "text": [
            "clips\t invalidated.tsv  reported.tsv\ttrain.tsv\n",
            "dev.tsv  other.tsv\t  test.tsv\tvalidated.tsv\n"
          ]
        }
      ]
    },
    {
      "cell_type": "code",
      "execution_count": null,
      "metadata": {
        "id": "l5i5ZvP5qqOR",
        "colab": {
          "base_uri": "https://localhost:8080/"
        },
        "outputId": "9387a3d6-d8e7-4f67-e47c-55340ece159e"
      },
      "outputs": [
        {
          "output_type": "stream",
          "name": "stdout",
          "text": [
            "/content/cv-corpus-9.0-2022-04-27/fa\n",
            "(24150, 2)\n",
            "(9852, 2)\n"
          ]
        }
      ],
      "source": [
        "\n",
        "save_path = \"/\".join(abs_path_to_data.split('/'))\n",
        "print(save_path)\n",
        "\n",
        "train_df.to_csv(f\"{save_path}/train.csv\", sep=\"\\t\", encoding=\"utf-8\", index=False)\n",
        "test_df.to_csv(f\"{save_path}/test.csv\", sep=\"\\t\", encoding=\"utf-8\", index=False)\n",
        "\n",
        "print(train_df.shape)\n",
        "print(test_df.shape)"
      ]
    },
    {
      "cell_type": "code",
      "execution_count": null,
      "metadata": {
        "colab": {
          "base_uri": "https://localhost:8080/",
          "height": 528,
          "referenced_widgets": [
            "06e3ce8eff1a4e208c1562231bf13ac4",
            "5270a3489af74276b2c31d5d9b546cc5",
            "f966dfce88334d1982975ce8d233575b",
            "87886c399e3f4f9a8ca5ea53fcc4ea2e",
            "6c34668847af469e82334eebf7fabfce",
            "0182494f24014da1a1dbb2b726dae2f1",
            "4a0cc09d585b46308f9c901ff709f774",
            "372a685c9c7c4d198a343a050a3cbe7c",
            "19871b266dc044319ae51cf92b529744",
            "893c25652bb24de4adad07f9122d8ac4",
            "dda272e9695645d68f2705c24324b167",
            "be524b9b505c4e809673188f51fac68a",
            "51466b0f29e5462d977354e6f0c85d0e",
            "7242822a20c845b7a4d4ff68f2e010fe",
            "9a50854d94284e49a247cd0c3a931134",
            "f1b900b1d5164523a94c4ba6badf879b",
            "aa3d567cee0a4884b65ea32a3639334a",
            "fe46dab10a3b42adb23bc410646ac4c0",
            "c8f62f8768484d66a44051ea4657c864",
            "c42dfec34513439199068b1456b1ef24",
            "70c26d405fa143c7ae258d4644751d34",
            "19ec6fed4b934109bb192e756adb5bf5",
            "3b3eaf830ec746b795397c77587bc154",
            "889c894d48bb43d0a3538f2f9db210bd",
            "7015fd2e03c84df8861589a76cc22b9f",
            "6f54afa1fe5d404483d331c29a27ae74",
            "98ad2440b3154fbaa818b916f9743663",
            "0dcd6c11b9524ce591085dac230eb604",
            "49fa32c84c024a38a1b38af2ff4c3141",
            "5565a16b178446be8f73e396be8062a4",
            "634892fef72946bbaa98a34fb203a2a2",
            "0b8fd404c4bb45f28159f6734310fa07",
            "20e309ebe9294b648c0109d5aac0ec6c",
            "aca23843684c428b9ab006a907dbeebc",
            "fb12386a3af54a8ca255fe7bebf7c754",
            "ef2d985a9cab416c94606ed20d097504",
            "421d29e257f84d96b91fa0428c470465",
            "6fb1e6d6168f47e1a7e7de0f8dcc2025",
            "4ca055670c454f65a207b1ab1ce3464a",
            "139534933b1947ab8474acc7ceb9f8f1",
            "d9fe8efc89474351ab5aab2411e09d50",
            "3cb8da2d980842dd990c201384103024",
            "7a2be34fc57144ff8e3d8dfaf45382c2",
            "771754f12cd0427a86753056f90a73f8",
            "d814fba35ee343548f2c4352d8339b40",
            "1c037aefd94643afb29f387dec99376b",
            "49a38fec08ce4a9fb9fdcfe81490006a",
            "53f616544bcd4701b9a3141a7f4973ac",
            "75ed05d9fe33480a948e9a244d6b92a9",
            "c487398d07aa4d249b2921b4a1591a0a",
            "0e8e9afdf6ca4dc5a31c856cae2ba41c",
            "b942ee60b42b4adbb3ca742506763b9a",
            "4709609c0c81405bb0fc72450cbf1793",
            "a49d5b575e4b49c18106dc70fd46a7da",
            "452163a3bdcd41aaa49f69bb2195f474",
            "3c2446df82584451b1ff224b24ab1b5d",
            "144c38082715417da1e79ff866b79d10",
            "aa9029057a4449529d982b4214a5c1a7",
            "1a68b1a8931a44ce912e240871abeb61",
            "088f03687af34aa9a136c54956676e73",
            "c5f57a9561a747fa82d3cc10e5916ad3",
            "2c733e00d9284533ad222fabcbe42308",
            "aedd9f39d6f448dfbc60381c4c726b71",
            "d44c79735aa04ca79294830c6e8d34a0",
            "c96dcb1c89ce49c4a611a91dfc66913b",
            "5a4a359e75544313a1f6e79ce43ae3b4",
            "7c608af71560437da924f4b030e5a0c5",
            "dad917e2371e4787a64041e304e27996",
            "f74492c2147b4bada9bc53639dcd08c4",
            "4f71c4419a9443279e2e15d08a6c19f7",
            "6ab9b1e3c95c4ad3ab97d80b887f51c6",
            "fc6b439ad67748339024a715d851bf18",
            "ff5001979f9d422aba8a5be0d671633a",
            "5ba65776157e4173a1eac9323e4f069b",
            "62f1f7b27ea446b5a0494edfb0401c2b",
            "da0a4462cfb8492f8379a4faa22c47e8",
            "0145a9d8eace4ad389e38e5b4751c836",
            "49fb0fbc384e4028bf9908edd3cac913",
            "e78554e0ad3a4e3187f9fd859cd72120",
            "f569a0f879be4962a7e24546cf8b7007",
            "2967038343154f28986b2ad0ae664ee0",
            "976c5875347d4e6797f8a8da3eeedc8a",
            "b297365d50ef43f4965f66c96ce11fe2",
            "28833507c39f4bea9615812c7bb8e69e",
            "7032cb8b90264aebb10345632e0b6030",
            "88c9ae20af9b429daa9d20d5d106e2cf",
            "47ee57f5284c4641a6a41a422751478d",
            "14876f45f7a64411aa3368cb1c87506e"
          ]
        },
        "id": "sJIGqSFcqv8f",
        "outputId": "d3900a7c-06a3-4056-b50e-b5c671656a70"
      },
      "outputs": [
        {
          "output_type": "stream",
          "name": "stderr",
          "text": [
            "Using custom data configuration default-4add95a69b79f679\n"
          ]
        },
        {
          "output_type": "stream",
          "name": "stdout",
          "text": [
            "Downloading and preparing dataset csv/default to /content/cache/csv/default-4add95a69b79f679/0.0.0/51cce309a08df9c4d82ffd9363bbe090bf173197fc01a71b034e8594995a1a58...\n"
          ]
        },
        {
          "output_type": "display_data",
          "data": {
            "text/plain": [
              "Downloading data files:   0%|          | 0/1 [00:00<?, ?it/s]"
            ],
            "application/vnd.jupyter.widget-view+json": {
              "version_major": 2,
              "version_minor": 0,
              "model_id": "06e3ce8eff1a4e208c1562231bf13ac4"
            }
          },
          "metadata": {}
        },
        {
          "output_type": "display_data",
          "data": {
            "text/plain": [
              "Extracting data files:   0%|          | 0/1 [00:00<?, ?it/s]"
            ],
            "application/vnd.jupyter.widget-view+json": {
              "version_major": 2,
              "version_minor": 0,
              "model_id": "be524b9b505c4e809673188f51fac68a"
            }
          },
          "metadata": {}
        },
        {
          "output_type": "display_data",
          "data": {
            "text/plain": [
              "0 tables [00:00, ? tables/s]"
            ],
            "application/vnd.jupyter.widget-view+json": {
              "version_major": 2,
              "version_minor": 0,
              "model_id": "3b3eaf830ec746b795397c77587bc154"
            }
          },
          "metadata": {}
        },
        {
          "output_type": "stream",
          "name": "stdout",
          "text": [
            "Dataset csv downloaded and prepared to /content/cache/csv/default-4add95a69b79f679/0.0.0/51cce309a08df9c4d82ffd9363bbe090bf173197fc01a71b034e8594995a1a58. Subsequent calls will reuse this data.\n"
          ]
        },
        {
          "output_type": "display_data",
          "data": {
            "text/plain": [
              "  0%|          | 0/1 [00:00<?, ?it/s]"
            ],
            "application/vnd.jupyter.widget-view+json": {
              "version_major": 2,
              "version_minor": 0,
              "model_id": "aca23843684c428b9ab006a907dbeebc"
            }
          },
          "metadata": {}
        },
        {
          "output_type": "stream",
          "name": "stderr",
          "text": [
            "Using custom data configuration default-ed7064f3fc9b7d6d\n"
          ]
        },
        {
          "output_type": "stream",
          "name": "stdout",
          "text": [
            "Downloading and preparing dataset csv/default to /content/cache/csv/default-ed7064f3fc9b7d6d/0.0.0/51cce309a08df9c4d82ffd9363bbe090bf173197fc01a71b034e8594995a1a58...\n"
          ]
        },
        {
          "output_type": "display_data",
          "data": {
            "text/plain": [
              "Downloading data files:   0%|          | 0/1 [00:00<?, ?it/s]"
            ],
            "application/vnd.jupyter.widget-view+json": {
              "version_major": 2,
              "version_minor": 0,
              "model_id": "d814fba35ee343548f2c4352d8339b40"
            }
          },
          "metadata": {}
        },
        {
          "output_type": "display_data",
          "data": {
            "text/plain": [
              "Extracting data files:   0%|          | 0/1 [00:00<?, ?it/s]"
            ],
            "application/vnd.jupyter.widget-view+json": {
              "version_major": 2,
              "version_minor": 0,
              "model_id": "3c2446df82584451b1ff224b24ab1b5d"
            }
          },
          "metadata": {}
        },
        {
          "output_type": "display_data",
          "data": {
            "text/plain": [
              "0 tables [00:00, ? tables/s]"
            ],
            "application/vnd.jupyter.widget-view+json": {
              "version_major": 2,
              "version_minor": 0,
              "model_id": "7c608af71560437da924f4b030e5a0c5"
            }
          },
          "metadata": {}
        },
        {
          "output_type": "stream",
          "name": "stdout",
          "text": [
            "Dataset csv downloaded and prepared to /content/cache/csv/default-ed7064f3fc9b7d6d/0.0.0/51cce309a08df9c4d82ffd9363bbe090bf173197fc01a71b034e8594995a1a58. Subsequent calls will reuse this data.\n"
          ]
        },
        {
          "output_type": "display_data",
          "data": {
            "text/plain": [
              "  0%|          | 0/1 [00:00<?, ?it/s]"
            ],
            "application/vnd.jupyter.widget-view+json": {
              "version_major": 2,
              "version_minor": 0,
              "model_id": "49fb0fbc384e4028bf9908edd3cac913"
            }
          },
          "metadata": {}
        },
        {
          "output_type": "stream",
          "name": "stdout",
          "text": [
            "Dataset({\n",
            "    features: ['path', 'sentence'],\n",
            "    num_rows: 24150\n",
            "})\n",
            "Dataset({\n",
            "    features: ['path', 'sentence'],\n",
            "    num_rows: 9852\n",
            "})\n"
          ]
        }
      ],
      "source": [
        "common_voice_train = load_dataset(\"csv\", data_files={\"train\": \"/content/cv-corpus-9.0-2022-04-27/fa/train.csv\"}, delimiter=\"\\t\")[\"train\"]\n",
        "common_voice_test = load_dataset(\"csv\", data_files={\"test\": \"/content/cv-corpus-9.0-2022-04-27/fa/test.csv\"}, delimiter=\"\\t\")[\"test\"]\n",
        "\n",
        "print(common_voice_train)\n",
        "print(common_voice_test)"
      ]
    },
    {
      "cell_type": "code",
      "execution_count": null,
      "metadata": {
        "id": "uF_5E_TwrZGh"
      },
      "outputs": [],
      "source": [
        "from datasets import ClassLabel\n",
        "import random\n",
        "import pandas as pd\n",
        "from IPython.display import display, HTML\n",
        "\n",
        "def show_random_elements(dataset, num_examples=10):\n",
        "    assert num_examples <= len(dataset), \"Can't pick more elements than there are in the dataset.\"\n",
        "    picks = []\n",
        "    for _ in range(num_examples):\n",
        "        pick = random.randint(0, len(dataset)-1)\n",
        "        while pick in picks:\n",
        "            pick = random.randint(0, len(dataset)-1)\n",
        "        picks.append(pick)\n",
        "    \n",
        "    df = pd.DataFrame(dataset[picks])\n",
        "    display(HTML(df.to_html()))"
      ]
    },
    {
      "cell_type": "code",
      "execution_count": null,
      "metadata": {
        "colab": {
          "base_uri": "https://localhost:8080/",
          "height": 676
        },
        "id": "ZubZ1NwxrfHc",
        "outputId": "b96c07a4-17c9-4894-ec5a-9efda2308409"
      },
      "outputs": [
        {
          "output_type": "display_data",
          "data": {
            "text/plain": [
              "<IPython.core.display.HTML object>"
            ],
            "text/html": [
              "<table border=\"1\" class=\"dataframe\">\n",
              "  <thead>\n",
              "    <tr style=\"text-align: right;\">\n",
              "      <th></th>\n",
              "      <th>sentence</th>\n",
              "    </tr>\n",
              "  </thead>\n",
              "  <tbody>\n",
              "    <tr>\n",
              "      <th>0</th>\n",
              "      <td>اینطور در نظر بگیریم که بیماری با ایجاد اختلال در کارکرد سلول شروع میشه.</td>\n",
              "    </tr>\n",
              "    <tr>\n",
              "      <th>1</th>\n",
              "      <td>بیشتر سطح زمین از آب پوشیده شده است.</td>\n",
              "    </tr>\n",
              "    <tr>\n",
              "      <th>2</th>\n",
              "      <td>یک مدت تمرین نکردم.</td>\n",
              "    </tr>\n",
              "    <tr>\n",
              "      <th>3</th>\n",
              "      <td>این پدیده، ابزاری فراتر از قانون برای کنترل بدون اجازهٔ مردم است</td>\n",
              "    </tr>\n",
              "    <tr>\n",
              "      <th>4</th>\n",
              "      <td>شما هیچ پولی در حسابتان ندارید.</td>\n",
              "    </tr>\n",
              "    <tr>\n",
              "      <th>5</th>\n",
              "      <td>اگر نگارش دیگر وسیلهی موثری نباشد فیلم جای آن را خواهد گرفت.</td>\n",
              "    </tr>\n",
              "    <tr>\n",
              "      <th>6</th>\n",
              "      <td>من مي خوام بيشتر بدونم</td>\n",
              "    </tr>\n",
              "    <tr>\n",
              "      <th>7</th>\n",
              "      <td>این کتاب مال من است.</td>\n",
              "    </tr>\n",
              "    <tr>\n",
              "      <th>8</th>\n",
              "      <td>امکان دارد، لطفا، یک توصیه نامه برای من بنویسید؟</td>\n",
              "    </tr>\n",
              "    <tr>\n",
              "      <th>9</th>\n",
              "      <td>او مثل یک آقا رفتار میکرد.</td>\n",
              "    </tr>\n",
              "    <tr>\n",
              "      <th>10</th>\n",
              "      <td>آسیب دیدگان جنگ</td>\n",
              "    </tr>\n",
              "    <tr>\n",
              "      <th>11</th>\n",
              "      <td>پرواز ما از لندن به تهران</td>\n",
              "    </tr>\n",
              "    <tr>\n",
              "      <th>12</th>\n",
              "      <td>یک لیتر بنزین چقدر است؟</td>\n",
              "    </tr>\n",
              "    <tr>\n",
              "      <th>13</th>\n",
              "      <td>او از عروس عکس گرفت.</td>\n",
              "    </tr>\n",
              "    <tr>\n",
              "      <th>14</th>\n",
              "      <td>بیدقتی او به دشمنانش مستمسکی داد که بر ضد او به کار برند.</td>\n",
              "    </tr>\n",
              "    <tr>\n",
              "      <th>15</th>\n",
              "      <td>آنان شهر را گرفتند و ساکنان آن را قتل عام کردند.</td>\n",
              "    </tr>\n",
              "    <tr>\n",
              "      <th>16</th>\n",
              "      <td>بدون شهادت او کارمان خراب است.</td>\n",
              "    </tr>\n",
              "    <tr>\n",
              "      <th>17</th>\n",
              "      <td>او میخواست هزینهی دانشگاه رفتن خود را به والدینش تحمیل نکند.</td>\n",
              "    </tr>\n",
              "    <tr>\n",
              "      <th>18</th>\n",
              "      <td>سرودهای پر سوز و گداز مذهبی</td>\n",
              "    </tr>\n",
              "    <tr>\n",
              "      <th>19</th>\n",
              "      <td>آرزوهای یک پدر برای آیندهی فرزندانش</td>\n",
              "    </tr>\n",
              "  </tbody>\n",
              "</table>"
            ]
          },
          "metadata": {}
        }
      ],
      "source": [
        "show_random_elements(common_voice_train.remove_columns([\"path\"]), num_examples=20)"
      ]
    },
    {
      "cell_type": "code",
      "execution_count": null,
      "metadata": {
        "id": "1EUfHQYprqog"
      },
      "outputs": [],
      "source": [
        "def normalizer(batch, chars_to_ignore=chars_to_ignore, chars_to_mapping=chars_to_mapping):\n",
        "    chars_to_ignore_regex = f\"\"\"[{\"\".join(chars_to_ignore)}]\"\"\"\n",
        "    text = batch[\"sentence\"].lower().strip()\n",
        "\n",
        "    text = _normalizer.normalize(text)\n",
        "    text = multiple_replace(text, chars_to_mapping)\n",
        "    text = remove_special_characters(text, chars_to_ignore_regex)\n",
        "    text = re.sub(\" +\", \" \", text)\n",
        "    _text = []\n",
        "    for word in text.split():\n",
        "        try:\n",
        "            word = int(word)\n",
        "            _text.append(words(word))\n",
        "        except:\n",
        "            _text.append(word)\n",
        "            \n",
        "    text = \" \".join(_text) + \" \"\n",
        "    text = text.strip()\n",
        "\n",
        "    if not len(text) > 0:\n",
        "        return None\n",
        "    \n",
        "    batch[\"sentence\"] = text\n",
        "    \n",
        "    return batch"
      ]
    },
    {
      "cell_type": "code",
      "execution_count": null,
      "metadata": {
        "colab": {
          "base_uri": "https://localhost:8080/"
        },
        "id": "Tz28Uo2Or73j",
        "outputId": "6a0dab3e-a6c7-4540-d30c-24bfdc89e464"
      },
      "outputs": [
        {
          "output_type": "stream",
          "name": "stdout",
          "text": [
            "او نسبت به هم مدرسهای خود محبت کودکانه داشت.\n",
            "از مهمونداری کنار بکشم\n"
          ]
        }
      ],
      "source": [
        "print(common_voice_train[0][\"sentence\"])\n",
        "print(common_voice_test[0][\"sentence\"])"
      ]
    },
    {
      "cell_type": "code",
      "execution_count": null,
      "metadata": {
        "colab": {
          "base_uri": "https://localhost:8080/",
          "height": 118,
          "referenced_widgets": [
            "b64231e05d8248beaed966b4bcaf0713",
            "a02701fe396340b888beb5dcd6585d10",
            "09b67391e4954967a0b7e46ec529e45f",
            "8c37a5ef92e34440a31ee36de80bad82",
            "952189a9ca8148a593fbb65e49f0df31",
            "701983d2636f4436ba8d12c0f25068b2",
            "c5a5aed1f55b4fc6890386f1040664dd",
            "abae36e0526a4faabb9e472b2f05b968",
            "10cb2bb7be6e442fb6aab6fa18820ae8",
            "0fa54a7d886f49afa474dc286122906e",
            "1c2dfb71f5ee47ee97036b0c6318832c",
            "de6366556f22453fa9fbf5c13b50c493",
            "8f26f540a642435cb537738c69374add",
            "10a5f60cec1d40e7ba927eaecd224ace",
            "03cfe86dae154c2d8aa2a5f81fabc887",
            "a7e4bbb0829e4a7db1e95fed0529babc",
            "27d3edda0a4a433895f51b90d3e4980b",
            "eee62c8463db45cf8eb19f3f6ca39858",
            "0277d585a0d1456fa2b6621d7dc455c0",
            "ad5bd23b633c460aae98505a7d4781b1",
            "580d4a00c3384591b21db9ef7d285712",
            "583131b6ce3d4c4ca4061926277f2b4a"
          ]
        },
        "id": "1vknUOzEsHa8",
        "outputId": "5e7656a1-06b9-4e0d-cc20-1265036baebe"
      },
      "outputs": [
        {
          "output_type": "stream",
          "name": "stderr",
          "text": [
            "Parameter 'function'=<function normalizer at 0x7f6c6ebb1440> of the transform datasets.arrow_dataset.Dataset._map_single couldn't be hashed properly, a random hash was used instead. Make sure your transforms and parameters are serializable with pickle or dill for the dataset fingerprinting and caching to work. If you reuse this transform, the caching mechanism will consider it to be different from the previous calls and recompute everything. This warning is only showed once. Subsequent hashing failures won't be showed.\n"
          ]
        },
        {
          "output_type": "display_data",
          "data": {
            "text/plain": [
              "  0%|          | 0/24150 [00:00<?, ?ex/s]"
            ],
            "application/vnd.jupyter.widget-view+json": {
              "version_major": 2,
              "version_minor": 0,
              "model_id": "b64231e05d8248beaed966b4bcaf0713"
            }
          },
          "metadata": {}
        },
        {
          "output_type": "display_data",
          "data": {
            "text/plain": [
              "  0%|          | 0/9852 [00:00<?, ?ex/s]"
            ],
            "application/vnd.jupyter.widget-view+json": {
              "version_major": 2,
              "version_minor": 0,
              "model_id": "de6366556f22453fa9fbf5c13b50c493"
            }
          },
          "metadata": {}
        }
      ],
      "source": [
        "\n",
        "common_voice_train = common_voice_train.map(normalizer, fn_kwargs={\"chars_to_ignore\": chars_to_ignore, \"chars_to_mapping\": chars_to_mapping})\n",
        "common_voice_test = common_voice_test.map(normalizer, fn_kwargs={\"chars_to_ignore\": chars_to_ignore, \"chars_to_mapping\": chars_to_mapping})"
      ]
    },
    {
      "cell_type": "code",
      "execution_count": null,
      "metadata": {
        "colab": {
          "base_uri": "https://localhost:8080/"
        },
        "id": "4BPWdywKsXUo",
        "outputId": "79a000d6-55bc-4ef2-8774-5a80beeabe0a"
      },
      "outputs": [
        {
          "output_type": "stream",
          "name": "stdout",
          "text": [
            "او نسبت به هم مدرسهای خود محبت کودکانه داشت\n",
            "از مهمونداری کنار بکشم\n"
          ]
        }
      ],
      "source": [
        "print(common_voice_train[0][\"sentence\"])\n",
        "print(common_voice_test[0][\"sentence\"])"
      ]
    },
    {
      "cell_type": "code",
      "execution_count": null,
      "metadata": {
        "id": "aRqdye_hsgDv"
      },
      "outputs": [],
      "source": [
        "def extract_all_chars(batch):\n",
        "    all_text = \" \".join(batch[\"sentence\"])\n",
        "    vocab = list(set(all_text))\n",
        "    return {\"vocab\": [vocab], \"all_text\": [all_text]}"
      ]
    },
    {
      "cell_type": "code",
      "execution_count": null,
      "metadata": {
        "id": "Y0FFjV57sqPZ",
        "colab": {
          "base_uri": "https://localhost:8080/",
          "height": 81,
          "referenced_widgets": [
            "279ba955a8564c3c8caff3be13470887",
            "db24c5065cb145bfaed0beec3d311f51",
            "231644ebdcf042bd91e8d6dc6e6bf6bf",
            "cdf8bd2390e24a0eb0dab57099ce9881",
            "1425a83752e2417f9d0d7454f9bc8d8e",
            "1e9733062fad4de988fb56f7f7e6d9ff",
            "128e144882e948e49fd06d0961083728",
            "7b9e4d3812514dd3a6cb51dbae606881",
            "96f95b604f314f47ad5b8b9d47f06575",
            "f5bf8280f09047478188101c75e252f9",
            "9d856aef81314312a38250296c75c2b4",
            "fc6cf3cf88a1481ca340f1d3338e33ff",
            "f916c0e8c90e4f47adbf7e6f85846b44",
            "d85246608e8f4dca82488c49af1fd5c0",
            "68cadef3140f40c58d70fbd0215dac16",
            "06d27ba8b5814c83ae18f491e0fc55f8",
            "b2dcd6e8f1b048049659c351e04c8cf5",
            "a1d339fb339747e8811e7f563e5d6bb4",
            "536ce111f7d544c6b5a6a0e6a726791d",
            "bbfa322dcf89414fbfc38907e8c8783c",
            "7a4c0bcd44a1407d9ecc3c09d8db171a",
            "e1a522d9cab8411f921d4fde4a3cda48"
          ]
        },
        "outputId": "d2b9b569-feee-48f8-b76e-ee7cd798f45a"
      },
      "outputs": [
        {
          "output_type": "display_data",
          "data": {
            "text/plain": [
              "  0%|          | 0/1 [00:00<?, ?ba/s]"
            ],
            "application/vnd.jupyter.widget-view+json": {
              "version_major": 2,
              "version_minor": 0,
              "model_id": "279ba955a8564c3c8caff3be13470887"
            }
          },
          "metadata": {}
        },
        {
          "output_type": "display_data",
          "data": {
            "text/plain": [
              "  0%|          | 0/1 [00:00<?, ?ba/s]"
            ],
            "application/vnd.jupyter.widget-view+json": {
              "version_major": 2,
              "version_minor": 0,
              "model_id": "fc6cf3cf88a1481ca340f1d3338e33ff"
            }
          },
          "metadata": {}
        }
      ],
      "source": [
        "vocab_train = common_voice_train.map(extract_all_chars, batched=True, batch_size=-1, keep_in_memory=True, remove_columns=common_voice_train.column_names)\n",
        "vocab_test = common_voice_train.map(extract_all_chars, batched=True, batch_size=-1, keep_in_memory=True, remove_columns=common_voice_test.column_names)\n"
      ]
    },
    {
      "cell_type": "code",
      "execution_count": null,
      "metadata": {
        "id": "p5x-ja4WsxAM",
        "colab": {
          "base_uri": "https://localhost:8080/"
        },
        "outputId": "78c8ffb0-e147-4777-9cfe-11186e3451fe"
      },
      "outputs": [
        {
          "output_type": "stream",
          "name": "stdout",
          "text": [
            "36\n",
            "['=', 'ء', 'آ', 'ئ', 'ا', 'ب', 'ت', 'ث', 'ج', 'ح', 'خ', 'د', 'ذ', 'ر', 'ز', 'س', 'ش', 'ص', 'ض', 'ط', 'ظ', 'ع', 'غ', 'ف', 'ق', 'ل', 'م', 'ن', 'ه', 'و', 'پ', 'چ', 'ژ', 'ک', 'گ', 'ی']\n"
          ]
        }
      ],
      "source": [
        "vocab_list = list(sorted(set(vocab_train[\"vocab\"][0]) | set(vocab_test[\"vocab\"][0])))\n",
        "vocab_list = [vocab for vocab in vocab_list if vocab not in [\" \", \"\\u0307\"]]\n",
        "print(len(vocab_list))\n",
        "print(vocab_list)"
      ]
    },
    {
      "cell_type": "code",
      "execution_count": null,
      "metadata": {
        "colab": {
          "base_uri": "https://localhost:8080/"
        },
        "id": "2YauHLzss15Q",
        "outputId": "849c8ed9-1e35-4612-f718-c5fd4e6f3529"
      },
      "outputs": [
        {
          "output_type": "stream",
          "name": "stdout",
          "text": [
            "36\n",
            "['=', 'ء', 'آ', 'ئ', 'ا', 'ب', 'ت', 'ث', 'ج', 'ح', 'خ', 'د', 'ذ', 'ر', 'ز', 'س', 'ش', 'ص', 'ض', 'ط', 'ظ', 'ع', 'غ', 'ف', 'ق', 'ل', 'م', 'ن', 'ه', 'و', 'پ', 'چ', 'ژ', 'ک', 'گ', 'ی']\n"
          ]
        }
      ],
      "source": [
        "vocab_list = list(sorted(set(vocab_train[\"vocab\"][0]) | set(vocab_test[\"vocab\"][0])))\n",
        "vocab_list = [vocab for vocab in vocab_list if vocab not in [\" \", \"\\u0307\"]]\n",
        "print(len(vocab_list))\n",
        "print(vocab_list)"
      ]
    },
    {
      "cell_type": "code",
      "execution_count": null,
      "metadata": {
        "id": "RvMA91UhtAEd"
      },
      "outputs": [],
      "source": [
        "special_vocab = [\"<pad>\", \"<s>\", \"</s>\", \"<unk>\", \"|\"]"
      ]
    },
    {
      "cell_type": "code",
      "execution_count": null,
      "metadata": {
        "id": "srFV2QtQtD1V",
        "colab": {
          "base_uri": "https://localhost:8080/"
        },
        "outputId": "852c922e-4243-475a-9163-eb3cea20ca79"
      },
      "outputs": [
        {
          "output_type": "stream",
          "name": "stdout",
          "text": [
            "41\n",
            "{'<pad>': 0, '<s>': 1, '</s>': 2, '<unk>': 3, '|': 4, '=': 5, 'ء': 6, 'آ': 7, 'ئ': 8, 'ا': 9, 'ب': 10, 'ت': 11, 'ث': 12, 'ج': 13, 'ح': 14, 'خ': 15, 'د': 16, 'ذ': 17, 'ر': 18, 'ز': 19, 'س': 20, 'ش': 21, 'ص': 22, 'ض': 23, 'ط': 24, 'ظ': 25, 'ع': 26, 'غ': 27, 'ف': 28, 'ق': 29, 'ل': 30, 'م': 31, 'ن': 32, 'ه': 33, 'و': 34, 'پ': 35, 'چ': 36, 'ژ': 37, 'ک': 38, 'گ': 39, 'ی': 40}\n"
          ]
        }
      ],
      "source": [
        "vocab_dict = {v: k for k, v in enumerate(special_vocab + vocab_list)}\n",
        "print(len(vocab_dict))\n",
        "print(vocab_dict)"
      ]
    },
    {
      "cell_type": "code",
      "execution_count": null,
      "metadata": {
        "id": "qn6LTdRFtOHo"
      },
      "outputs": [],
      "source": [
        "import json\n",
        "with open('vocab.json', 'w') as vocab_file:\n",
        "    json.dump(vocab_dict, vocab_file)"
      ]
    },
    {
      "cell_type": "code",
      "execution_count": null,
      "metadata": {
        "id": "-b_zT2sYtzDY"
      },
      "outputs": [],
      "source": [
        "save_dir = \"/content/drive/MyDrive/speech2text/XLSR-53\"\n",
        "model_name_or_path = \"model/xlsr-persian\""
      ]
    },
    {
      "cell_type": "code",
      "execution_count": null,
      "metadata": {
        "id": "IzkRdnSoaWEH",
        "colab": {
          "base_uri": "https://localhost:8080/"
        },
        "outputId": "dab9eada-ca11-45c1-a3d1-cff48b72de84"
      },
      "outputs": [
        {
          "output_type": "stream",
          "name": "stdout",
          "text": [
            "None\n"
          ]
        }
      ],
      "source": [
        "from transformers.trainer_utils import get_last_checkpoint\n",
        "\n",
        "last_checkpoint = None\n",
        "if os.path.exists(save_dir):\n",
        "    last_checkpoint = get_last_checkpoint(save_dir)\n",
        "\n",
        "print(last_checkpoint if last_checkpoint else str(None))"
      ]
    },
    {
      "cell_type": "code",
      "execution_count": null,
      "metadata": {
        "id": "03Zel81RbsI6",
        "colab": {
          "base_uri": "https://localhost:8080/"
        },
        "outputId": "28291928-c385-4396-81dc-c19bbde410d9"
      },
      "outputs": [
        {
          "output_type": "stream",
          "name": "stdout",
          "text": [
            "Load from scratch\n"
          ]
        }
      ],
      "source": [
        "from transformers import Wav2Vec2CTCTokenizer\n",
        "print(\"Load from scratch\")\n",
        "tokenizer = Wav2Vec2CTCTokenizer(\n",
        "    \"/content/vocab.json\", \n",
        "    bos_token=\"<s>\",\n",
        "    eos_token=\"</s>\",\n",
        "    unk_token=\"<unk>\",\n",
        "    pad_token=\"<pad>\",\n",
        "    word_delimiter_token=\"|\",\n",
        "    do_lower_case=False\n",
        ")\n",
        "# if not os.path.exists(save_dir) and not model_name_or_path:\n",
        "#     print(\"Load from scratch\")\n",
        "#     tokenizer = Wav2Vec2CTCTokenizer(\n",
        "#         \"./fa.vocab.json\", \n",
        "#         bos_token=\"<s>\",\n",
        "#         eos_token=\"</s>\",\n",
        "#         unk_token=\"<unk>\",\n",
        "#         pad_token=\"<pad>\",\n",
        "#         word_delimiter_token=\"|\",\n",
        "#         do_lower_case=False\n",
        "#     )\n",
        "# else:\n",
        "#     print(f\"Load from {model_name_or_path}\")\n",
        "#     tokenizer = Wav2Vec2CTCTokenizer.from_pretrained(model_name_or_path)"
      ]
    },
    {
      "cell_type": "code",
      "source": [
        "text = \"از مهمونداری کنار بکشم\"\n",
        "print(\" \".join(tokenizer.tokenize(text)))\n",
        "print(tokenizer.decode(tokenizer.encode(text)))"
      ],
      "metadata": {
        "colab": {
          "base_uri": "https://localhost:8080/"
        },
        "id": "hp_eyzK5Ur0e",
        "outputId": "a20a377d-8437-483e-cead-bf86ca16f825"
      },
      "execution_count": null,
      "outputs": [
        {
          "output_type": "stream",
          "name": "stdout",
          "text": [
            "ا ز | م ه م و ن د ا ر ی | ک ن ا ر | ب ک ش م\n",
            "از مهمونداری کنار بکشم\n"
          ]
        }
      ]
    },
    {
      "cell_type": "code",
      "execution_count": null,
      "metadata": {
        "id": "BFu5fyeu7YXI",
        "colab": {
          "base_uri": "https://localhost:8080/"
        },
        "outputId": "f189c0f6-9fe6-4032-cb20-28893ac46340"
      },
      "outputs": [
        {
          "output_type": "stream",
          "name": "stdout",
          "text": [
            "Load from scratch\n"
          ]
        }
      ],
      "source": [
        "print(\"Load from scratch\")\n",
        "feature_extractor = Wav2Vec2FeatureExtractor(feature_size=1, sampling_rate=16000, padding_value=0.0, do_normalize=True, return_attention_mask=True)"
      ]
    },
    {
      "cell_type": "code",
      "source": [
        "from transformers import Wav2Vec2Processor\n",
        "\n",
        "print(\"Load from scratch\")\n",
        "processor = Wav2Vec2Processor(feature_extractor=feature_extractor, tokenizer=tokenizer)\n"
      ],
      "metadata": {
        "colab": {
          "base_uri": "https://localhost:8080/"
        },
        "id": "x_qyi_EcVHX4",
        "outputId": "eb289934-dc95-44a9-ff07-c1a39cc1f9e8"
      },
      "execution_count": null,
      "outputs": [
        {
          "output_type": "stream",
          "name": "stdout",
          "text": [
            "Load from scratch\n"
          ]
        }
      ]
    },
    {
      "cell_type": "code",
      "source": [
        "if len(processor.tokenizer.get_vocab()) == len(processor.tokenizer):\n",
        "    print(len(processor.tokenizer))"
      ],
      "metadata": {
        "colab": {
          "base_uri": "https://localhost:8080/"
        },
        "id": "3o6f5g4lVaLv",
        "outputId": "cb1bb78b-7ee1-499a-9f53-9c8c796cbf91"
      },
      "execution_count": null,
      "outputs": [
        {
          "output_type": "stream",
          "name": "stdout",
          "text": [
            "41\n"
          ]
        }
      ]
    },
    {
      "cell_type": "code",
      "source": [
        "if not os.path.exists(save_dir):\n",
        "    print(\"Saving ...\")\n",
        "    processor.save_pretrained(save_dir)\n",
        "    print(\"Saved!\")"
      ],
      "metadata": {
        "colab": {
          "base_uri": "https://localhost:8080/"
        },
        "id": "clpIca4bVdqD",
        "outputId": "66fc62f7-bafe-419a-f333-7d1c7091a081"
      },
      "execution_count": null,
      "outputs": [
        {
          "output_type": "stream",
          "name": "stdout",
          "text": [
            "Saving ...\n",
            "Saved!\n"
          ]
        }
      ]
    },
    {
      "cell_type": "code",
      "source": [
        "common_voice_train[0]"
      ],
      "metadata": {
        "colab": {
          "base_uri": "https://localhost:8080/"
        },
        "id": "I2GWtA0PVqu-",
        "outputId": "d3263160-7513-43da-af14-0f5b527ad863"
      },
      "execution_count": null,
      "outputs": [
        {
          "output_type": "execute_result",
          "data": {
            "text/plain": [
              "{'path': 'common_voice_fa_25244256.mp3',\n",
              " 'sentence': 'او نسبت به هم مدرسهای خود محبت کودکانه داشت'}"
            ]
          },
          "metadata": {},
          "execution_count": 51
        }
      ]
    },
    {
      "cell_type": "code",
      "source": [
        "import torchaudio\n",
        "import librosa\n",
        "\n",
        "\n",
        "target_sampling_rate = 16_000\n",
        "\n",
        "def speech_file_to_array_fn(batch):\n",
        "    speech_array, sampling_rate = torchaudio.load(\"/content/cv-corpus-9.0-2022-04-27/fa/clips/\"+batch[\"path\"])\n",
        "    speech_array = speech_array.squeeze().numpy()\n",
        "    speech_array = librosa.resample(np.asarray(speech_array), sampling_rate, target_sampling_rate)\n",
        "    \n",
        "    \n",
        "    batch[\"speech\"] = speech_array\n",
        "    batch[\"sampling_rate\"] = target_sampling_rate\n",
        "    batch[\"duration_in_seconds\"] = len(batch[\"speech\"]) / target_sampling_rate\n",
        "    batch[\"target_text\"] = batch[\"sentence\"]\n",
        "    return batch"
      ],
      "metadata": {
        "id": "CyyfasmCVzDj"
      },
      "execution_count": null,
      "outputs": []
    },
    {
      "cell_type": "code",
      "source": [
        "common_voice_train = common_voice_train.map(speech_file_to_array_fn, remove_columns=common_voice_train.column_names, num_proc=4)\n",
        "common_voice_test = common_voice_test.map(speech_file_to_array_fn, remove_columns=common_voice_test.column_names, num_proc=4)"
      ],
      "metadata": {
        "colab": {
          "base_uri": "https://localhost:8080/",
          "height": 182
        },
        "id": "k4_J7txlV5aU",
        "outputId": "021213fd-d7fa-4499-b0ad-43c8effed272"
      },
      "execution_count": null,
      "outputs": [
        {
          "output_type": "error",
          "ename": "NameError",
          "evalue": "ignored",
          "traceback": [
            "\u001b[0;31m---------------------------------------------------------------------------\u001b[0m",
            "\u001b[0;31mNameError\u001b[0m                                 Traceback (most recent call last)",
            "\u001b[0;32m<ipython-input-1-1c01018ef32b>\u001b[0m in \u001b[0;36m<module>\u001b[0;34m()\u001b[0m\n\u001b[0;32m----> 1\u001b[0;31m \u001b[0mcommon_voice_train\u001b[0m \u001b[0;34m=\u001b[0m \u001b[0mcommon_voice_train\u001b[0m\u001b[0;34m.\u001b[0m\u001b[0mmap\u001b[0m\u001b[0;34m(\u001b[0m\u001b[0mspeech_file_to_array_fn\u001b[0m\u001b[0;34m,\u001b[0m \u001b[0mremove_columns\u001b[0m\u001b[0;34m=\u001b[0m\u001b[0mcommon_voice_train\u001b[0m\u001b[0;34m.\u001b[0m\u001b[0mcolumn_names\u001b[0m\u001b[0;34m,\u001b[0m \u001b[0mnum_proc\u001b[0m\u001b[0;34m=\u001b[0m\u001b[0;36m4\u001b[0m\u001b[0;34m)\u001b[0m\u001b[0;34m\u001b[0m\u001b[0;34m\u001b[0m\u001b[0m\n\u001b[0m\u001b[1;32m      2\u001b[0m \u001b[0mcommon_voice_test\u001b[0m \u001b[0;34m=\u001b[0m \u001b[0mcommon_voice_test\u001b[0m\u001b[0;34m.\u001b[0m\u001b[0mmap\u001b[0m\u001b[0;34m(\u001b[0m\u001b[0mspeech_file_to_array_fn\u001b[0m\u001b[0;34m,\u001b[0m \u001b[0mremove_columns\u001b[0m\u001b[0;34m=\u001b[0m\u001b[0mcommon_voice_test\u001b[0m\u001b[0;34m.\u001b[0m\u001b[0mcolumn_names\u001b[0m\u001b[0;34m,\u001b[0m \u001b[0mnum_proc\u001b[0m\u001b[0;34m=\u001b[0m\u001b[0;36m4\u001b[0m\u001b[0;34m)\u001b[0m\u001b[0;34m\u001b[0m\u001b[0;34m\u001b[0m\u001b[0m\n",
            "\u001b[0;31mNameError\u001b[0m: name 'common_voice_train' is not defined"
          ]
        }
      ]
    },
    {
      "cell_type": "code",
      "source": [
        "common_voice_train[0].keys()"
      ],
      "metadata": {
        "id": "pgm7G-3-WiEm"
      },
      "execution_count": null,
      "outputs": []
    },
    {
      "cell_type": "code",
      "source": [
        "print(common_voice_train[0][\"sampling_rate\"])\n",
        "print(common_voice_test[0][\"sampling_rate\"])"
      ],
      "metadata": {
        "id": "dznc29A_W1Wq"
      },
      "execution_count": null,
      "outputs": []
    },
    {
      "cell_type": "code",
      "source": [
        "min_duration_in_seconds = 5.0\n",
        "max_duration_in_seconds = 10.0\n",
        "\n",
        "def filter_by_max_duration(batch):\n",
        "    return min_duration_in_seconds <= batch[\"duration_in_seconds\"] <= max_duration_in_seconds"
      ],
      "metadata": {
        "id": "EWrezxMsW1Y4"
      },
      "execution_count": null,
      "outputs": []
    },
    {
      "cell_type": "code",
      "source": [
        "print(f\"Split sizes [BEFORE]: {len(common_voice_train)} train and {len(common_voice_test)} validation.\")\n",
        "\n",
        "_common_voice_train = common_voice_train.filter(filter_by_max_duration, num_proc=4)\n",
        "_common_voice_test = common_voice_test\n",
        "# _common_voice_test = common_voice_test.filter(filter_by_max_duration, num_proc=4)\n",
        "\n",
        "print(f\"Split sizes [AFTER]: {len(_common_voice_train)} train and {len(_common_voice_test)} validation.\")"
      ],
      "metadata": {
        "id": "pyqrFN4gXMXz"
      },
      "execution_count": null,
      "outputs": []
    },
    {
      "cell_type": "code",
      "source": [
        "import IPython.display as ipd\n",
        "import numpy as np\n",
        "import random\n",
        "\n",
        "sample = _common_voice_train\n",
        "rand_int = random.randint(0, len(sample))\n",
        "\n",
        "print(\"Target text:\", sample[rand_int][\"target_text\"])\n",
        "print(\"Input array shape:\", np.asarray(sample[rand_int][\"speech\"]).shape)\n",
        "print(\"Sampling rate:\", sample[rand_int][\"sampling_rate\"])\n",
        "\n",
        "ipd.Audio(data=np.asarray(sample[rand_int][\"speech\"]), autoplay=True, rate=16000)"
      ],
      "metadata": {
        "id": "S6uJo4RcXQPF"
      },
      "execution_count": null,
      "outputs": []
    },
    {
      "cell_type": "code",
      "source": [
        "import IPython.display as ipd\n",
        "import numpy as np\n",
        "import random\n",
        "\n",
        "sample = _common_voice_train\n",
        "rand_int = random.randint(0, len(sample))\n",
        "\n",
        "print(\"Target text:\", sample[rand_int][\"target_text\"])\n",
        "print(\"Input array shape:\", np.asarray(sample[rand_int][\"speech\"]).shape)\n",
        "print(\"Sampling rate:\", sample[rand_int][\"sampling_rate\"])\n",
        "\n",
        "ipd.Audio(data=np.asarray(sample[rand_int][\"speech\"]), autoplay=True, rate=16000)"
      ],
      "metadata": {
        "id": "XCQZ9a4tXbGH"
      },
      "execution_count": null,
      "outputs": []
    },
    {
      "cell_type": "code",
      "source": [
        "def prepare_dataset(batch):\n",
        "    # check that all files have the correct sampling rate\n",
        "    assert (\n",
        "        len(set(batch[\"sampling_rate\"])) == 1\n",
        "    ), f\"Make sure all inputs have the same sampling rate of {processor.feature_extractor.sampling_rate}.\"\n",
        "\n",
        "    batch[\"input_values\"] = processor(batch[\"speech\"], sampling_rate=batch[\"sampling_rate\"][0]).input_values\n",
        "    \n",
        "    with processor.as_target_processor():\n",
        "        batch[\"labels\"] = processor(batch[\"target_text\"]).input_ids\n",
        "    return batch"
      ],
      "metadata": {
        "id": "bK8zuS7pXioq"
      },
      "execution_count": null,
      "outputs": []
    },
    {
      "cell_type": "code",
      "source": [
        "_common_voice_train = _common_voice_train.map(prepare_dataset, remove_columns=_common_voice_train.column_names, batch_size=8, num_proc=4, batched=True)\n",
        "_common_voice_test = _common_voice_test.map(prepare_dataset, remove_columns=_common_voice_test.column_names, batch_size=8, num_proc=4, batched=True)"
      ],
      "metadata": {
        "id": "9jS2FPipXqYd"
      },
      "execution_count": null,
      "outputs": []
    }
  ],
  "metadata": {
    "colab": {
      "collapsed_sections": [],
      "name": "ASR.ipynb",
      "provenance": [],
      "include_colab_link": true
    },
    "gpuClass": "standard",
    "kernelspec": {
      "display_name": "Python 3",
      "name": "python3"
    },
    "language_info": {
      "name": "python"
    },
    "widgets": {
      "application/vnd.jupyter.widget-state+json": {
        "06e3ce8eff1a4e208c1562231bf13ac4": {
          "model_module": "@jupyter-widgets/controls",
          "model_name": "HBoxModel",
          "model_module_version": "1.5.0",
          "state": {
            "_dom_classes": [],
            "_model_module": "@jupyter-widgets/controls",
            "_model_module_version": "1.5.0",
            "_model_name": "HBoxModel",
            "_view_count": null,
            "_view_module": "@jupyter-widgets/controls",
            "_view_module_version": "1.5.0",
            "_view_name": "HBoxView",
            "box_style": "",
            "children": [
              "IPY_MODEL_5270a3489af74276b2c31d5d9b546cc5",
              "IPY_MODEL_f966dfce88334d1982975ce8d233575b",
              "IPY_MODEL_87886c399e3f4f9a8ca5ea53fcc4ea2e"
            ],
            "layout": "IPY_MODEL_6c34668847af469e82334eebf7fabfce"
          }
        },
        "5270a3489af74276b2c31d5d9b546cc5": {
          "model_module": "@jupyter-widgets/controls",
          "model_name": "HTMLModel",
          "model_module_version": "1.5.0",
          "state": {
            "_dom_classes": [],
            "_model_module": "@jupyter-widgets/controls",
            "_model_module_version": "1.5.0",
            "_model_name": "HTMLModel",
            "_view_count": null,
            "_view_module": "@jupyter-widgets/controls",
            "_view_module_version": "1.5.0",
            "_view_name": "HTMLView",
            "description": "",
            "description_tooltip": null,
            "layout": "IPY_MODEL_0182494f24014da1a1dbb2b726dae2f1",
            "placeholder": "​",
            "style": "IPY_MODEL_4a0cc09d585b46308f9c901ff709f774",
            "value": "Downloading data files: 100%"
          }
        },
        "f966dfce88334d1982975ce8d233575b": {
          "model_module": "@jupyter-widgets/controls",
          "model_name": "FloatProgressModel",
          "model_module_version": "1.5.0",
          "state": {
            "_dom_classes": [],
            "_model_module": "@jupyter-widgets/controls",
            "_model_module_version": "1.5.0",
            "_model_name": "FloatProgressModel",
            "_view_count": null,
            "_view_module": "@jupyter-widgets/controls",
            "_view_module_version": "1.5.0",
            "_view_name": "ProgressView",
            "bar_style": "success",
            "description": "",
            "description_tooltip": null,
            "layout": "IPY_MODEL_372a685c9c7c4d198a343a050a3cbe7c",
            "max": 1,
            "min": 0,
            "orientation": "horizontal",
            "style": "IPY_MODEL_19871b266dc044319ae51cf92b529744",
            "value": 1
          }
        },
        "87886c399e3f4f9a8ca5ea53fcc4ea2e": {
          "model_module": "@jupyter-widgets/controls",
          "model_name": "HTMLModel",
          "model_module_version": "1.5.0",
          "state": {
            "_dom_classes": [],
            "_model_module": "@jupyter-widgets/controls",
            "_model_module_version": "1.5.0",
            "_model_name": "HTMLModel",
            "_view_count": null,
            "_view_module": "@jupyter-widgets/controls",
            "_view_module_version": "1.5.0",
            "_view_name": "HTMLView",
            "description": "",
            "description_tooltip": null,
            "layout": "IPY_MODEL_893c25652bb24de4adad07f9122d8ac4",
            "placeholder": "​",
            "style": "IPY_MODEL_dda272e9695645d68f2705c24324b167",
            "value": " 1/1 [00:00&lt;00:00, 26.71it/s]"
          }
        },
        "6c34668847af469e82334eebf7fabfce": {
          "model_module": "@jupyter-widgets/base",
          "model_name": "LayoutModel",
          "model_module_version": "1.2.0",
          "state": {
            "_model_module": "@jupyter-widgets/base",
            "_model_module_version": "1.2.0",
            "_model_name": "LayoutModel",
            "_view_count": null,
            "_view_module": "@jupyter-widgets/base",
            "_view_module_version": "1.2.0",
            "_view_name": "LayoutView",
            "align_content": null,
            "align_items": null,
            "align_self": null,
            "border": null,
            "bottom": null,
            "display": null,
            "flex": null,
            "flex_flow": null,
            "grid_area": null,
            "grid_auto_columns": null,
            "grid_auto_flow": null,
            "grid_auto_rows": null,
            "grid_column": null,
            "grid_gap": null,
            "grid_row": null,
            "grid_template_areas": null,
            "grid_template_columns": null,
            "grid_template_rows": null,
            "height": null,
            "justify_content": null,
            "justify_items": null,
            "left": null,
            "margin": null,
            "max_height": null,
            "max_width": null,
            "min_height": null,
            "min_width": null,
            "object_fit": null,
            "object_position": null,
            "order": null,
            "overflow": null,
            "overflow_x": null,
            "overflow_y": null,
            "padding": null,
            "right": null,
            "top": null,
            "visibility": null,
            "width": null
          }
        },
        "0182494f24014da1a1dbb2b726dae2f1": {
          "model_module": "@jupyter-widgets/base",
          "model_name": "LayoutModel",
          "model_module_version": "1.2.0",
          "state": {
            "_model_module": "@jupyter-widgets/base",
            "_model_module_version": "1.2.0",
            "_model_name": "LayoutModel",
            "_view_count": null,
            "_view_module": "@jupyter-widgets/base",
            "_view_module_version": "1.2.0",
            "_view_name": "LayoutView",
            "align_content": null,
            "align_items": null,
            "align_self": null,
            "border": null,
            "bottom": null,
            "display": null,
            "flex": null,
            "flex_flow": null,
            "grid_area": null,
            "grid_auto_columns": null,
            "grid_auto_flow": null,
            "grid_auto_rows": null,
            "grid_column": null,
            "grid_gap": null,
            "grid_row": null,
            "grid_template_areas": null,
            "grid_template_columns": null,
            "grid_template_rows": null,
            "height": null,
            "justify_content": null,
            "justify_items": null,
            "left": null,
            "margin": null,
            "max_height": null,
            "max_width": null,
            "min_height": null,
            "min_width": null,
            "object_fit": null,
            "object_position": null,
            "order": null,
            "overflow": null,
            "overflow_x": null,
            "overflow_y": null,
            "padding": null,
            "right": null,
            "top": null,
            "visibility": null,
            "width": null
          }
        },
        "4a0cc09d585b46308f9c901ff709f774": {
          "model_module": "@jupyter-widgets/controls",
          "model_name": "DescriptionStyleModel",
          "model_module_version": "1.5.0",
          "state": {
            "_model_module": "@jupyter-widgets/controls",
            "_model_module_version": "1.5.0",
            "_model_name": "DescriptionStyleModel",
            "_view_count": null,
            "_view_module": "@jupyter-widgets/base",
            "_view_module_version": "1.2.0",
            "_view_name": "StyleView",
            "description_width": ""
          }
        },
        "372a685c9c7c4d198a343a050a3cbe7c": {
          "model_module": "@jupyter-widgets/base",
          "model_name": "LayoutModel",
          "model_module_version": "1.2.0",
          "state": {
            "_model_module": "@jupyter-widgets/base",
            "_model_module_version": "1.2.0",
            "_model_name": "LayoutModel",
            "_view_count": null,
            "_view_module": "@jupyter-widgets/base",
            "_view_module_version": "1.2.0",
            "_view_name": "LayoutView",
            "align_content": null,
            "align_items": null,
            "align_self": null,
            "border": null,
            "bottom": null,
            "display": null,
            "flex": null,
            "flex_flow": null,
            "grid_area": null,
            "grid_auto_columns": null,
            "grid_auto_flow": null,
            "grid_auto_rows": null,
            "grid_column": null,
            "grid_gap": null,
            "grid_row": null,
            "grid_template_areas": null,
            "grid_template_columns": null,
            "grid_template_rows": null,
            "height": null,
            "justify_content": null,
            "justify_items": null,
            "left": null,
            "margin": null,
            "max_height": null,
            "max_width": null,
            "min_height": null,
            "min_width": null,
            "object_fit": null,
            "object_position": null,
            "order": null,
            "overflow": null,
            "overflow_x": null,
            "overflow_y": null,
            "padding": null,
            "right": null,
            "top": null,
            "visibility": null,
            "width": null
          }
        },
        "19871b266dc044319ae51cf92b529744": {
          "model_module": "@jupyter-widgets/controls",
          "model_name": "ProgressStyleModel",
          "model_module_version": "1.5.0",
          "state": {
            "_model_module": "@jupyter-widgets/controls",
            "_model_module_version": "1.5.0",
            "_model_name": "ProgressStyleModel",
            "_view_count": null,
            "_view_module": "@jupyter-widgets/base",
            "_view_module_version": "1.2.0",
            "_view_name": "StyleView",
            "bar_color": null,
            "description_width": ""
          }
        },
        "893c25652bb24de4adad07f9122d8ac4": {
          "model_module": "@jupyter-widgets/base",
          "model_name": "LayoutModel",
          "model_module_version": "1.2.0",
          "state": {
            "_model_module": "@jupyter-widgets/base",
            "_model_module_version": "1.2.0",
            "_model_name": "LayoutModel",
            "_view_count": null,
            "_view_module": "@jupyter-widgets/base",
            "_view_module_version": "1.2.0",
            "_view_name": "LayoutView",
            "align_content": null,
            "align_items": null,
            "align_self": null,
            "border": null,
            "bottom": null,
            "display": null,
            "flex": null,
            "flex_flow": null,
            "grid_area": null,
            "grid_auto_columns": null,
            "grid_auto_flow": null,
            "grid_auto_rows": null,
            "grid_column": null,
            "grid_gap": null,
            "grid_row": null,
            "grid_template_areas": null,
            "grid_template_columns": null,
            "grid_template_rows": null,
            "height": null,
            "justify_content": null,
            "justify_items": null,
            "left": null,
            "margin": null,
            "max_height": null,
            "max_width": null,
            "min_height": null,
            "min_width": null,
            "object_fit": null,
            "object_position": null,
            "order": null,
            "overflow": null,
            "overflow_x": null,
            "overflow_y": null,
            "padding": null,
            "right": null,
            "top": null,
            "visibility": null,
            "width": null
          }
        },
        "dda272e9695645d68f2705c24324b167": {
          "model_module": "@jupyter-widgets/controls",
          "model_name": "DescriptionStyleModel",
          "model_module_version": "1.5.0",
          "state": {
            "_model_module": "@jupyter-widgets/controls",
            "_model_module_version": "1.5.0",
            "_model_name": "DescriptionStyleModel",
            "_view_count": null,
            "_view_module": "@jupyter-widgets/base",
            "_view_module_version": "1.2.0",
            "_view_name": "StyleView",
            "description_width": ""
          }
        },
        "be524b9b505c4e809673188f51fac68a": {
          "model_module": "@jupyter-widgets/controls",
          "model_name": "HBoxModel",
          "model_module_version": "1.5.0",
          "state": {
            "_dom_classes": [],
            "_model_module": "@jupyter-widgets/controls",
            "_model_module_version": "1.5.0",
            "_model_name": "HBoxModel",
            "_view_count": null,
            "_view_module": "@jupyter-widgets/controls",
            "_view_module_version": "1.5.0",
            "_view_name": "HBoxView",
            "box_style": "",
            "children": [
              "IPY_MODEL_51466b0f29e5462d977354e6f0c85d0e",
              "IPY_MODEL_7242822a20c845b7a4d4ff68f2e010fe",
              "IPY_MODEL_9a50854d94284e49a247cd0c3a931134"
            ],
            "layout": "IPY_MODEL_f1b900b1d5164523a94c4ba6badf879b"
          }
        },
        "51466b0f29e5462d977354e6f0c85d0e": {
          "model_module": "@jupyter-widgets/controls",
          "model_name": "HTMLModel",
          "model_module_version": "1.5.0",
          "state": {
            "_dom_classes": [],
            "_model_module": "@jupyter-widgets/controls",
            "_model_module_version": "1.5.0",
            "_model_name": "HTMLModel",
            "_view_count": null,
            "_view_module": "@jupyter-widgets/controls",
            "_view_module_version": "1.5.0",
            "_view_name": "HTMLView",
            "description": "",
            "description_tooltip": null,
            "layout": "IPY_MODEL_aa3d567cee0a4884b65ea32a3639334a",
            "placeholder": "​",
            "style": "IPY_MODEL_fe46dab10a3b42adb23bc410646ac4c0",
            "value": "Extracting data files: 100%"
          }
        },
        "7242822a20c845b7a4d4ff68f2e010fe": {
          "model_module": "@jupyter-widgets/controls",
          "model_name": "FloatProgressModel",
          "model_module_version": "1.5.0",
          "state": {
            "_dom_classes": [],
            "_model_module": "@jupyter-widgets/controls",
            "_model_module_version": "1.5.0",
            "_model_name": "FloatProgressModel",
            "_view_count": null,
            "_view_module": "@jupyter-widgets/controls",
            "_view_module_version": "1.5.0",
            "_view_name": "ProgressView",
            "bar_style": "success",
            "description": "",
            "description_tooltip": null,
            "layout": "IPY_MODEL_c8f62f8768484d66a44051ea4657c864",
            "max": 1,
            "min": 0,
            "orientation": "horizontal",
            "style": "IPY_MODEL_c42dfec34513439199068b1456b1ef24",
            "value": 1
          }
        },
        "9a50854d94284e49a247cd0c3a931134": {
          "model_module": "@jupyter-widgets/controls",
          "model_name": "HTMLModel",
          "model_module_version": "1.5.0",
          "state": {
            "_dom_classes": [],
            "_model_module": "@jupyter-widgets/controls",
            "_model_module_version": "1.5.0",
            "_model_name": "HTMLModel",
            "_view_count": null,
            "_view_module": "@jupyter-widgets/controls",
            "_view_module_version": "1.5.0",
            "_view_name": "HTMLView",
            "description": "",
            "description_tooltip": null,
            "layout": "IPY_MODEL_70c26d405fa143c7ae258d4644751d34",
            "placeholder": "​",
            "style": "IPY_MODEL_19ec6fed4b934109bb192e756adb5bf5",
            "value": " 1/1 [00:00&lt;00:00, 18.73it/s]"
          }
        },
        "f1b900b1d5164523a94c4ba6badf879b": {
          "model_module": "@jupyter-widgets/base",
          "model_name": "LayoutModel",
          "model_module_version": "1.2.0",
          "state": {
            "_model_module": "@jupyter-widgets/base",
            "_model_module_version": "1.2.0",
            "_model_name": "LayoutModel",
            "_view_count": null,
            "_view_module": "@jupyter-widgets/base",
            "_view_module_version": "1.2.0",
            "_view_name": "LayoutView",
            "align_content": null,
            "align_items": null,
            "align_self": null,
            "border": null,
            "bottom": null,
            "display": null,
            "flex": null,
            "flex_flow": null,
            "grid_area": null,
            "grid_auto_columns": null,
            "grid_auto_flow": null,
            "grid_auto_rows": null,
            "grid_column": null,
            "grid_gap": null,
            "grid_row": null,
            "grid_template_areas": null,
            "grid_template_columns": null,
            "grid_template_rows": null,
            "height": null,
            "justify_content": null,
            "justify_items": null,
            "left": null,
            "margin": null,
            "max_height": null,
            "max_width": null,
            "min_height": null,
            "min_width": null,
            "object_fit": null,
            "object_position": null,
            "order": null,
            "overflow": null,
            "overflow_x": null,
            "overflow_y": null,
            "padding": null,
            "right": null,
            "top": null,
            "visibility": null,
            "width": null
          }
        },
        "aa3d567cee0a4884b65ea32a3639334a": {
          "model_module": "@jupyter-widgets/base",
          "model_name": "LayoutModel",
          "model_module_version": "1.2.0",
          "state": {
            "_model_module": "@jupyter-widgets/base",
            "_model_module_version": "1.2.0",
            "_model_name": "LayoutModel",
            "_view_count": null,
            "_view_module": "@jupyter-widgets/base",
            "_view_module_version": "1.2.0",
            "_view_name": "LayoutView",
            "align_content": null,
            "align_items": null,
            "align_self": null,
            "border": null,
            "bottom": null,
            "display": null,
            "flex": null,
            "flex_flow": null,
            "grid_area": null,
            "grid_auto_columns": null,
            "grid_auto_flow": null,
            "grid_auto_rows": null,
            "grid_column": null,
            "grid_gap": null,
            "grid_row": null,
            "grid_template_areas": null,
            "grid_template_columns": null,
            "grid_template_rows": null,
            "height": null,
            "justify_content": null,
            "justify_items": null,
            "left": null,
            "margin": null,
            "max_height": null,
            "max_width": null,
            "min_height": null,
            "min_width": null,
            "object_fit": null,
            "object_position": null,
            "order": null,
            "overflow": null,
            "overflow_x": null,
            "overflow_y": null,
            "padding": null,
            "right": null,
            "top": null,
            "visibility": null,
            "width": null
          }
        },
        "fe46dab10a3b42adb23bc410646ac4c0": {
          "model_module": "@jupyter-widgets/controls",
          "model_name": "DescriptionStyleModel",
          "model_module_version": "1.5.0",
          "state": {
            "_model_module": "@jupyter-widgets/controls",
            "_model_module_version": "1.5.0",
            "_model_name": "DescriptionStyleModel",
            "_view_count": null,
            "_view_module": "@jupyter-widgets/base",
            "_view_module_version": "1.2.0",
            "_view_name": "StyleView",
            "description_width": ""
          }
        },
        "c8f62f8768484d66a44051ea4657c864": {
          "model_module": "@jupyter-widgets/base",
          "model_name": "LayoutModel",
          "model_module_version": "1.2.0",
          "state": {
            "_model_module": "@jupyter-widgets/base",
            "_model_module_version": "1.2.0",
            "_model_name": "LayoutModel",
            "_view_count": null,
            "_view_module": "@jupyter-widgets/base",
            "_view_module_version": "1.2.0",
            "_view_name": "LayoutView",
            "align_content": null,
            "align_items": null,
            "align_self": null,
            "border": null,
            "bottom": null,
            "display": null,
            "flex": null,
            "flex_flow": null,
            "grid_area": null,
            "grid_auto_columns": null,
            "grid_auto_flow": null,
            "grid_auto_rows": null,
            "grid_column": null,
            "grid_gap": null,
            "grid_row": null,
            "grid_template_areas": null,
            "grid_template_columns": null,
            "grid_template_rows": null,
            "height": null,
            "justify_content": null,
            "justify_items": null,
            "left": null,
            "margin": null,
            "max_height": null,
            "max_width": null,
            "min_height": null,
            "min_width": null,
            "object_fit": null,
            "object_position": null,
            "order": null,
            "overflow": null,
            "overflow_x": null,
            "overflow_y": null,
            "padding": null,
            "right": null,
            "top": null,
            "visibility": null,
            "width": null
          }
        },
        "c42dfec34513439199068b1456b1ef24": {
          "model_module": "@jupyter-widgets/controls",
          "model_name": "ProgressStyleModel",
          "model_module_version": "1.5.0",
          "state": {
            "_model_module": "@jupyter-widgets/controls",
            "_model_module_version": "1.5.0",
            "_model_name": "ProgressStyleModel",
            "_view_count": null,
            "_view_module": "@jupyter-widgets/base",
            "_view_module_version": "1.2.0",
            "_view_name": "StyleView",
            "bar_color": null,
            "description_width": ""
          }
        },
        "70c26d405fa143c7ae258d4644751d34": {
          "model_module": "@jupyter-widgets/base",
          "model_name": "LayoutModel",
          "model_module_version": "1.2.0",
          "state": {
            "_model_module": "@jupyter-widgets/base",
            "_model_module_version": "1.2.0",
            "_model_name": "LayoutModel",
            "_view_count": null,
            "_view_module": "@jupyter-widgets/base",
            "_view_module_version": "1.2.0",
            "_view_name": "LayoutView",
            "align_content": null,
            "align_items": null,
            "align_self": null,
            "border": null,
            "bottom": null,
            "display": null,
            "flex": null,
            "flex_flow": null,
            "grid_area": null,
            "grid_auto_columns": null,
            "grid_auto_flow": null,
            "grid_auto_rows": null,
            "grid_column": null,
            "grid_gap": null,
            "grid_row": null,
            "grid_template_areas": null,
            "grid_template_columns": null,
            "grid_template_rows": null,
            "height": null,
            "justify_content": null,
            "justify_items": null,
            "left": null,
            "margin": null,
            "max_height": null,
            "max_width": null,
            "min_height": null,
            "min_width": null,
            "object_fit": null,
            "object_position": null,
            "order": null,
            "overflow": null,
            "overflow_x": null,
            "overflow_y": null,
            "padding": null,
            "right": null,
            "top": null,
            "visibility": null,
            "width": null
          }
        },
        "19ec6fed4b934109bb192e756adb5bf5": {
          "model_module": "@jupyter-widgets/controls",
          "model_name": "DescriptionStyleModel",
          "model_module_version": "1.5.0",
          "state": {
            "_model_module": "@jupyter-widgets/controls",
            "_model_module_version": "1.5.0",
            "_model_name": "DescriptionStyleModel",
            "_view_count": null,
            "_view_module": "@jupyter-widgets/base",
            "_view_module_version": "1.2.0",
            "_view_name": "StyleView",
            "description_width": ""
          }
        },
        "3b3eaf830ec746b795397c77587bc154": {
          "model_module": "@jupyter-widgets/controls",
          "model_name": "HBoxModel",
          "model_module_version": "1.5.0",
          "state": {
            "_dom_classes": [],
            "_model_module": "@jupyter-widgets/controls",
            "_model_module_version": "1.5.0",
            "_model_name": "HBoxModel",
            "_view_count": null,
            "_view_module": "@jupyter-widgets/controls",
            "_view_module_version": "1.5.0",
            "_view_name": "HBoxView",
            "box_style": "",
            "children": [
              "IPY_MODEL_889c894d48bb43d0a3538f2f9db210bd",
              "IPY_MODEL_7015fd2e03c84df8861589a76cc22b9f",
              "IPY_MODEL_6f54afa1fe5d404483d331c29a27ae74"
            ],
            "layout": "IPY_MODEL_98ad2440b3154fbaa818b916f9743663"
          }
        },
        "889c894d48bb43d0a3538f2f9db210bd": {
          "model_module": "@jupyter-widgets/controls",
          "model_name": "HTMLModel",
          "model_module_version": "1.5.0",
          "state": {
            "_dom_classes": [],
            "_model_module": "@jupyter-widgets/controls",
            "_model_module_version": "1.5.0",
            "_model_name": "HTMLModel",
            "_view_count": null,
            "_view_module": "@jupyter-widgets/controls",
            "_view_module_version": "1.5.0",
            "_view_name": "HTMLView",
            "description": "",
            "description_tooltip": null,
            "layout": "IPY_MODEL_0dcd6c11b9524ce591085dac230eb604",
            "placeholder": "​",
            "style": "IPY_MODEL_49fa32c84c024a38a1b38af2ff4c3141",
            "value": ""
          }
        },
        "7015fd2e03c84df8861589a76cc22b9f": {
          "model_module": "@jupyter-widgets/controls",
          "model_name": "FloatProgressModel",
          "model_module_version": "1.5.0",
          "state": {
            "_dom_classes": [],
            "_model_module": "@jupyter-widgets/controls",
            "_model_module_version": "1.5.0",
            "_model_name": "FloatProgressModel",
            "_view_count": null,
            "_view_module": "@jupyter-widgets/controls",
            "_view_module_version": "1.5.0",
            "_view_name": "ProgressView",
            "bar_style": "info",
            "description": "",
            "description_tooltip": null,
            "layout": "IPY_MODEL_5565a16b178446be8f73e396be8062a4",
            "max": 1,
            "min": 0,
            "orientation": "horizontal",
            "style": "IPY_MODEL_634892fef72946bbaa98a34fb203a2a2",
            "value": 1
          }
        },
        "6f54afa1fe5d404483d331c29a27ae74": {
          "model_module": "@jupyter-widgets/controls",
          "model_name": "HTMLModel",
          "model_module_version": "1.5.0",
          "state": {
            "_dom_classes": [],
            "_model_module": "@jupyter-widgets/controls",
            "_model_module_version": "1.5.0",
            "_model_name": "HTMLModel",
            "_view_count": null,
            "_view_module": "@jupyter-widgets/controls",
            "_view_module_version": "1.5.0",
            "_view_name": "HTMLView",
            "description": "",
            "description_tooltip": null,
            "layout": "IPY_MODEL_0b8fd404c4bb45f28159f6734310fa07",
            "placeholder": "​",
            "style": "IPY_MODEL_20e309ebe9294b648c0109d5aac0ec6c",
            "value": " 1/? [00:00&lt;00:00,  8.48 tables/s]"
          }
        },
        "98ad2440b3154fbaa818b916f9743663": {
          "model_module": "@jupyter-widgets/base",
          "model_name": "LayoutModel",
          "model_module_version": "1.2.0",
          "state": {
            "_model_module": "@jupyter-widgets/base",
            "_model_module_version": "1.2.0",
            "_model_name": "LayoutModel",
            "_view_count": null,
            "_view_module": "@jupyter-widgets/base",
            "_view_module_version": "1.2.0",
            "_view_name": "LayoutView",
            "align_content": null,
            "align_items": null,
            "align_self": null,
            "border": null,
            "bottom": null,
            "display": null,
            "flex": null,
            "flex_flow": null,
            "grid_area": null,
            "grid_auto_columns": null,
            "grid_auto_flow": null,
            "grid_auto_rows": null,
            "grid_column": null,
            "grid_gap": null,
            "grid_row": null,
            "grid_template_areas": null,
            "grid_template_columns": null,
            "grid_template_rows": null,
            "height": null,
            "justify_content": null,
            "justify_items": null,
            "left": null,
            "margin": null,
            "max_height": null,
            "max_width": null,
            "min_height": null,
            "min_width": null,
            "object_fit": null,
            "object_position": null,
            "order": null,
            "overflow": null,
            "overflow_x": null,
            "overflow_y": null,
            "padding": null,
            "right": null,
            "top": null,
            "visibility": null,
            "width": null
          }
        },
        "0dcd6c11b9524ce591085dac230eb604": {
          "model_module": "@jupyter-widgets/base",
          "model_name": "LayoutModel",
          "model_module_version": "1.2.0",
          "state": {
            "_model_module": "@jupyter-widgets/base",
            "_model_module_version": "1.2.0",
            "_model_name": "LayoutModel",
            "_view_count": null,
            "_view_module": "@jupyter-widgets/base",
            "_view_module_version": "1.2.0",
            "_view_name": "LayoutView",
            "align_content": null,
            "align_items": null,
            "align_self": null,
            "border": null,
            "bottom": null,
            "display": null,
            "flex": null,
            "flex_flow": null,
            "grid_area": null,
            "grid_auto_columns": null,
            "grid_auto_flow": null,
            "grid_auto_rows": null,
            "grid_column": null,
            "grid_gap": null,
            "grid_row": null,
            "grid_template_areas": null,
            "grid_template_columns": null,
            "grid_template_rows": null,
            "height": null,
            "justify_content": null,
            "justify_items": null,
            "left": null,
            "margin": null,
            "max_height": null,
            "max_width": null,
            "min_height": null,
            "min_width": null,
            "object_fit": null,
            "object_position": null,
            "order": null,
            "overflow": null,
            "overflow_x": null,
            "overflow_y": null,
            "padding": null,
            "right": null,
            "top": null,
            "visibility": null,
            "width": null
          }
        },
        "49fa32c84c024a38a1b38af2ff4c3141": {
          "model_module": "@jupyter-widgets/controls",
          "model_name": "DescriptionStyleModel",
          "model_module_version": "1.5.0",
          "state": {
            "_model_module": "@jupyter-widgets/controls",
            "_model_module_version": "1.5.0",
            "_model_name": "DescriptionStyleModel",
            "_view_count": null,
            "_view_module": "@jupyter-widgets/base",
            "_view_module_version": "1.2.0",
            "_view_name": "StyleView",
            "description_width": ""
          }
        },
        "5565a16b178446be8f73e396be8062a4": {
          "model_module": "@jupyter-widgets/base",
          "model_name": "LayoutModel",
          "model_module_version": "1.2.0",
          "state": {
            "_model_module": "@jupyter-widgets/base",
            "_model_module_version": "1.2.0",
            "_model_name": "LayoutModel",
            "_view_count": null,
            "_view_module": "@jupyter-widgets/base",
            "_view_module_version": "1.2.0",
            "_view_name": "LayoutView",
            "align_content": null,
            "align_items": null,
            "align_self": null,
            "border": null,
            "bottom": null,
            "display": null,
            "flex": null,
            "flex_flow": null,
            "grid_area": null,
            "grid_auto_columns": null,
            "grid_auto_flow": null,
            "grid_auto_rows": null,
            "grid_column": null,
            "grid_gap": null,
            "grid_row": null,
            "grid_template_areas": null,
            "grid_template_columns": null,
            "grid_template_rows": null,
            "height": null,
            "justify_content": null,
            "justify_items": null,
            "left": null,
            "margin": null,
            "max_height": null,
            "max_width": null,
            "min_height": null,
            "min_width": null,
            "object_fit": null,
            "object_position": null,
            "order": null,
            "overflow": null,
            "overflow_x": null,
            "overflow_y": null,
            "padding": null,
            "right": null,
            "top": null,
            "visibility": null,
            "width": "20px"
          }
        },
        "634892fef72946bbaa98a34fb203a2a2": {
          "model_module": "@jupyter-widgets/controls",
          "model_name": "ProgressStyleModel",
          "model_module_version": "1.5.0",
          "state": {
            "_model_module": "@jupyter-widgets/controls",
            "_model_module_version": "1.5.0",
            "_model_name": "ProgressStyleModel",
            "_view_count": null,
            "_view_module": "@jupyter-widgets/base",
            "_view_module_version": "1.2.0",
            "_view_name": "StyleView",
            "bar_color": null,
            "description_width": ""
          }
        },
        "0b8fd404c4bb45f28159f6734310fa07": {
          "model_module": "@jupyter-widgets/base",
          "model_name": "LayoutModel",
          "model_module_version": "1.2.0",
          "state": {
            "_model_module": "@jupyter-widgets/base",
            "_model_module_version": "1.2.0",
            "_model_name": "LayoutModel",
            "_view_count": null,
            "_view_module": "@jupyter-widgets/base",
            "_view_module_version": "1.2.0",
            "_view_name": "LayoutView",
            "align_content": null,
            "align_items": null,
            "align_self": null,
            "border": null,
            "bottom": null,
            "display": null,
            "flex": null,
            "flex_flow": null,
            "grid_area": null,
            "grid_auto_columns": null,
            "grid_auto_flow": null,
            "grid_auto_rows": null,
            "grid_column": null,
            "grid_gap": null,
            "grid_row": null,
            "grid_template_areas": null,
            "grid_template_columns": null,
            "grid_template_rows": null,
            "height": null,
            "justify_content": null,
            "justify_items": null,
            "left": null,
            "margin": null,
            "max_height": null,
            "max_width": null,
            "min_height": null,
            "min_width": null,
            "object_fit": null,
            "object_position": null,
            "order": null,
            "overflow": null,
            "overflow_x": null,
            "overflow_y": null,
            "padding": null,
            "right": null,
            "top": null,
            "visibility": null,
            "width": null
          }
        },
        "20e309ebe9294b648c0109d5aac0ec6c": {
          "model_module": "@jupyter-widgets/controls",
          "model_name": "DescriptionStyleModel",
          "model_module_version": "1.5.0",
          "state": {
            "_model_module": "@jupyter-widgets/controls",
            "_model_module_version": "1.5.0",
            "_model_name": "DescriptionStyleModel",
            "_view_count": null,
            "_view_module": "@jupyter-widgets/base",
            "_view_module_version": "1.2.0",
            "_view_name": "StyleView",
            "description_width": ""
          }
        },
        "aca23843684c428b9ab006a907dbeebc": {
          "model_module": "@jupyter-widgets/controls",
          "model_name": "HBoxModel",
          "model_module_version": "1.5.0",
          "state": {
            "_dom_classes": [],
            "_model_module": "@jupyter-widgets/controls",
            "_model_module_version": "1.5.0",
            "_model_name": "HBoxModel",
            "_view_count": null,
            "_view_module": "@jupyter-widgets/controls",
            "_view_module_version": "1.5.0",
            "_view_name": "HBoxView",
            "box_style": "",
            "children": [
              "IPY_MODEL_fb12386a3af54a8ca255fe7bebf7c754",
              "IPY_MODEL_ef2d985a9cab416c94606ed20d097504",
              "IPY_MODEL_421d29e257f84d96b91fa0428c470465"
            ],
            "layout": "IPY_MODEL_6fb1e6d6168f47e1a7e7de0f8dcc2025"
          }
        },
        "fb12386a3af54a8ca255fe7bebf7c754": {
          "model_module": "@jupyter-widgets/controls",
          "model_name": "HTMLModel",
          "model_module_version": "1.5.0",
          "state": {
            "_dom_classes": [],
            "_model_module": "@jupyter-widgets/controls",
            "_model_module_version": "1.5.0",
            "_model_name": "HTMLModel",
            "_view_count": null,
            "_view_module": "@jupyter-widgets/controls",
            "_view_module_version": "1.5.0",
            "_view_name": "HTMLView",
            "description": "",
            "description_tooltip": null,
            "layout": "IPY_MODEL_4ca055670c454f65a207b1ab1ce3464a",
            "placeholder": "​",
            "style": "IPY_MODEL_139534933b1947ab8474acc7ceb9f8f1",
            "value": "100%"
          }
        },
        "ef2d985a9cab416c94606ed20d097504": {
          "model_module": "@jupyter-widgets/controls",
          "model_name": "FloatProgressModel",
          "model_module_version": "1.5.0",
          "state": {
            "_dom_classes": [],
            "_model_module": "@jupyter-widgets/controls",
            "_model_module_version": "1.5.0",
            "_model_name": "FloatProgressModel",
            "_view_count": null,
            "_view_module": "@jupyter-widgets/controls",
            "_view_module_version": "1.5.0",
            "_view_name": "ProgressView",
            "bar_style": "success",
            "description": "",
            "description_tooltip": null,
            "layout": "IPY_MODEL_d9fe8efc89474351ab5aab2411e09d50",
            "max": 1,
            "min": 0,
            "orientation": "horizontal",
            "style": "IPY_MODEL_3cb8da2d980842dd990c201384103024",
            "value": 1
          }
        },
        "421d29e257f84d96b91fa0428c470465": {
          "model_module": "@jupyter-widgets/controls",
          "model_name": "HTMLModel",
          "model_module_version": "1.5.0",
          "state": {
            "_dom_classes": [],
            "_model_module": "@jupyter-widgets/controls",
            "_model_module_version": "1.5.0",
            "_model_name": "HTMLModel",
            "_view_count": null,
            "_view_module": "@jupyter-widgets/controls",
            "_view_module_version": "1.5.0",
            "_view_name": "HTMLView",
            "description": "",
            "description_tooltip": null,
            "layout": "IPY_MODEL_7a2be34fc57144ff8e3d8dfaf45382c2",
            "placeholder": "​",
            "style": "IPY_MODEL_771754f12cd0427a86753056f90a73f8",
            "value": " 1/1 [00:00&lt;00:00, 31.41it/s]"
          }
        },
        "6fb1e6d6168f47e1a7e7de0f8dcc2025": {
          "model_module": "@jupyter-widgets/base",
          "model_name": "LayoutModel",
          "model_module_version": "1.2.0",
          "state": {
            "_model_module": "@jupyter-widgets/base",
            "_model_module_version": "1.2.0",
            "_model_name": "LayoutModel",
            "_view_count": null,
            "_view_module": "@jupyter-widgets/base",
            "_view_module_version": "1.2.0",
            "_view_name": "LayoutView",
            "align_content": null,
            "align_items": null,
            "align_self": null,
            "border": null,
            "bottom": null,
            "display": null,
            "flex": null,
            "flex_flow": null,
            "grid_area": null,
            "grid_auto_columns": null,
            "grid_auto_flow": null,
            "grid_auto_rows": null,
            "grid_column": null,
            "grid_gap": null,
            "grid_row": null,
            "grid_template_areas": null,
            "grid_template_columns": null,
            "grid_template_rows": null,
            "height": null,
            "justify_content": null,
            "justify_items": null,
            "left": null,
            "margin": null,
            "max_height": null,
            "max_width": null,
            "min_height": null,
            "min_width": null,
            "object_fit": null,
            "object_position": null,
            "order": null,
            "overflow": null,
            "overflow_x": null,
            "overflow_y": null,
            "padding": null,
            "right": null,
            "top": null,
            "visibility": null,
            "width": null
          }
        },
        "4ca055670c454f65a207b1ab1ce3464a": {
          "model_module": "@jupyter-widgets/base",
          "model_name": "LayoutModel",
          "model_module_version": "1.2.0",
          "state": {
            "_model_module": "@jupyter-widgets/base",
            "_model_module_version": "1.2.0",
            "_model_name": "LayoutModel",
            "_view_count": null,
            "_view_module": "@jupyter-widgets/base",
            "_view_module_version": "1.2.0",
            "_view_name": "LayoutView",
            "align_content": null,
            "align_items": null,
            "align_self": null,
            "border": null,
            "bottom": null,
            "display": null,
            "flex": null,
            "flex_flow": null,
            "grid_area": null,
            "grid_auto_columns": null,
            "grid_auto_flow": null,
            "grid_auto_rows": null,
            "grid_column": null,
            "grid_gap": null,
            "grid_row": null,
            "grid_template_areas": null,
            "grid_template_columns": null,
            "grid_template_rows": null,
            "height": null,
            "justify_content": null,
            "justify_items": null,
            "left": null,
            "margin": null,
            "max_height": null,
            "max_width": null,
            "min_height": null,
            "min_width": null,
            "object_fit": null,
            "object_position": null,
            "order": null,
            "overflow": null,
            "overflow_x": null,
            "overflow_y": null,
            "padding": null,
            "right": null,
            "top": null,
            "visibility": null,
            "width": null
          }
        },
        "139534933b1947ab8474acc7ceb9f8f1": {
          "model_module": "@jupyter-widgets/controls",
          "model_name": "DescriptionStyleModel",
          "model_module_version": "1.5.0",
          "state": {
            "_model_module": "@jupyter-widgets/controls",
            "_model_module_version": "1.5.0",
            "_model_name": "DescriptionStyleModel",
            "_view_count": null,
            "_view_module": "@jupyter-widgets/base",
            "_view_module_version": "1.2.0",
            "_view_name": "StyleView",
            "description_width": ""
          }
        },
        "d9fe8efc89474351ab5aab2411e09d50": {
          "model_module": "@jupyter-widgets/base",
          "model_name": "LayoutModel",
          "model_module_version": "1.2.0",
          "state": {
            "_model_module": "@jupyter-widgets/base",
            "_model_module_version": "1.2.0",
            "_model_name": "LayoutModel",
            "_view_count": null,
            "_view_module": "@jupyter-widgets/base",
            "_view_module_version": "1.2.0",
            "_view_name": "LayoutView",
            "align_content": null,
            "align_items": null,
            "align_self": null,
            "border": null,
            "bottom": null,
            "display": null,
            "flex": null,
            "flex_flow": null,
            "grid_area": null,
            "grid_auto_columns": null,
            "grid_auto_flow": null,
            "grid_auto_rows": null,
            "grid_column": null,
            "grid_gap": null,
            "grid_row": null,
            "grid_template_areas": null,
            "grid_template_columns": null,
            "grid_template_rows": null,
            "height": null,
            "justify_content": null,
            "justify_items": null,
            "left": null,
            "margin": null,
            "max_height": null,
            "max_width": null,
            "min_height": null,
            "min_width": null,
            "object_fit": null,
            "object_position": null,
            "order": null,
            "overflow": null,
            "overflow_x": null,
            "overflow_y": null,
            "padding": null,
            "right": null,
            "top": null,
            "visibility": null,
            "width": null
          }
        },
        "3cb8da2d980842dd990c201384103024": {
          "model_module": "@jupyter-widgets/controls",
          "model_name": "ProgressStyleModel",
          "model_module_version": "1.5.0",
          "state": {
            "_model_module": "@jupyter-widgets/controls",
            "_model_module_version": "1.5.0",
            "_model_name": "ProgressStyleModel",
            "_view_count": null,
            "_view_module": "@jupyter-widgets/base",
            "_view_module_version": "1.2.0",
            "_view_name": "StyleView",
            "bar_color": null,
            "description_width": ""
          }
        },
        "7a2be34fc57144ff8e3d8dfaf45382c2": {
          "model_module": "@jupyter-widgets/base",
          "model_name": "LayoutModel",
          "model_module_version": "1.2.0",
          "state": {
            "_model_module": "@jupyter-widgets/base",
            "_model_module_version": "1.2.0",
            "_model_name": "LayoutModel",
            "_view_count": null,
            "_view_module": "@jupyter-widgets/base",
            "_view_module_version": "1.2.0",
            "_view_name": "LayoutView",
            "align_content": null,
            "align_items": null,
            "align_self": null,
            "border": null,
            "bottom": null,
            "display": null,
            "flex": null,
            "flex_flow": null,
            "grid_area": null,
            "grid_auto_columns": null,
            "grid_auto_flow": null,
            "grid_auto_rows": null,
            "grid_column": null,
            "grid_gap": null,
            "grid_row": null,
            "grid_template_areas": null,
            "grid_template_columns": null,
            "grid_template_rows": null,
            "height": null,
            "justify_content": null,
            "justify_items": null,
            "left": null,
            "margin": null,
            "max_height": null,
            "max_width": null,
            "min_height": null,
            "min_width": null,
            "object_fit": null,
            "object_position": null,
            "order": null,
            "overflow": null,
            "overflow_x": null,
            "overflow_y": null,
            "padding": null,
            "right": null,
            "top": null,
            "visibility": null,
            "width": null
          }
        },
        "771754f12cd0427a86753056f90a73f8": {
          "model_module": "@jupyter-widgets/controls",
          "model_name": "DescriptionStyleModel",
          "model_module_version": "1.5.0",
          "state": {
            "_model_module": "@jupyter-widgets/controls",
            "_model_module_version": "1.5.0",
            "_model_name": "DescriptionStyleModel",
            "_view_count": null,
            "_view_module": "@jupyter-widgets/base",
            "_view_module_version": "1.2.0",
            "_view_name": "StyleView",
            "description_width": ""
          }
        },
        "d814fba35ee343548f2c4352d8339b40": {
          "model_module": "@jupyter-widgets/controls",
          "model_name": "HBoxModel",
          "model_module_version": "1.5.0",
          "state": {
            "_dom_classes": [],
            "_model_module": "@jupyter-widgets/controls",
            "_model_module_version": "1.5.0",
            "_model_name": "HBoxModel",
            "_view_count": null,
            "_view_module": "@jupyter-widgets/controls",
            "_view_module_version": "1.5.0",
            "_view_name": "HBoxView",
            "box_style": "",
            "children": [
              "IPY_MODEL_1c037aefd94643afb29f387dec99376b",
              "IPY_MODEL_49a38fec08ce4a9fb9fdcfe81490006a",
              "IPY_MODEL_53f616544bcd4701b9a3141a7f4973ac"
            ],
            "layout": "IPY_MODEL_75ed05d9fe33480a948e9a244d6b92a9"
          }
        },
        "1c037aefd94643afb29f387dec99376b": {
          "model_module": "@jupyter-widgets/controls",
          "model_name": "HTMLModel",
          "model_module_version": "1.5.0",
          "state": {
            "_dom_classes": [],
            "_model_module": "@jupyter-widgets/controls",
            "_model_module_version": "1.5.0",
            "_model_name": "HTMLModel",
            "_view_count": null,
            "_view_module": "@jupyter-widgets/controls",
            "_view_module_version": "1.5.0",
            "_view_name": "HTMLView",
            "description": "",
            "description_tooltip": null,
            "layout": "IPY_MODEL_c487398d07aa4d249b2921b4a1591a0a",
            "placeholder": "​",
            "style": "IPY_MODEL_0e8e9afdf6ca4dc5a31c856cae2ba41c",
            "value": "Downloading data files: 100%"
          }
        },
        "49a38fec08ce4a9fb9fdcfe81490006a": {
          "model_module": "@jupyter-widgets/controls",
          "model_name": "FloatProgressModel",
          "model_module_version": "1.5.0",
          "state": {
            "_dom_classes": [],
            "_model_module": "@jupyter-widgets/controls",
            "_model_module_version": "1.5.0",
            "_model_name": "FloatProgressModel",
            "_view_count": null,
            "_view_module": "@jupyter-widgets/controls",
            "_view_module_version": "1.5.0",
            "_view_name": "ProgressView",
            "bar_style": "success",
            "description": "",
            "description_tooltip": null,
            "layout": "IPY_MODEL_b942ee60b42b4adbb3ca742506763b9a",
            "max": 1,
            "min": 0,
            "orientation": "horizontal",
            "style": "IPY_MODEL_4709609c0c81405bb0fc72450cbf1793",
            "value": 1
          }
        },
        "53f616544bcd4701b9a3141a7f4973ac": {
          "model_module": "@jupyter-widgets/controls",
          "model_name": "HTMLModel",
          "model_module_version": "1.5.0",
          "state": {
            "_dom_classes": [],
            "_model_module": "@jupyter-widgets/controls",
            "_model_module_version": "1.5.0",
            "_model_name": "HTMLModel",
            "_view_count": null,
            "_view_module": "@jupyter-widgets/controls",
            "_view_module_version": "1.5.0",
            "_view_name": "HTMLView",
            "description": "",
            "description_tooltip": null,
            "layout": "IPY_MODEL_a49d5b575e4b49c18106dc70fd46a7da",
            "placeholder": "​",
            "style": "IPY_MODEL_452163a3bdcd41aaa49f69bb2195f474",
            "value": " 1/1 [00:00&lt;00:00, 22.16it/s]"
          }
        },
        "75ed05d9fe33480a948e9a244d6b92a9": {
          "model_module": "@jupyter-widgets/base",
          "model_name": "LayoutModel",
          "model_module_version": "1.2.0",
          "state": {
            "_model_module": "@jupyter-widgets/base",
            "_model_module_version": "1.2.0",
            "_model_name": "LayoutModel",
            "_view_count": null,
            "_view_module": "@jupyter-widgets/base",
            "_view_module_version": "1.2.0",
            "_view_name": "LayoutView",
            "align_content": null,
            "align_items": null,
            "align_self": null,
            "border": null,
            "bottom": null,
            "display": null,
            "flex": null,
            "flex_flow": null,
            "grid_area": null,
            "grid_auto_columns": null,
            "grid_auto_flow": null,
            "grid_auto_rows": null,
            "grid_column": null,
            "grid_gap": null,
            "grid_row": null,
            "grid_template_areas": null,
            "grid_template_columns": null,
            "grid_template_rows": null,
            "height": null,
            "justify_content": null,
            "justify_items": null,
            "left": null,
            "margin": null,
            "max_height": null,
            "max_width": null,
            "min_height": null,
            "min_width": null,
            "object_fit": null,
            "object_position": null,
            "order": null,
            "overflow": null,
            "overflow_x": null,
            "overflow_y": null,
            "padding": null,
            "right": null,
            "top": null,
            "visibility": null,
            "width": null
          }
        },
        "c487398d07aa4d249b2921b4a1591a0a": {
          "model_module": "@jupyter-widgets/base",
          "model_name": "LayoutModel",
          "model_module_version": "1.2.0",
          "state": {
            "_model_module": "@jupyter-widgets/base",
            "_model_module_version": "1.2.0",
            "_model_name": "LayoutModel",
            "_view_count": null,
            "_view_module": "@jupyter-widgets/base",
            "_view_module_version": "1.2.0",
            "_view_name": "LayoutView",
            "align_content": null,
            "align_items": null,
            "align_self": null,
            "border": null,
            "bottom": null,
            "display": null,
            "flex": null,
            "flex_flow": null,
            "grid_area": null,
            "grid_auto_columns": null,
            "grid_auto_flow": null,
            "grid_auto_rows": null,
            "grid_column": null,
            "grid_gap": null,
            "grid_row": null,
            "grid_template_areas": null,
            "grid_template_columns": null,
            "grid_template_rows": null,
            "height": null,
            "justify_content": null,
            "justify_items": null,
            "left": null,
            "margin": null,
            "max_height": null,
            "max_width": null,
            "min_height": null,
            "min_width": null,
            "object_fit": null,
            "object_position": null,
            "order": null,
            "overflow": null,
            "overflow_x": null,
            "overflow_y": null,
            "padding": null,
            "right": null,
            "top": null,
            "visibility": null,
            "width": null
          }
        },
        "0e8e9afdf6ca4dc5a31c856cae2ba41c": {
          "model_module": "@jupyter-widgets/controls",
          "model_name": "DescriptionStyleModel",
          "model_module_version": "1.5.0",
          "state": {
            "_model_module": "@jupyter-widgets/controls",
            "_model_module_version": "1.5.0",
            "_model_name": "DescriptionStyleModel",
            "_view_count": null,
            "_view_module": "@jupyter-widgets/base",
            "_view_module_version": "1.2.0",
            "_view_name": "StyleView",
            "description_width": ""
          }
        },
        "b942ee60b42b4adbb3ca742506763b9a": {
          "model_module": "@jupyter-widgets/base",
          "model_name": "LayoutModel",
          "model_module_version": "1.2.0",
          "state": {
            "_model_module": "@jupyter-widgets/base",
            "_model_module_version": "1.2.0",
            "_model_name": "LayoutModel",
            "_view_count": null,
            "_view_module": "@jupyter-widgets/base",
            "_view_module_version": "1.2.0",
            "_view_name": "LayoutView",
            "align_content": null,
            "align_items": null,
            "align_self": null,
            "border": null,
            "bottom": null,
            "display": null,
            "flex": null,
            "flex_flow": null,
            "grid_area": null,
            "grid_auto_columns": null,
            "grid_auto_flow": null,
            "grid_auto_rows": null,
            "grid_column": null,
            "grid_gap": null,
            "grid_row": null,
            "grid_template_areas": null,
            "grid_template_columns": null,
            "grid_template_rows": null,
            "height": null,
            "justify_content": null,
            "justify_items": null,
            "left": null,
            "margin": null,
            "max_height": null,
            "max_width": null,
            "min_height": null,
            "min_width": null,
            "object_fit": null,
            "object_position": null,
            "order": null,
            "overflow": null,
            "overflow_x": null,
            "overflow_y": null,
            "padding": null,
            "right": null,
            "top": null,
            "visibility": null,
            "width": null
          }
        },
        "4709609c0c81405bb0fc72450cbf1793": {
          "model_module": "@jupyter-widgets/controls",
          "model_name": "ProgressStyleModel",
          "model_module_version": "1.5.0",
          "state": {
            "_model_module": "@jupyter-widgets/controls",
            "_model_module_version": "1.5.0",
            "_model_name": "ProgressStyleModel",
            "_view_count": null,
            "_view_module": "@jupyter-widgets/base",
            "_view_module_version": "1.2.0",
            "_view_name": "StyleView",
            "bar_color": null,
            "description_width": ""
          }
        },
        "a49d5b575e4b49c18106dc70fd46a7da": {
          "model_module": "@jupyter-widgets/base",
          "model_name": "LayoutModel",
          "model_module_version": "1.2.0",
          "state": {
            "_model_module": "@jupyter-widgets/base",
            "_model_module_version": "1.2.0",
            "_model_name": "LayoutModel",
            "_view_count": null,
            "_view_module": "@jupyter-widgets/base",
            "_view_module_version": "1.2.0",
            "_view_name": "LayoutView",
            "align_content": null,
            "align_items": null,
            "align_self": null,
            "border": null,
            "bottom": null,
            "display": null,
            "flex": null,
            "flex_flow": null,
            "grid_area": null,
            "grid_auto_columns": null,
            "grid_auto_flow": null,
            "grid_auto_rows": null,
            "grid_column": null,
            "grid_gap": null,
            "grid_row": null,
            "grid_template_areas": null,
            "grid_template_columns": null,
            "grid_template_rows": null,
            "height": null,
            "justify_content": null,
            "justify_items": null,
            "left": null,
            "margin": null,
            "max_height": null,
            "max_width": null,
            "min_height": null,
            "min_width": null,
            "object_fit": null,
            "object_position": null,
            "order": null,
            "overflow": null,
            "overflow_x": null,
            "overflow_y": null,
            "padding": null,
            "right": null,
            "top": null,
            "visibility": null,
            "width": null
          }
        },
        "452163a3bdcd41aaa49f69bb2195f474": {
          "model_module": "@jupyter-widgets/controls",
          "model_name": "DescriptionStyleModel",
          "model_module_version": "1.5.0",
          "state": {
            "_model_module": "@jupyter-widgets/controls",
            "_model_module_version": "1.5.0",
            "_model_name": "DescriptionStyleModel",
            "_view_count": null,
            "_view_module": "@jupyter-widgets/base",
            "_view_module_version": "1.2.0",
            "_view_name": "StyleView",
            "description_width": ""
          }
        },
        "3c2446df82584451b1ff224b24ab1b5d": {
          "model_module": "@jupyter-widgets/controls",
          "model_name": "HBoxModel",
          "model_module_version": "1.5.0",
          "state": {
            "_dom_classes": [],
            "_model_module": "@jupyter-widgets/controls",
            "_model_module_version": "1.5.0",
            "_model_name": "HBoxModel",
            "_view_count": null,
            "_view_module": "@jupyter-widgets/controls",
            "_view_module_version": "1.5.0",
            "_view_name": "HBoxView",
            "box_style": "",
            "children": [
              "IPY_MODEL_144c38082715417da1e79ff866b79d10",
              "IPY_MODEL_aa9029057a4449529d982b4214a5c1a7",
              "IPY_MODEL_1a68b1a8931a44ce912e240871abeb61"
            ],
            "layout": "IPY_MODEL_088f03687af34aa9a136c54956676e73"
          }
        },
        "144c38082715417da1e79ff866b79d10": {
          "model_module": "@jupyter-widgets/controls",
          "model_name": "HTMLModel",
          "model_module_version": "1.5.0",
          "state": {
            "_dom_classes": [],
            "_model_module": "@jupyter-widgets/controls",
            "_model_module_version": "1.5.0",
            "_model_name": "HTMLModel",
            "_view_count": null,
            "_view_module": "@jupyter-widgets/controls",
            "_view_module_version": "1.5.0",
            "_view_name": "HTMLView",
            "description": "",
            "description_tooltip": null,
            "layout": "IPY_MODEL_c5f57a9561a747fa82d3cc10e5916ad3",
            "placeholder": "​",
            "style": "IPY_MODEL_2c733e00d9284533ad222fabcbe42308",
            "value": "Extracting data files: 100%"
          }
        },
        "aa9029057a4449529d982b4214a5c1a7": {
          "model_module": "@jupyter-widgets/controls",
          "model_name": "FloatProgressModel",
          "model_module_version": "1.5.0",
          "state": {
            "_dom_classes": [],
            "_model_module": "@jupyter-widgets/controls",
            "_model_module_version": "1.5.0",
            "_model_name": "FloatProgressModel",
            "_view_count": null,
            "_view_module": "@jupyter-widgets/controls",
            "_view_module_version": "1.5.0",
            "_view_name": "ProgressView",
            "bar_style": "success",
            "description": "",
            "description_tooltip": null,
            "layout": "IPY_MODEL_aedd9f39d6f448dfbc60381c4c726b71",
            "max": 1,
            "min": 0,
            "orientation": "horizontal",
            "style": "IPY_MODEL_d44c79735aa04ca79294830c6e8d34a0",
            "value": 1
          }
        },
        "1a68b1a8931a44ce912e240871abeb61": {
          "model_module": "@jupyter-widgets/controls",
          "model_name": "HTMLModel",
          "model_module_version": "1.5.0",
          "state": {
            "_dom_classes": [],
            "_model_module": "@jupyter-widgets/controls",
            "_model_module_version": "1.5.0",
            "_model_name": "HTMLModel",
            "_view_count": null,
            "_view_module": "@jupyter-widgets/controls",
            "_view_module_version": "1.5.0",
            "_view_name": "HTMLView",
            "description": "",
            "description_tooltip": null,
            "layout": "IPY_MODEL_c96dcb1c89ce49c4a611a91dfc66913b",
            "placeholder": "​",
            "style": "IPY_MODEL_5a4a359e75544313a1f6e79ce43ae3b4",
            "value": " 1/1 [00:00&lt;00:00, 19.27it/s]"
          }
        },
        "088f03687af34aa9a136c54956676e73": {
          "model_module": "@jupyter-widgets/base",
          "model_name": "LayoutModel",
          "model_module_version": "1.2.0",
          "state": {
            "_model_module": "@jupyter-widgets/base",
            "_model_module_version": "1.2.0",
            "_model_name": "LayoutModel",
            "_view_count": null,
            "_view_module": "@jupyter-widgets/base",
            "_view_module_version": "1.2.0",
            "_view_name": "LayoutView",
            "align_content": null,
            "align_items": null,
            "align_self": null,
            "border": null,
            "bottom": null,
            "display": null,
            "flex": null,
            "flex_flow": null,
            "grid_area": null,
            "grid_auto_columns": null,
            "grid_auto_flow": null,
            "grid_auto_rows": null,
            "grid_column": null,
            "grid_gap": null,
            "grid_row": null,
            "grid_template_areas": null,
            "grid_template_columns": null,
            "grid_template_rows": null,
            "height": null,
            "justify_content": null,
            "justify_items": null,
            "left": null,
            "margin": null,
            "max_height": null,
            "max_width": null,
            "min_height": null,
            "min_width": null,
            "object_fit": null,
            "object_position": null,
            "order": null,
            "overflow": null,
            "overflow_x": null,
            "overflow_y": null,
            "padding": null,
            "right": null,
            "top": null,
            "visibility": null,
            "width": null
          }
        },
        "c5f57a9561a747fa82d3cc10e5916ad3": {
          "model_module": "@jupyter-widgets/base",
          "model_name": "LayoutModel",
          "model_module_version": "1.2.0",
          "state": {
            "_model_module": "@jupyter-widgets/base",
            "_model_module_version": "1.2.0",
            "_model_name": "LayoutModel",
            "_view_count": null,
            "_view_module": "@jupyter-widgets/base",
            "_view_module_version": "1.2.0",
            "_view_name": "LayoutView",
            "align_content": null,
            "align_items": null,
            "align_self": null,
            "border": null,
            "bottom": null,
            "display": null,
            "flex": null,
            "flex_flow": null,
            "grid_area": null,
            "grid_auto_columns": null,
            "grid_auto_flow": null,
            "grid_auto_rows": null,
            "grid_column": null,
            "grid_gap": null,
            "grid_row": null,
            "grid_template_areas": null,
            "grid_template_columns": null,
            "grid_template_rows": null,
            "height": null,
            "justify_content": null,
            "justify_items": null,
            "left": null,
            "margin": null,
            "max_height": null,
            "max_width": null,
            "min_height": null,
            "min_width": null,
            "object_fit": null,
            "object_position": null,
            "order": null,
            "overflow": null,
            "overflow_x": null,
            "overflow_y": null,
            "padding": null,
            "right": null,
            "top": null,
            "visibility": null,
            "width": null
          }
        },
        "2c733e00d9284533ad222fabcbe42308": {
          "model_module": "@jupyter-widgets/controls",
          "model_name": "DescriptionStyleModel",
          "model_module_version": "1.5.0",
          "state": {
            "_model_module": "@jupyter-widgets/controls",
            "_model_module_version": "1.5.0",
            "_model_name": "DescriptionStyleModel",
            "_view_count": null,
            "_view_module": "@jupyter-widgets/base",
            "_view_module_version": "1.2.0",
            "_view_name": "StyleView",
            "description_width": ""
          }
        },
        "aedd9f39d6f448dfbc60381c4c726b71": {
          "model_module": "@jupyter-widgets/base",
          "model_name": "LayoutModel",
          "model_module_version": "1.2.0",
          "state": {
            "_model_module": "@jupyter-widgets/base",
            "_model_module_version": "1.2.0",
            "_model_name": "LayoutModel",
            "_view_count": null,
            "_view_module": "@jupyter-widgets/base",
            "_view_module_version": "1.2.0",
            "_view_name": "LayoutView",
            "align_content": null,
            "align_items": null,
            "align_self": null,
            "border": null,
            "bottom": null,
            "display": null,
            "flex": null,
            "flex_flow": null,
            "grid_area": null,
            "grid_auto_columns": null,
            "grid_auto_flow": null,
            "grid_auto_rows": null,
            "grid_column": null,
            "grid_gap": null,
            "grid_row": null,
            "grid_template_areas": null,
            "grid_template_columns": null,
            "grid_template_rows": null,
            "height": null,
            "justify_content": null,
            "justify_items": null,
            "left": null,
            "margin": null,
            "max_height": null,
            "max_width": null,
            "min_height": null,
            "min_width": null,
            "object_fit": null,
            "object_position": null,
            "order": null,
            "overflow": null,
            "overflow_x": null,
            "overflow_y": null,
            "padding": null,
            "right": null,
            "top": null,
            "visibility": null,
            "width": null
          }
        },
        "d44c79735aa04ca79294830c6e8d34a0": {
          "model_module": "@jupyter-widgets/controls",
          "model_name": "ProgressStyleModel",
          "model_module_version": "1.5.0",
          "state": {
            "_model_module": "@jupyter-widgets/controls",
            "_model_module_version": "1.5.0",
            "_model_name": "ProgressStyleModel",
            "_view_count": null,
            "_view_module": "@jupyter-widgets/base",
            "_view_module_version": "1.2.0",
            "_view_name": "StyleView",
            "bar_color": null,
            "description_width": ""
          }
        },
        "c96dcb1c89ce49c4a611a91dfc66913b": {
          "model_module": "@jupyter-widgets/base",
          "model_name": "LayoutModel",
          "model_module_version": "1.2.0",
          "state": {
            "_model_module": "@jupyter-widgets/base",
            "_model_module_version": "1.2.0",
            "_model_name": "LayoutModel",
            "_view_count": null,
            "_view_module": "@jupyter-widgets/base",
            "_view_module_version": "1.2.0",
            "_view_name": "LayoutView",
            "align_content": null,
            "align_items": null,
            "align_self": null,
            "border": null,
            "bottom": null,
            "display": null,
            "flex": null,
            "flex_flow": null,
            "grid_area": null,
            "grid_auto_columns": null,
            "grid_auto_flow": null,
            "grid_auto_rows": null,
            "grid_column": null,
            "grid_gap": null,
            "grid_row": null,
            "grid_template_areas": null,
            "grid_template_columns": null,
            "grid_template_rows": null,
            "height": null,
            "justify_content": null,
            "justify_items": null,
            "left": null,
            "margin": null,
            "max_height": null,
            "max_width": null,
            "min_height": null,
            "min_width": null,
            "object_fit": null,
            "object_position": null,
            "order": null,
            "overflow": null,
            "overflow_x": null,
            "overflow_y": null,
            "padding": null,
            "right": null,
            "top": null,
            "visibility": null,
            "width": null
          }
        },
        "5a4a359e75544313a1f6e79ce43ae3b4": {
          "model_module": "@jupyter-widgets/controls",
          "model_name": "DescriptionStyleModel",
          "model_module_version": "1.5.0",
          "state": {
            "_model_module": "@jupyter-widgets/controls",
            "_model_module_version": "1.5.0",
            "_model_name": "DescriptionStyleModel",
            "_view_count": null,
            "_view_module": "@jupyter-widgets/base",
            "_view_module_version": "1.2.0",
            "_view_name": "StyleView",
            "description_width": ""
          }
        },
        "7c608af71560437da924f4b030e5a0c5": {
          "model_module": "@jupyter-widgets/controls",
          "model_name": "HBoxModel",
          "model_module_version": "1.5.0",
          "state": {
            "_dom_classes": [],
            "_model_module": "@jupyter-widgets/controls",
            "_model_module_version": "1.5.0",
            "_model_name": "HBoxModel",
            "_view_count": null,
            "_view_module": "@jupyter-widgets/controls",
            "_view_module_version": "1.5.0",
            "_view_name": "HBoxView",
            "box_style": "",
            "children": [
              "IPY_MODEL_dad917e2371e4787a64041e304e27996",
              "IPY_MODEL_f74492c2147b4bada9bc53639dcd08c4",
              "IPY_MODEL_4f71c4419a9443279e2e15d08a6c19f7"
            ],
            "layout": "IPY_MODEL_6ab9b1e3c95c4ad3ab97d80b887f51c6"
          }
        },
        "dad917e2371e4787a64041e304e27996": {
          "model_module": "@jupyter-widgets/controls",
          "model_name": "HTMLModel",
          "model_module_version": "1.5.0",
          "state": {
            "_dom_classes": [],
            "_model_module": "@jupyter-widgets/controls",
            "_model_module_version": "1.5.0",
            "_model_name": "HTMLModel",
            "_view_count": null,
            "_view_module": "@jupyter-widgets/controls",
            "_view_module_version": "1.5.0",
            "_view_name": "HTMLView",
            "description": "",
            "description_tooltip": null,
            "layout": "IPY_MODEL_fc6b439ad67748339024a715d851bf18",
            "placeholder": "​",
            "style": "IPY_MODEL_ff5001979f9d422aba8a5be0d671633a",
            "value": ""
          }
        },
        "f74492c2147b4bada9bc53639dcd08c4": {
          "model_module": "@jupyter-widgets/controls",
          "model_name": "FloatProgressModel",
          "model_module_version": "1.5.0",
          "state": {
            "_dom_classes": [],
            "_model_module": "@jupyter-widgets/controls",
            "_model_module_version": "1.5.0",
            "_model_name": "FloatProgressModel",
            "_view_count": null,
            "_view_module": "@jupyter-widgets/controls",
            "_view_module_version": "1.5.0",
            "_view_name": "ProgressView",
            "bar_style": "info",
            "description": "",
            "description_tooltip": null,
            "layout": "IPY_MODEL_5ba65776157e4173a1eac9323e4f069b",
            "max": 1,
            "min": 0,
            "orientation": "horizontal",
            "style": "IPY_MODEL_62f1f7b27ea446b5a0494edfb0401c2b",
            "value": 1
          }
        },
        "4f71c4419a9443279e2e15d08a6c19f7": {
          "model_module": "@jupyter-widgets/controls",
          "model_name": "HTMLModel",
          "model_module_version": "1.5.0",
          "state": {
            "_dom_classes": [],
            "_model_module": "@jupyter-widgets/controls",
            "_model_module_version": "1.5.0",
            "_model_name": "HTMLModel",
            "_view_count": null,
            "_view_module": "@jupyter-widgets/controls",
            "_view_module_version": "1.5.0",
            "_view_name": "HTMLView",
            "description": "",
            "description_tooltip": null,
            "layout": "IPY_MODEL_da0a4462cfb8492f8379a4faa22c47e8",
            "placeholder": "​",
            "style": "IPY_MODEL_0145a9d8eace4ad389e38e5b4751c836",
            "value": " 0/? [00:00&lt;?, ? tables/s]"
          }
        },
        "6ab9b1e3c95c4ad3ab97d80b887f51c6": {
          "model_module": "@jupyter-widgets/base",
          "model_name": "LayoutModel",
          "model_module_version": "1.2.0",
          "state": {
            "_model_module": "@jupyter-widgets/base",
            "_model_module_version": "1.2.0",
            "_model_name": "LayoutModel",
            "_view_count": null,
            "_view_module": "@jupyter-widgets/base",
            "_view_module_version": "1.2.0",
            "_view_name": "LayoutView",
            "align_content": null,
            "align_items": null,
            "align_self": null,
            "border": null,
            "bottom": null,
            "display": null,
            "flex": null,
            "flex_flow": null,
            "grid_area": null,
            "grid_auto_columns": null,
            "grid_auto_flow": null,
            "grid_auto_rows": null,
            "grid_column": null,
            "grid_gap": null,
            "grid_row": null,
            "grid_template_areas": null,
            "grid_template_columns": null,
            "grid_template_rows": null,
            "height": null,
            "justify_content": null,
            "justify_items": null,
            "left": null,
            "margin": null,
            "max_height": null,
            "max_width": null,
            "min_height": null,
            "min_width": null,
            "object_fit": null,
            "object_position": null,
            "order": null,
            "overflow": null,
            "overflow_x": null,
            "overflow_y": null,
            "padding": null,
            "right": null,
            "top": null,
            "visibility": null,
            "width": null
          }
        },
        "fc6b439ad67748339024a715d851bf18": {
          "model_module": "@jupyter-widgets/base",
          "model_name": "LayoutModel",
          "model_module_version": "1.2.0",
          "state": {
            "_model_module": "@jupyter-widgets/base",
            "_model_module_version": "1.2.0",
            "_model_name": "LayoutModel",
            "_view_count": null,
            "_view_module": "@jupyter-widgets/base",
            "_view_module_version": "1.2.0",
            "_view_name": "LayoutView",
            "align_content": null,
            "align_items": null,
            "align_self": null,
            "border": null,
            "bottom": null,
            "display": null,
            "flex": null,
            "flex_flow": null,
            "grid_area": null,
            "grid_auto_columns": null,
            "grid_auto_flow": null,
            "grid_auto_rows": null,
            "grid_column": null,
            "grid_gap": null,
            "grid_row": null,
            "grid_template_areas": null,
            "grid_template_columns": null,
            "grid_template_rows": null,
            "height": null,
            "justify_content": null,
            "justify_items": null,
            "left": null,
            "margin": null,
            "max_height": null,
            "max_width": null,
            "min_height": null,
            "min_width": null,
            "object_fit": null,
            "object_position": null,
            "order": null,
            "overflow": null,
            "overflow_x": null,
            "overflow_y": null,
            "padding": null,
            "right": null,
            "top": null,
            "visibility": null,
            "width": null
          }
        },
        "ff5001979f9d422aba8a5be0d671633a": {
          "model_module": "@jupyter-widgets/controls",
          "model_name": "DescriptionStyleModel",
          "model_module_version": "1.5.0",
          "state": {
            "_model_module": "@jupyter-widgets/controls",
            "_model_module_version": "1.5.0",
            "_model_name": "DescriptionStyleModel",
            "_view_count": null,
            "_view_module": "@jupyter-widgets/base",
            "_view_module_version": "1.2.0",
            "_view_name": "StyleView",
            "description_width": ""
          }
        },
        "5ba65776157e4173a1eac9323e4f069b": {
          "model_module": "@jupyter-widgets/base",
          "model_name": "LayoutModel",
          "model_module_version": "1.2.0",
          "state": {
            "_model_module": "@jupyter-widgets/base",
            "_model_module_version": "1.2.0",
            "_model_name": "LayoutModel",
            "_view_count": null,
            "_view_module": "@jupyter-widgets/base",
            "_view_module_version": "1.2.0",
            "_view_name": "LayoutView",
            "align_content": null,
            "align_items": null,
            "align_self": null,
            "border": null,
            "bottom": null,
            "display": null,
            "flex": null,
            "flex_flow": null,
            "grid_area": null,
            "grid_auto_columns": null,
            "grid_auto_flow": null,
            "grid_auto_rows": null,
            "grid_column": null,
            "grid_gap": null,
            "grid_row": null,
            "grid_template_areas": null,
            "grid_template_columns": null,
            "grid_template_rows": null,
            "height": null,
            "justify_content": null,
            "justify_items": null,
            "left": null,
            "margin": null,
            "max_height": null,
            "max_width": null,
            "min_height": null,
            "min_width": null,
            "object_fit": null,
            "object_position": null,
            "order": null,
            "overflow": null,
            "overflow_x": null,
            "overflow_y": null,
            "padding": null,
            "right": null,
            "top": null,
            "visibility": null,
            "width": "20px"
          }
        },
        "62f1f7b27ea446b5a0494edfb0401c2b": {
          "model_module": "@jupyter-widgets/controls",
          "model_name": "ProgressStyleModel",
          "model_module_version": "1.5.0",
          "state": {
            "_model_module": "@jupyter-widgets/controls",
            "_model_module_version": "1.5.0",
            "_model_name": "ProgressStyleModel",
            "_view_count": null,
            "_view_module": "@jupyter-widgets/base",
            "_view_module_version": "1.2.0",
            "_view_name": "StyleView",
            "bar_color": null,
            "description_width": ""
          }
        },
        "da0a4462cfb8492f8379a4faa22c47e8": {
          "model_module": "@jupyter-widgets/base",
          "model_name": "LayoutModel",
          "model_module_version": "1.2.0",
          "state": {
            "_model_module": "@jupyter-widgets/base",
            "_model_module_version": "1.2.0",
            "_model_name": "LayoutModel",
            "_view_count": null,
            "_view_module": "@jupyter-widgets/base",
            "_view_module_version": "1.2.0",
            "_view_name": "LayoutView",
            "align_content": null,
            "align_items": null,
            "align_self": null,
            "border": null,
            "bottom": null,
            "display": null,
            "flex": null,
            "flex_flow": null,
            "grid_area": null,
            "grid_auto_columns": null,
            "grid_auto_flow": null,
            "grid_auto_rows": null,
            "grid_column": null,
            "grid_gap": null,
            "grid_row": null,
            "grid_template_areas": null,
            "grid_template_columns": null,
            "grid_template_rows": null,
            "height": null,
            "justify_content": null,
            "justify_items": null,
            "left": null,
            "margin": null,
            "max_height": null,
            "max_width": null,
            "min_height": null,
            "min_width": null,
            "object_fit": null,
            "object_position": null,
            "order": null,
            "overflow": null,
            "overflow_x": null,
            "overflow_y": null,
            "padding": null,
            "right": null,
            "top": null,
            "visibility": null,
            "width": null
          }
        },
        "0145a9d8eace4ad389e38e5b4751c836": {
          "model_module": "@jupyter-widgets/controls",
          "model_name": "DescriptionStyleModel",
          "model_module_version": "1.5.0",
          "state": {
            "_model_module": "@jupyter-widgets/controls",
            "_model_module_version": "1.5.0",
            "_model_name": "DescriptionStyleModel",
            "_view_count": null,
            "_view_module": "@jupyter-widgets/base",
            "_view_module_version": "1.2.0",
            "_view_name": "StyleView",
            "description_width": ""
          }
        },
        "49fb0fbc384e4028bf9908edd3cac913": {
          "model_module": "@jupyter-widgets/controls",
          "model_name": "HBoxModel",
          "model_module_version": "1.5.0",
          "state": {
            "_dom_classes": [],
            "_model_module": "@jupyter-widgets/controls",
            "_model_module_version": "1.5.0",
            "_model_name": "HBoxModel",
            "_view_count": null,
            "_view_module": "@jupyter-widgets/controls",
            "_view_module_version": "1.5.0",
            "_view_name": "HBoxView",
            "box_style": "",
            "children": [
              "IPY_MODEL_e78554e0ad3a4e3187f9fd859cd72120",
              "IPY_MODEL_f569a0f879be4962a7e24546cf8b7007",
              "IPY_MODEL_2967038343154f28986b2ad0ae664ee0"
            ],
            "layout": "IPY_MODEL_976c5875347d4e6797f8a8da3eeedc8a"
          }
        },
        "e78554e0ad3a4e3187f9fd859cd72120": {
          "model_module": "@jupyter-widgets/controls",
          "model_name": "HTMLModel",
          "model_module_version": "1.5.0",
          "state": {
            "_dom_classes": [],
            "_model_module": "@jupyter-widgets/controls",
            "_model_module_version": "1.5.0",
            "_model_name": "HTMLModel",
            "_view_count": null,
            "_view_module": "@jupyter-widgets/controls",
            "_view_module_version": "1.5.0",
            "_view_name": "HTMLView",
            "description": "",
            "description_tooltip": null,
            "layout": "IPY_MODEL_b297365d50ef43f4965f66c96ce11fe2",
            "placeholder": "​",
            "style": "IPY_MODEL_28833507c39f4bea9615812c7bb8e69e",
            "value": "100%"
          }
        },
        "f569a0f879be4962a7e24546cf8b7007": {
          "model_module": "@jupyter-widgets/controls",
          "model_name": "FloatProgressModel",
          "model_module_version": "1.5.0",
          "state": {
            "_dom_classes": [],
            "_model_module": "@jupyter-widgets/controls",
            "_model_module_version": "1.5.0",
            "_model_name": "FloatProgressModel",
            "_view_count": null,
            "_view_module": "@jupyter-widgets/controls",
            "_view_module_version": "1.5.0",
            "_view_name": "ProgressView",
            "bar_style": "success",
            "description": "",
            "description_tooltip": null,
            "layout": "IPY_MODEL_7032cb8b90264aebb10345632e0b6030",
            "max": 1,
            "min": 0,
            "orientation": "horizontal",
            "style": "IPY_MODEL_88c9ae20af9b429daa9d20d5d106e2cf",
            "value": 1
          }
        },
        "2967038343154f28986b2ad0ae664ee0": {
          "model_module": "@jupyter-widgets/controls",
          "model_name": "HTMLModel",
          "model_module_version": "1.5.0",
          "state": {
            "_dom_classes": [],
            "_model_module": "@jupyter-widgets/controls",
            "_model_module_version": "1.5.0",
            "_model_name": "HTMLModel",
            "_view_count": null,
            "_view_module": "@jupyter-widgets/controls",
            "_view_module_version": "1.5.0",
            "_view_name": "HTMLView",
            "description": "",
            "description_tooltip": null,
            "layout": "IPY_MODEL_47ee57f5284c4641a6a41a422751478d",
            "placeholder": "​",
            "style": "IPY_MODEL_14876f45f7a64411aa3368cb1c87506e",
            "value": " 1/1 [00:00&lt;00:00, 19.28it/s]"
          }
        },
        "976c5875347d4e6797f8a8da3eeedc8a": {
          "model_module": "@jupyter-widgets/base",
          "model_name": "LayoutModel",
          "model_module_version": "1.2.0",
          "state": {
            "_model_module": "@jupyter-widgets/base",
            "_model_module_version": "1.2.0",
            "_model_name": "LayoutModel",
            "_view_count": null,
            "_view_module": "@jupyter-widgets/base",
            "_view_module_version": "1.2.0",
            "_view_name": "LayoutView",
            "align_content": null,
            "align_items": null,
            "align_self": null,
            "border": null,
            "bottom": null,
            "display": null,
            "flex": null,
            "flex_flow": null,
            "grid_area": null,
            "grid_auto_columns": null,
            "grid_auto_flow": null,
            "grid_auto_rows": null,
            "grid_column": null,
            "grid_gap": null,
            "grid_row": null,
            "grid_template_areas": null,
            "grid_template_columns": null,
            "grid_template_rows": null,
            "height": null,
            "justify_content": null,
            "justify_items": null,
            "left": null,
            "margin": null,
            "max_height": null,
            "max_width": null,
            "min_height": null,
            "min_width": null,
            "object_fit": null,
            "object_position": null,
            "order": null,
            "overflow": null,
            "overflow_x": null,
            "overflow_y": null,
            "padding": null,
            "right": null,
            "top": null,
            "visibility": null,
            "width": null
          }
        },
        "b297365d50ef43f4965f66c96ce11fe2": {
          "model_module": "@jupyter-widgets/base",
          "model_name": "LayoutModel",
          "model_module_version": "1.2.0",
          "state": {
            "_model_module": "@jupyter-widgets/base",
            "_model_module_version": "1.2.0",
            "_model_name": "LayoutModel",
            "_view_count": null,
            "_view_module": "@jupyter-widgets/base",
            "_view_module_version": "1.2.0",
            "_view_name": "LayoutView",
            "align_content": null,
            "align_items": null,
            "align_self": null,
            "border": null,
            "bottom": null,
            "display": null,
            "flex": null,
            "flex_flow": null,
            "grid_area": null,
            "grid_auto_columns": null,
            "grid_auto_flow": null,
            "grid_auto_rows": null,
            "grid_column": null,
            "grid_gap": null,
            "grid_row": null,
            "grid_template_areas": null,
            "grid_template_columns": null,
            "grid_template_rows": null,
            "height": null,
            "justify_content": null,
            "justify_items": null,
            "left": null,
            "margin": null,
            "max_height": null,
            "max_width": null,
            "min_height": null,
            "min_width": null,
            "object_fit": null,
            "object_position": null,
            "order": null,
            "overflow": null,
            "overflow_x": null,
            "overflow_y": null,
            "padding": null,
            "right": null,
            "top": null,
            "visibility": null,
            "width": null
          }
        },
        "28833507c39f4bea9615812c7bb8e69e": {
          "model_module": "@jupyter-widgets/controls",
          "model_name": "DescriptionStyleModel",
          "model_module_version": "1.5.0",
          "state": {
            "_model_module": "@jupyter-widgets/controls",
            "_model_module_version": "1.5.0",
            "_model_name": "DescriptionStyleModel",
            "_view_count": null,
            "_view_module": "@jupyter-widgets/base",
            "_view_module_version": "1.2.0",
            "_view_name": "StyleView",
            "description_width": ""
          }
        },
        "7032cb8b90264aebb10345632e0b6030": {
          "model_module": "@jupyter-widgets/base",
          "model_name": "LayoutModel",
          "model_module_version": "1.2.0",
          "state": {
            "_model_module": "@jupyter-widgets/base",
            "_model_module_version": "1.2.0",
            "_model_name": "LayoutModel",
            "_view_count": null,
            "_view_module": "@jupyter-widgets/base",
            "_view_module_version": "1.2.0",
            "_view_name": "LayoutView",
            "align_content": null,
            "align_items": null,
            "align_self": null,
            "border": null,
            "bottom": null,
            "display": null,
            "flex": null,
            "flex_flow": null,
            "grid_area": null,
            "grid_auto_columns": null,
            "grid_auto_flow": null,
            "grid_auto_rows": null,
            "grid_column": null,
            "grid_gap": null,
            "grid_row": null,
            "grid_template_areas": null,
            "grid_template_columns": null,
            "grid_template_rows": null,
            "height": null,
            "justify_content": null,
            "justify_items": null,
            "left": null,
            "margin": null,
            "max_height": null,
            "max_width": null,
            "min_height": null,
            "min_width": null,
            "object_fit": null,
            "object_position": null,
            "order": null,
            "overflow": null,
            "overflow_x": null,
            "overflow_y": null,
            "padding": null,
            "right": null,
            "top": null,
            "visibility": null,
            "width": null
          }
        },
        "88c9ae20af9b429daa9d20d5d106e2cf": {
          "model_module": "@jupyter-widgets/controls",
          "model_name": "ProgressStyleModel",
          "model_module_version": "1.5.0",
          "state": {
            "_model_module": "@jupyter-widgets/controls",
            "_model_module_version": "1.5.0",
            "_model_name": "ProgressStyleModel",
            "_view_count": null,
            "_view_module": "@jupyter-widgets/base",
            "_view_module_version": "1.2.0",
            "_view_name": "StyleView",
            "bar_color": null,
            "description_width": ""
          }
        },
        "47ee57f5284c4641a6a41a422751478d": {
          "model_module": "@jupyter-widgets/base",
          "model_name": "LayoutModel",
          "model_module_version": "1.2.0",
          "state": {
            "_model_module": "@jupyter-widgets/base",
            "_model_module_version": "1.2.0",
            "_model_name": "LayoutModel",
            "_view_count": null,
            "_view_module": "@jupyter-widgets/base",
            "_view_module_version": "1.2.0",
            "_view_name": "LayoutView",
            "align_content": null,
            "align_items": null,
            "align_self": null,
            "border": null,
            "bottom": null,
            "display": null,
            "flex": null,
            "flex_flow": null,
            "grid_area": null,
            "grid_auto_columns": null,
            "grid_auto_flow": null,
            "grid_auto_rows": null,
            "grid_column": null,
            "grid_gap": null,
            "grid_row": null,
            "grid_template_areas": null,
            "grid_template_columns": null,
            "grid_template_rows": null,
            "height": null,
            "justify_content": null,
            "justify_items": null,
            "left": null,
            "margin": null,
            "max_height": null,
            "max_width": null,
            "min_height": null,
            "min_width": null,
            "object_fit": null,
            "object_position": null,
            "order": null,
            "overflow": null,
            "overflow_x": null,
            "overflow_y": null,
            "padding": null,
            "right": null,
            "top": null,
            "visibility": null,
            "width": null
          }
        },
        "14876f45f7a64411aa3368cb1c87506e": {
          "model_module": "@jupyter-widgets/controls",
          "model_name": "DescriptionStyleModel",
          "model_module_version": "1.5.0",
          "state": {
            "_model_module": "@jupyter-widgets/controls",
            "_model_module_version": "1.5.0",
            "_model_name": "DescriptionStyleModel",
            "_view_count": null,
            "_view_module": "@jupyter-widgets/base",
            "_view_module_version": "1.2.0",
            "_view_name": "StyleView",
            "description_width": ""
          }
        },
        "b64231e05d8248beaed966b4bcaf0713": {
          "model_module": "@jupyter-widgets/controls",
          "model_name": "HBoxModel",
          "model_module_version": "1.5.0",
          "state": {
            "_dom_classes": [],
            "_model_module": "@jupyter-widgets/controls",
            "_model_module_version": "1.5.0",
            "_model_name": "HBoxModel",
            "_view_count": null,
            "_view_module": "@jupyter-widgets/controls",
            "_view_module_version": "1.5.0",
            "_view_name": "HBoxView",
            "box_style": "",
            "children": [
              "IPY_MODEL_a02701fe396340b888beb5dcd6585d10",
              "IPY_MODEL_09b67391e4954967a0b7e46ec529e45f",
              "IPY_MODEL_8c37a5ef92e34440a31ee36de80bad82"
            ],
            "layout": "IPY_MODEL_952189a9ca8148a593fbb65e49f0df31"
          }
        },
        "a02701fe396340b888beb5dcd6585d10": {
          "model_module": "@jupyter-widgets/controls",
          "model_name": "HTMLModel",
          "model_module_version": "1.5.0",
          "state": {
            "_dom_classes": [],
            "_model_module": "@jupyter-widgets/controls",
            "_model_module_version": "1.5.0",
            "_model_name": "HTMLModel",
            "_view_count": null,
            "_view_module": "@jupyter-widgets/controls",
            "_view_module_version": "1.5.0",
            "_view_name": "HTMLView",
            "description": "",
            "description_tooltip": null,
            "layout": "IPY_MODEL_701983d2636f4436ba8d12c0f25068b2",
            "placeholder": "​",
            "style": "IPY_MODEL_c5a5aed1f55b4fc6890386f1040664dd",
            "value": "100%"
          }
        },
        "09b67391e4954967a0b7e46ec529e45f": {
          "model_module": "@jupyter-widgets/controls",
          "model_name": "FloatProgressModel",
          "model_module_version": "1.5.0",
          "state": {
            "_dom_classes": [],
            "_model_module": "@jupyter-widgets/controls",
            "_model_module_version": "1.5.0",
            "_model_name": "FloatProgressModel",
            "_view_count": null,
            "_view_module": "@jupyter-widgets/controls",
            "_view_module_version": "1.5.0",
            "_view_name": "ProgressView",
            "bar_style": "success",
            "description": "",
            "description_tooltip": null,
            "layout": "IPY_MODEL_abae36e0526a4faabb9e472b2f05b968",
            "max": 24150,
            "min": 0,
            "orientation": "horizontal",
            "style": "IPY_MODEL_10cb2bb7be6e442fb6aab6fa18820ae8",
            "value": 24150
          }
        },
        "8c37a5ef92e34440a31ee36de80bad82": {
          "model_module": "@jupyter-widgets/controls",
          "model_name": "HTMLModel",
          "model_module_version": "1.5.0",
          "state": {
            "_dom_classes": [],
            "_model_module": "@jupyter-widgets/controls",
            "_model_module_version": "1.5.0",
            "_model_name": "HTMLModel",
            "_view_count": null,
            "_view_module": "@jupyter-widgets/controls",
            "_view_module_version": "1.5.0",
            "_view_name": "HTMLView",
            "description": "",
            "description_tooltip": null,
            "layout": "IPY_MODEL_0fa54a7d886f49afa474dc286122906e",
            "placeholder": "​",
            "style": "IPY_MODEL_1c2dfb71f5ee47ee97036b0c6318832c",
            "value": " 24150/24150 [00:06&lt;00:00, 4641.24ex/s]"
          }
        },
        "952189a9ca8148a593fbb65e49f0df31": {
          "model_module": "@jupyter-widgets/base",
          "model_name": "LayoutModel",
          "model_module_version": "1.2.0",
          "state": {
            "_model_module": "@jupyter-widgets/base",
            "_model_module_version": "1.2.0",
            "_model_name": "LayoutModel",
            "_view_count": null,
            "_view_module": "@jupyter-widgets/base",
            "_view_module_version": "1.2.0",
            "_view_name": "LayoutView",
            "align_content": null,
            "align_items": null,
            "align_self": null,
            "border": null,
            "bottom": null,
            "display": null,
            "flex": null,
            "flex_flow": null,
            "grid_area": null,
            "grid_auto_columns": null,
            "grid_auto_flow": null,
            "grid_auto_rows": null,
            "grid_column": null,
            "grid_gap": null,
            "grid_row": null,
            "grid_template_areas": null,
            "grid_template_columns": null,
            "grid_template_rows": null,
            "height": null,
            "justify_content": null,
            "justify_items": null,
            "left": null,
            "margin": null,
            "max_height": null,
            "max_width": null,
            "min_height": null,
            "min_width": null,
            "object_fit": null,
            "object_position": null,
            "order": null,
            "overflow": null,
            "overflow_x": null,
            "overflow_y": null,
            "padding": null,
            "right": null,
            "top": null,
            "visibility": null,
            "width": null
          }
        },
        "701983d2636f4436ba8d12c0f25068b2": {
          "model_module": "@jupyter-widgets/base",
          "model_name": "LayoutModel",
          "model_module_version": "1.2.0",
          "state": {
            "_model_module": "@jupyter-widgets/base",
            "_model_module_version": "1.2.0",
            "_model_name": "LayoutModel",
            "_view_count": null,
            "_view_module": "@jupyter-widgets/base",
            "_view_module_version": "1.2.0",
            "_view_name": "LayoutView",
            "align_content": null,
            "align_items": null,
            "align_self": null,
            "border": null,
            "bottom": null,
            "display": null,
            "flex": null,
            "flex_flow": null,
            "grid_area": null,
            "grid_auto_columns": null,
            "grid_auto_flow": null,
            "grid_auto_rows": null,
            "grid_column": null,
            "grid_gap": null,
            "grid_row": null,
            "grid_template_areas": null,
            "grid_template_columns": null,
            "grid_template_rows": null,
            "height": null,
            "justify_content": null,
            "justify_items": null,
            "left": null,
            "margin": null,
            "max_height": null,
            "max_width": null,
            "min_height": null,
            "min_width": null,
            "object_fit": null,
            "object_position": null,
            "order": null,
            "overflow": null,
            "overflow_x": null,
            "overflow_y": null,
            "padding": null,
            "right": null,
            "top": null,
            "visibility": null,
            "width": null
          }
        },
        "c5a5aed1f55b4fc6890386f1040664dd": {
          "model_module": "@jupyter-widgets/controls",
          "model_name": "DescriptionStyleModel",
          "model_module_version": "1.5.0",
          "state": {
            "_model_module": "@jupyter-widgets/controls",
            "_model_module_version": "1.5.0",
            "_model_name": "DescriptionStyleModel",
            "_view_count": null,
            "_view_module": "@jupyter-widgets/base",
            "_view_module_version": "1.2.0",
            "_view_name": "StyleView",
            "description_width": ""
          }
        },
        "abae36e0526a4faabb9e472b2f05b968": {
          "model_module": "@jupyter-widgets/base",
          "model_name": "LayoutModel",
          "model_module_version": "1.2.0",
          "state": {
            "_model_module": "@jupyter-widgets/base",
            "_model_module_version": "1.2.0",
            "_model_name": "LayoutModel",
            "_view_count": null,
            "_view_module": "@jupyter-widgets/base",
            "_view_module_version": "1.2.0",
            "_view_name": "LayoutView",
            "align_content": null,
            "align_items": null,
            "align_self": null,
            "border": null,
            "bottom": null,
            "display": null,
            "flex": null,
            "flex_flow": null,
            "grid_area": null,
            "grid_auto_columns": null,
            "grid_auto_flow": null,
            "grid_auto_rows": null,
            "grid_column": null,
            "grid_gap": null,
            "grid_row": null,
            "grid_template_areas": null,
            "grid_template_columns": null,
            "grid_template_rows": null,
            "height": null,
            "justify_content": null,
            "justify_items": null,
            "left": null,
            "margin": null,
            "max_height": null,
            "max_width": null,
            "min_height": null,
            "min_width": null,
            "object_fit": null,
            "object_position": null,
            "order": null,
            "overflow": null,
            "overflow_x": null,
            "overflow_y": null,
            "padding": null,
            "right": null,
            "top": null,
            "visibility": null,
            "width": null
          }
        },
        "10cb2bb7be6e442fb6aab6fa18820ae8": {
          "model_module": "@jupyter-widgets/controls",
          "model_name": "ProgressStyleModel",
          "model_module_version": "1.5.0",
          "state": {
            "_model_module": "@jupyter-widgets/controls",
            "_model_module_version": "1.5.0",
            "_model_name": "ProgressStyleModel",
            "_view_count": null,
            "_view_module": "@jupyter-widgets/base",
            "_view_module_version": "1.2.0",
            "_view_name": "StyleView",
            "bar_color": null,
            "description_width": ""
          }
        },
        "0fa54a7d886f49afa474dc286122906e": {
          "model_module": "@jupyter-widgets/base",
          "model_name": "LayoutModel",
          "model_module_version": "1.2.0",
          "state": {
            "_model_module": "@jupyter-widgets/base",
            "_model_module_version": "1.2.0",
            "_model_name": "LayoutModel",
            "_view_count": null,
            "_view_module": "@jupyter-widgets/base",
            "_view_module_version": "1.2.0",
            "_view_name": "LayoutView",
            "align_content": null,
            "align_items": null,
            "align_self": null,
            "border": null,
            "bottom": null,
            "display": null,
            "flex": null,
            "flex_flow": null,
            "grid_area": null,
            "grid_auto_columns": null,
            "grid_auto_flow": null,
            "grid_auto_rows": null,
            "grid_column": null,
            "grid_gap": null,
            "grid_row": null,
            "grid_template_areas": null,
            "grid_template_columns": null,
            "grid_template_rows": null,
            "height": null,
            "justify_content": null,
            "justify_items": null,
            "left": null,
            "margin": null,
            "max_height": null,
            "max_width": null,
            "min_height": null,
            "min_width": null,
            "object_fit": null,
            "object_position": null,
            "order": null,
            "overflow": null,
            "overflow_x": null,
            "overflow_y": null,
            "padding": null,
            "right": null,
            "top": null,
            "visibility": null,
            "width": null
          }
        },
        "1c2dfb71f5ee47ee97036b0c6318832c": {
          "model_module": "@jupyter-widgets/controls",
          "model_name": "DescriptionStyleModel",
          "model_module_version": "1.5.0",
          "state": {
            "_model_module": "@jupyter-widgets/controls",
            "_model_module_version": "1.5.0",
            "_model_name": "DescriptionStyleModel",
            "_view_count": null,
            "_view_module": "@jupyter-widgets/base",
            "_view_module_version": "1.2.0",
            "_view_name": "StyleView",
            "description_width": ""
          }
        },
        "de6366556f22453fa9fbf5c13b50c493": {
          "model_module": "@jupyter-widgets/controls",
          "model_name": "HBoxModel",
          "model_module_version": "1.5.0",
          "state": {
            "_dom_classes": [],
            "_model_module": "@jupyter-widgets/controls",
            "_model_module_version": "1.5.0",
            "_model_name": "HBoxModel",
            "_view_count": null,
            "_view_module": "@jupyter-widgets/controls",
            "_view_module_version": "1.5.0",
            "_view_name": "HBoxView",
            "box_style": "",
            "children": [
              "IPY_MODEL_8f26f540a642435cb537738c69374add",
              "IPY_MODEL_10a5f60cec1d40e7ba927eaecd224ace",
              "IPY_MODEL_03cfe86dae154c2d8aa2a5f81fabc887"
            ],
            "layout": "IPY_MODEL_a7e4bbb0829e4a7db1e95fed0529babc"
          }
        },
        "8f26f540a642435cb537738c69374add": {
          "model_module": "@jupyter-widgets/controls",
          "model_name": "HTMLModel",
          "model_module_version": "1.5.0",
          "state": {
            "_dom_classes": [],
            "_model_module": "@jupyter-widgets/controls",
            "_model_module_version": "1.5.0",
            "_model_name": "HTMLModel",
            "_view_count": null,
            "_view_module": "@jupyter-widgets/controls",
            "_view_module_version": "1.5.0",
            "_view_name": "HTMLView",
            "description": "",
            "description_tooltip": null,
            "layout": "IPY_MODEL_27d3edda0a4a433895f51b90d3e4980b",
            "placeholder": "​",
            "style": "IPY_MODEL_eee62c8463db45cf8eb19f3f6ca39858",
            "value": "100%"
          }
        },
        "10a5f60cec1d40e7ba927eaecd224ace": {
          "model_module": "@jupyter-widgets/controls",
          "model_name": "FloatProgressModel",
          "model_module_version": "1.5.0",
          "state": {
            "_dom_classes": [],
            "_model_module": "@jupyter-widgets/controls",
            "_model_module_version": "1.5.0",
            "_model_name": "FloatProgressModel",
            "_view_count": null,
            "_view_module": "@jupyter-widgets/controls",
            "_view_module_version": "1.5.0",
            "_view_name": "ProgressView",
            "bar_style": "success",
            "description": "",
            "description_tooltip": null,
            "layout": "IPY_MODEL_0277d585a0d1456fa2b6621d7dc455c0",
            "max": 9852,
            "min": 0,
            "orientation": "horizontal",
            "style": "IPY_MODEL_ad5bd23b633c460aae98505a7d4781b1",
            "value": 9852
          }
        },
        "03cfe86dae154c2d8aa2a5f81fabc887": {
          "model_module": "@jupyter-widgets/controls",
          "model_name": "HTMLModel",
          "model_module_version": "1.5.0",
          "state": {
            "_dom_classes": [],
            "_model_module": "@jupyter-widgets/controls",
            "_model_module_version": "1.5.0",
            "_model_name": "HTMLModel",
            "_view_count": null,
            "_view_module": "@jupyter-widgets/controls",
            "_view_module_version": "1.5.0",
            "_view_name": "HTMLView",
            "description": "",
            "description_tooltip": null,
            "layout": "IPY_MODEL_580d4a00c3384591b21db9ef7d285712",
            "placeholder": "​",
            "style": "IPY_MODEL_583131b6ce3d4c4ca4061926277f2b4a",
            "value": " 9852/9852 [00:02&lt;00:00, 4623.29ex/s]"
          }
        },
        "a7e4bbb0829e4a7db1e95fed0529babc": {
          "model_module": "@jupyter-widgets/base",
          "model_name": "LayoutModel",
          "model_module_version": "1.2.0",
          "state": {
            "_model_module": "@jupyter-widgets/base",
            "_model_module_version": "1.2.0",
            "_model_name": "LayoutModel",
            "_view_count": null,
            "_view_module": "@jupyter-widgets/base",
            "_view_module_version": "1.2.0",
            "_view_name": "LayoutView",
            "align_content": null,
            "align_items": null,
            "align_self": null,
            "border": null,
            "bottom": null,
            "display": null,
            "flex": null,
            "flex_flow": null,
            "grid_area": null,
            "grid_auto_columns": null,
            "grid_auto_flow": null,
            "grid_auto_rows": null,
            "grid_column": null,
            "grid_gap": null,
            "grid_row": null,
            "grid_template_areas": null,
            "grid_template_columns": null,
            "grid_template_rows": null,
            "height": null,
            "justify_content": null,
            "justify_items": null,
            "left": null,
            "margin": null,
            "max_height": null,
            "max_width": null,
            "min_height": null,
            "min_width": null,
            "object_fit": null,
            "object_position": null,
            "order": null,
            "overflow": null,
            "overflow_x": null,
            "overflow_y": null,
            "padding": null,
            "right": null,
            "top": null,
            "visibility": null,
            "width": null
          }
        },
        "27d3edda0a4a433895f51b90d3e4980b": {
          "model_module": "@jupyter-widgets/base",
          "model_name": "LayoutModel",
          "model_module_version": "1.2.0",
          "state": {
            "_model_module": "@jupyter-widgets/base",
            "_model_module_version": "1.2.0",
            "_model_name": "LayoutModel",
            "_view_count": null,
            "_view_module": "@jupyter-widgets/base",
            "_view_module_version": "1.2.0",
            "_view_name": "LayoutView",
            "align_content": null,
            "align_items": null,
            "align_self": null,
            "border": null,
            "bottom": null,
            "display": null,
            "flex": null,
            "flex_flow": null,
            "grid_area": null,
            "grid_auto_columns": null,
            "grid_auto_flow": null,
            "grid_auto_rows": null,
            "grid_column": null,
            "grid_gap": null,
            "grid_row": null,
            "grid_template_areas": null,
            "grid_template_columns": null,
            "grid_template_rows": null,
            "height": null,
            "justify_content": null,
            "justify_items": null,
            "left": null,
            "margin": null,
            "max_height": null,
            "max_width": null,
            "min_height": null,
            "min_width": null,
            "object_fit": null,
            "object_position": null,
            "order": null,
            "overflow": null,
            "overflow_x": null,
            "overflow_y": null,
            "padding": null,
            "right": null,
            "top": null,
            "visibility": null,
            "width": null
          }
        },
        "eee62c8463db45cf8eb19f3f6ca39858": {
          "model_module": "@jupyter-widgets/controls",
          "model_name": "DescriptionStyleModel",
          "model_module_version": "1.5.0",
          "state": {
            "_model_module": "@jupyter-widgets/controls",
            "_model_module_version": "1.5.0",
            "_model_name": "DescriptionStyleModel",
            "_view_count": null,
            "_view_module": "@jupyter-widgets/base",
            "_view_module_version": "1.2.0",
            "_view_name": "StyleView",
            "description_width": ""
          }
        },
        "0277d585a0d1456fa2b6621d7dc455c0": {
          "model_module": "@jupyter-widgets/base",
          "model_name": "LayoutModel",
          "model_module_version": "1.2.0",
          "state": {
            "_model_module": "@jupyter-widgets/base",
            "_model_module_version": "1.2.0",
            "_model_name": "LayoutModel",
            "_view_count": null,
            "_view_module": "@jupyter-widgets/base",
            "_view_module_version": "1.2.0",
            "_view_name": "LayoutView",
            "align_content": null,
            "align_items": null,
            "align_self": null,
            "border": null,
            "bottom": null,
            "display": null,
            "flex": null,
            "flex_flow": null,
            "grid_area": null,
            "grid_auto_columns": null,
            "grid_auto_flow": null,
            "grid_auto_rows": null,
            "grid_column": null,
            "grid_gap": null,
            "grid_row": null,
            "grid_template_areas": null,
            "grid_template_columns": null,
            "grid_template_rows": null,
            "height": null,
            "justify_content": null,
            "justify_items": null,
            "left": null,
            "margin": null,
            "max_height": null,
            "max_width": null,
            "min_height": null,
            "min_width": null,
            "object_fit": null,
            "object_position": null,
            "order": null,
            "overflow": null,
            "overflow_x": null,
            "overflow_y": null,
            "padding": null,
            "right": null,
            "top": null,
            "visibility": null,
            "width": null
          }
        },
        "ad5bd23b633c460aae98505a7d4781b1": {
          "model_module": "@jupyter-widgets/controls",
          "model_name": "ProgressStyleModel",
          "model_module_version": "1.5.0",
          "state": {
            "_model_module": "@jupyter-widgets/controls",
            "_model_module_version": "1.5.0",
            "_model_name": "ProgressStyleModel",
            "_view_count": null,
            "_view_module": "@jupyter-widgets/base",
            "_view_module_version": "1.2.0",
            "_view_name": "StyleView",
            "bar_color": null,
            "description_width": ""
          }
        },
        "580d4a00c3384591b21db9ef7d285712": {
          "model_module": "@jupyter-widgets/base",
          "model_name": "LayoutModel",
          "model_module_version": "1.2.0",
          "state": {
            "_model_module": "@jupyter-widgets/base",
            "_model_module_version": "1.2.0",
            "_model_name": "LayoutModel",
            "_view_count": null,
            "_view_module": "@jupyter-widgets/base",
            "_view_module_version": "1.2.0",
            "_view_name": "LayoutView",
            "align_content": null,
            "align_items": null,
            "align_self": null,
            "border": null,
            "bottom": null,
            "display": null,
            "flex": null,
            "flex_flow": null,
            "grid_area": null,
            "grid_auto_columns": null,
            "grid_auto_flow": null,
            "grid_auto_rows": null,
            "grid_column": null,
            "grid_gap": null,
            "grid_row": null,
            "grid_template_areas": null,
            "grid_template_columns": null,
            "grid_template_rows": null,
            "height": null,
            "justify_content": null,
            "justify_items": null,
            "left": null,
            "margin": null,
            "max_height": null,
            "max_width": null,
            "min_height": null,
            "min_width": null,
            "object_fit": null,
            "object_position": null,
            "order": null,
            "overflow": null,
            "overflow_x": null,
            "overflow_y": null,
            "padding": null,
            "right": null,
            "top": null,
            "visibility": null,
            "width": null
          }
        },
        "583131b6ce3d4c4ca4061926277f2b4a": {
          "model_module": "@jupyter-widgets/controls",
          "model_name": "DescriptionStyleModel",
          "model_module_version": "1.5.0",
          "state": {
            "_model_module": "@jupyter-widgets/controls",
            "_model_module_version": "1.5.0",
            "_model_name": "DescriptionStyleModel",
            "_view_count": null,
            "_view_module": "@jupyter-widgets/base",
            "_view_module_version": "1.2.0",
            "_view_name": "StyleView",
            "description_width": ""
          }
        },
        "279ba955a8564c3c8caff3be13470887": {
          "model_module": "@jupyter-widgets/controls",
          "model_name": "HBoxModel",
          "model_module_version": "1.5.0",
          "state": {
            "_dom_classes": [],
            "_model_module": "@jupyter-widgets/controls",
            "_model_module_version": "1.5.0",
            "_model_name": "HBoxModel",
            "_view_count": null,
            "_view_module": "@jupyter-widgets/controls",
            "_view_module_version": "1.5.0",
            "_view_name": "HBoxView",
            "box_style": "",
            "children": [
              "IPY_MODEL_db24c5065cb145bfaed0beec3d311f51",
              "IPY_MODEL_231644ebdcf042bd91e8d6dc6e6bf6bf",
              "IPY_MODEL_cdf8bd2390e24a0eb0dab57099ce9881"
            ],
            "layout": "IPY_MODEL_1425a83752e2417f9d0d7454f9bc8d8e"
          }
        },
        "db24c5065cb145bfaed0beec3d311f51": {
          "model_module": "@jupyter-widgets/controls",
          "model_name": "HTMLModel",
          "model_module_version": "1.5.0",
          "state": {
            "_dom_classes": [],
            "_model_module": "@jupyter-widgets/controls",
            "_model_module_version": "1.5.0",
            "_model_name": "HTMLModel",
            "_view_count": null,
            "_view_module": "@jupyter-widgets/controls",
            "_view_module_version": "1.5.0",
            "_view_name": "HTMLView",
            "description": "",
            "description_tooltip": null,
            "layout": "IPY_MODEL_1e9733062fad4de988fb56f7f7e6d9ff",
            "placeholder": "​",
            "style": "IPY_MODEL_128e144882e948e49fd06d0961083728",
            "value": "100%"
          }
        },
        "231644ebdcf042bd91e8d6dc6e6bf6bf": {
          "model_module": "@jupyter-widgets/controls",
          "model_name": "FloatProgressModel",
          "model_module_version": "1.5.0",
          "state": {
            "_dom_classes": [],
            "_model_module": "@jupyter-widgets/controls",
            "_model_module_version": "1.5.0",
            "_model_name": "FloatProgressModel",
            "_view_count": null,
            "_view_module": "@jupyter-widgets/controls",
            "_view_module_version": "1.5.0",
            "_view_name": "ProgressView",
            "bar_style": "success",
            "description": "",
            "description_tooltip": null,
            "layout": "IPY_MODEL_7b9e4d3812514dd3a6cb51dbae606881",
            "max": 1,
            "min": 0,
            "orientation": "horizontal",
            "style": "IPY_MODEL_96f95b604f314f47ad5b8b9d47f06575",
            "value": 1
          }
        },
        "cdf8bd2390e24a0eb0dab57099ce9881": {
          "model_module": "@jupyter-widgets/controls",
          "model_name": "HTMLModel",
          "model_module_version": "1.5.0",
          "state": {
            "_dom_classes": [],
            "_model_module": "@jupyter-widgets/controls",
            "_model_module_version": "1.5.0",
            "_model_name": "HTMLModel",
            "_view_count": null,
            "_view_module": "@jupyter-widgets/controls",
            "_view_module_version": "1.5.0",
            "_view_name": "HTMLView",
            "description": "",
            "description_tooltip": null,
            "layout": "IPY_MODEL_f5bf8280f09047478188101c75e252f9",
            "placeholder": "​",
            "style": "IPY_MODEL_9d856aef81314312a38250296c75c2b4",
            "value": " 1/1 [00:00&lt;00:00,  7.29ba/s]"
          }
        },
        "1425a83752e2417f9d0d7454f9bc8d8e": {
          "model_module": "@jupyter-widgets/base",
          "model_name": "LayoutModel",
          "model_module_version": "1.2.0",
          "state": {
            "_model_module": "@jupyter-widgets/base",
            "_model_module_version": "1.2.0",
            "_model_name": "LayoutModel",
            "_view_count": null,
            "_view_module": "@jupyter-widgets/base",
            "_view_module_version": "1.2.0",
            "_view_name": "LayoutView",
            "align_content": null,
            "align_items": null,
            "align_self": null,
            "border": null,
            "bottom": null,
            "display": null,
            "flex": null,
            "flex_flow": null,
            "grid_area": null,
            "grid_auto_columns": null,
            "grid_auto_flow": null,
            "grid_auto_rows": null,
            "grid_column": null,
            "grid_gap": null,
            "grid_row": null,
            "grid_template_areas": null,
            "grid_template_columns": null,
            "grid_template_rows": null,
            "height": null,
            "justify_content": null,
            "justify_items": null,
            "left": null,
            "margin": null,
            "max_height": null,
            "max_width": null,
            "min_height": null,
            "min_width": null,
            "object_fit": null,
            "object_position": null,
            "order": null,
            "overflow": null,
            "overflow_x": null,
            "overflow_y": null,
            "padding": null,
            "right": null,
            "top": null,
            "visibility": null,
            "width": null
          }
        },
        "1e9733062fad4de988fb56f7f7e6d9ff": {
          "model_module": "@jupyter-widgets/base",
          "model_name": "LayoutModel",
          "model_module_version": "1.2.0",
          "state": {
            "_model_module": "@jupyter-widgets/base",
            "_model_module_version": "1.2.0",
            "_model_name": "LayoutModel",
            "_view_count": null,
            "_view_module": "@jupyter-widgets/base",
            "_view_module_version": "1.2.0",
            "_view_name": "LayoutView",
            "align_content": null,
            "align_items": null,
            "align_self": null,
            "border": null,
            "bottom": null,
            "display": null,
            "flex": null,
            "flex_flow": null,
            "grid_area": null,
            "grid_auto_columns": null,
            "grid_auto_flow": null,
            "grid_auto_rows": null,
            "grid_column": null,
            "grid_gap": null,
            "grid_row": null,
            "grid_template_areas": null,
            "grid_template_columns": null,
            "grid_template_rows": null,
            "height": null,
            "justify_content": null,
            "justify_items": null,
            "left": null,
            "margin": null,
            "max_height": null,
            "max_width": null,
            "min_height": null,
            "min_width": null,
            "object_fit": null,
            "object_position": null,
            "order": null,
            "overflow": null,
            "overflow_x": null,
            "overflow_y": null,
            "padding": null,
            "right": null,
            "top": null,
            "visibility": null,
            "width": null
          }
        },
        "128e144882e948e49fd06d0961083728": {
          "model_module": "@jupyter-widgets/controls",
          "model_name": "DescriptionStyleModel",
          "model_module_version": "1.5.0",
          "state": {
            "_model_module": "@jupyter-widgets/controls",
            "_model_module_version": "1.5.0",
            "_model_name": "DescriptionStyleModel",
            "_view_count": null,
            "_view_module": "@jupyter-widgets/base",
            "_view_module_version": "1.2.0",
            "_view_name": "StyleView",
            "description_width": ""
          }
        },
        "7b9e4d3812514dd3a6cb51dbae606881": {
          "model_module": "@jupyter-widgets/base",
          "model_name": "LayoutModel",
          "model_module_version": "1.2.0",
          "state": {
            "_model_module": "@jupyter-widgets/base",
            "_model_module_version": "1.2.0",
            "_model_name": "LayoutModel",
            "_view_count": null,
            "_view_module": "@jupyter-widgets/base",
            "_view_module_version": "1.2.0",
            "_view_name": "LayoutView",
            "align_content": null,
            "align_items": null,
            "align_self": null,
            "border": null,
            "bottom": null,
            "display": null,
            "flex": null,
            "flex_flow": null,
            "grid_area": null,
            "grid_auto_columns": null,
            "grid_auto_flow": null,
            "grid_auto_rows": null,
            "grid_column": null,
            "grid_gap": null,
            "grid_row": null,
            "grid_template_areas": null,
            "grid_template_columns": null,
            "grid_template_rows": null,
            "height": null,
            "justify_content": null,
            "justify_items": null,
            "left": null,
            "margin": null,
            "max_height": null,
            "max_width": null,
            "min_height": null,
            "min_width": null,
            "object_fit": null,
            "object_position": null,
            "order": null,
            "overflow": null,
            "overflow_x": null,
            "overflow_y": null,
            "padding": null,
            "right": null,
            "top": null,
            "visibility": null,
            "width": null
          }
        },
        "96f95b604f314f47ad5b8b9d47f06575": {
          "model_module": "@jupyter-widgets/controls",
          "model_name": "ProgressStyleModel",
          "model_module_version": "1.5.0",
          "state": {
            "_model_module": "@jupyter-widgets/controls",
            "_model_module_version": "1.5.0",
            "_model_name": "ProgressStyleModel",
            "_view_count": null,
            "_view_module": "@jupyter-widgets/base",
            "_view_module_version": "1.2.0",
            "_view_name": "StyleView",
            "bar_color": null,
            "description_width": ""
          }
        },
        "f5bf8280f09047478188101c75e252f9": {
          "model_module": "@jupyter-widgets/base",
          "model_name": "LayoutModel",
          "model_module_version": "1.2.0",
          "state": {
            "_model_module": "@jupyter-widgets/base",
            "_model_module_version": "1.2.0",
            "_model_name": "LayoutModel",
            "_view_count": null,
            "_view_module": "@jupyter-widgets/base",
            "_view_module_version": "1.2.0",
            "_view_name": "LayoutView",
            "align_content": null,
            "align_items": null,
            "align_self": null,
            "border": null,
            "bottom": null,
            "display": null,
            "flex": null,
            "flex_flow": null,
            "grid_area": null,
            "grid_auto_columns": null,
            "grid_auto_flow": null,
            "grid_auto_rows": null,
            "grid_column": null,
            "grid_gap": null,
            "grid_row": null,
            "grid_template_areas": null,
            "grid_template_columns": null,
            "grid_template_rows": null,
            "height": null,
            "justify_content": null,
            "justify_items": null,
            "left": null,
            "margin": null,
            "max_height": null,
            "max_width": null,
            "min_height": null,
            "min_width": null,
            "object_fit": null,
            "object_position": null,
            "order": null,
            "overflow": null,
            "overflow_x": null,
            "overflow_y": null,
            "padding": null,
            "right": null,
            "top": null,
            "visibility": null,
            "width": null
          }
        },
        "9d856aef81314312a38250296c75c2b4": {
          "model_module": "@jupyter-widgets/controls",
          "model_name": "DescriptionStyleModel",
          "model_module_version": "1.5.0",
          "state": {
            "_model_module": "@jupyter-widgets/controls",
            "_model_module_version": "1.5.0",
            "_model_name": "DescriptionStyleModel",
            "_view_count": null,
            "_view_module": "@jupyter-widgets/base",
            "_view_module_version": "1.2.0",
            "_view_name": "StyleView",
            "description_width": ""
          }
        },
        "fc6cf3cf88a1481ca340f1d3338e33ff": {
          "model_module": "@jupyter-widgets/controls",
          "model_name": "HBoxModel",
          "model_module_version": "1.5.0",
          "state": {
            "_dom_classes": [],
            "_model_module": "@jupyter-widgets/controls",
            "_model_module_version": "1.5.0",
            "_model_name": "HBoxModel",
            "_view_count": null,
            "_view_module": "@jupyter-widgets/controls",
            "_view_module_version": "1.5.0",
            "_view_name": "HBoxView",
            "box_style": "",
            "children": [
              "IPY_MODEL_f916c0e8c90e4f47adbf7e6f85846b44",
              "IPY_MODEL_d85246608e8f4dca82488c49af1fd5c0",
              "IPY_MODEL_68cadef3140f40c58d70fbd0215dac16"
            ],
            "layout": "IPY_MODEL_06d27ba8b5814c83ae18f491e0fc55f8"
          }
        },
        "f916c0e8c90e4f47adbf7e6f85846b44": {
          "model_module": "@jupyter-widgets/controls",
          "model_name": "HTMLModel",
          "model_module_version": "1.5.0",
          "state": {
            "_dom_classes": [],
            "_model_module": "@jupyter-widgets/controls",
            "_model_module_version": "1.5.0",
            "_model_name": "HTMLModel",
            "_view_count": null,
            "_view_module": "@jupyter-widgets/controls",
            "_view_module_version": "1.5.0",
            "_view_name": "HTMLView",
            "description": "",
            "description_tooltip": null,
            "layout": "IPY_MODEL_b2dcd6e8f1b048049659c351e04c8cf5",
            "placeholder": "​",
            "style": "IPY_MODEL_a1d339fb339747e8811e7f563e5d6bb4",
            "value": "100%"
          }
        },
        "d85246608e8f4dca82488c49af1fd5c0": {
          "model_module": "@jupyter-widgets/controls",
          "model_name": "FloatProgressModel",
          "model_module_version": "1.5.0",
          "state": {
            "_dom_classes": [],
            "_model_module": "@jupyter-widgets/controls",
            "_model_module_version": "1.5.0",
            "_model_name": "FloatProgressModel",
            "_view_count": null,
            "_view_module": "@jupyter-widgets/controls",
            "_view_module_version": "1.5.0",
            "_view_name": "ProgressView",
            "bar_style": "success",
            "description": "",
            "description_tooltip": null,
            "layout": "IPY_MODEL_536ce111f7d544c6b5a6a0e6a726791d",
            "max": 1,
            "min": 0,
            "orientation": "horizontal",
            "style": "IPY_MODEL_bbfa322dcf89414fbfc38907e8c8783c",
            "value": 1
          }
        },
        "68cadef3140f40c58d70fbd0215dac16": {
          "model_module": "@jupyter-widgets/controls",
          "model_name": "HTMLModel",
          "model_module_version": "1.5.0",
          "state": {
            "_dom_classes": [],
            "_model_module": "@jupyter-widgets/controls",
            "_model_module_version": "1.5.0",
            "_model_name": "HTMLModel",
            "_view_count": null,
            "_view_module": "@jupyter-widgets/controls",
            "_view_module_version": "1.5.0",
            "_view_name": "HTMLView",
            "description": "",
            "description_tooltip": null,
            "layout": "IPY_MODEL_7a4c0bcd44a1407d9ecc3c09d8db171a",
            "placeholder": "​",
            "style": "IPY_MODEL_e1a522d9cab8411f921d4fde4a3cda48",
            "value": " 1/1 [00:00&lt;00:00,  7.33ba/s]"
          }
        },
        "06d27ba8b5814c83ae18f491e0fc55f8": {
          "model_module": "@jupyter-widgets/base",
          "model_name": "LayoutModel",
          "model_module_version": "1.2.0",
          "state": {
            "_model_module": "@jupyter-widgets/base",
            "_model_module_version": "1.2.0",
            "_model_name": "LayoutModel",
            "_view_count": null,
            "_view_module": "@jupyter-widgets/base",
            "_view_module_version": "1.2.0",
            "_view_name": "LayoutView",
            "align_content": null,
            "align_items": null,
            "align_self": null,
            "border": null,
            "bottom": null,
            "display": null,
            "flex": null,
            "flex_flow": null,
            "grid_area": null,
            "grid_auto_columns": null,
            "grid_auto_flow": null,
            "grid_auto_rows": null,
            "grid_column": null,
            "grid_gap": null,
            "grid_row": null,
            "grid_template_areas": null,
            "grid_template_columns": null,
            "grid_template_rows": null,
            "height": null,
            "justify_content": null,
            "justify_items": null,
            "left": null,
            "margin": null,
            "max_height": null,
            "max_width": null,
            "min_height": null,
            "min_width": null,
            "object_fit": null,
            "object_position": null,
            "order": null,
            "overflow": null,
            "overflow_x": null,
            "overflow_y": null,
            "padding": null,
            "right": null,
            "top": null,
            "visibility": null,
            "width": null
          }
        },
        "b2dcd6e8f1b048049659c351e04c8cf5": {
          "model_module": "@jupyter-widgets/base",
          "model_name": "LayoutModel",
          "model_module_version": "1.2.0",
          "state": {
            "_model_module": "@jupyter-widgets/base",
            "_model_module_version": "1.2.0",
            "_model_name": "LayoutModel",
            "_view_count": null,
            "_view_module": "@jupyter-widgets/base",
            "_view_module_version": "1.2.0",
            "_view_name": "LayoutView",
            "align_content": null,
            "align_items": null,
            "align_self": null,
            "border": null,
            "bottom": null,
            "display": null,
            "flex": null,
            "flex_flow": null,
            "grid_area": null,
            "grid_auto_columns": null,
            "grid_auto_flow": null,
            "grid_auto_rows": null,
            "grid_column": null,
            "grid_gap": null,
            "grid_row": null,
            "grid_template_areas": null,
            "grid_template_columns": null,
            "grid_template_rows": null,
            "height": null,
            "justify_content": null,
            "justify_items": null,
            "left": null,
            "margin": null,
            "max_height": null,
            "max_width": null,
            "min_height": null,
            "min_width": null,
            "object_fit": null,
            "object_position": null,
            "order": null,
            "overflow": null,
            "overflow_x": null,
            "overflow_y": null,
            "padding": null,
            "right": null,
            "top": null,
            "visibility": null,
            "width": null
          }
        },
        "a1d339fb339747e8811e7f563e5d6bb4": {
          "model_module": "@jupyter-widgets/controls",
          "model_name": "DescriptionStyleModel",
          "model_module_version": "1.5.0",
          "state": {
            "_model_module": "@jupyter-widgets/controls",
            "_model_module_version": "1.5.0",
            "_model_name": "DescriptionStyleModel",
            "_view_count": null,
            "_view_module": "@jupyter-widgets/base",
            "_view_module_version": "1.2.0",
            "_view_name": "StyleView",
            "description_width": ""
          }
        },
        "536ce111f7d544c6b5a6a0e6a726791d": {
          "model_module": "@jupyter-widgets/base",
          "model_name": "LayoutModel",
          "model_module_version": "1.2.0",
          "state": {
            "_model_module": "@jupyter-widgets/base",
            "_model_module_version": "1.2.0",
            "_model_name": "LayoutModel",
            "_view_count": null,
            "_view_module": "@jupyter-widgets/base",
            "_view_module_version": "1.2.0",
            "_view_name": "LayoutView",
            "align_content": null,
            "align_items": null,
            "align_self": null,
            "border": null,
            "bottom": null,
            "display": null,
            "flex": null,
            "flex_flow": null,
            "grid_area": null,
            "grid_auto_columns": null,
            "grid_auto_flow": null,
            "grid_auto_rows": null,
            "grid_column": null,
            "grid_gap": null,
            "grid_row": null,
            "grid_template_areas": null,
            "grid_template_columns": null,
            "grid_template_rows": null,
            "height": null,
            "justify_content": null,
            "justify_items": null,
            "left": null,
            "margin": null,
            "max_height": null,
            "max_width": null,
            "min_height": null,
            "min_width": null,
            "object_fit": null,
            "object_position": null,
            "order": null,
            "overflow": null,
            "overflow_x": null,
            "overflow_y": null,
            "padding": null,
            "right": null,
            "top": null,
            "visibility": null,
            "width": null
          }
        },
        "bbfa322dcf89414fbfc38907e8c8783c": {
          "model_module": "@jupyter-widgets/controls",
          "model_name": "ProgressStyleModel",
          "model_module_version": "1.5.0",
          "state": {
            "_model_module": "@jupyter-widgets/controls",
            "_model_module_version": "1.5.0",
            "_model_name": "ProgressStyleModel",
            "_view_count": null,
            "_view_module": "@jupyter-widgets/base",
            "_view_module_version": "1.2.0",
            "_view_name": "StyleView",
            "bar_color": null,
            "description_width": ""
          }
        },
        "7a4c0bcd44a1407d9ecc3c09d8db171a": {
          "model_module": "@jupyter-widgets/base",
          "model_name": "LayoutModel",
          "model_module_version": "1.2.0",
          "state": {
            "_model_module": "@jupyter-widgets/base",
            "_model_module_version": "1.2.0",
            "_model_name": "LayoutModel",
            "_view_count": null,
            "_view_module": "@jupyter-widgets/base",
            "_view_module_version": "1.2.0",
            "_view_name": "LayoutView",
            "align_content": null,
            "align_items": null,
            "align_self": null,
            "border": null,
            "bottom": null,
            "display": null,
            "flex": null,
            "flex_flow": null,
            "grid_area": null,
            "grid_auto_columns": null,
            "grid_auto_flow": null,
            "grid_auto_rows": null,
            "grid_column": null,
            "grid_gap": null,
            "grid_row": null,
            "grid_template_areas": null,
            "grid_template_columns": null,
            "grid_template_rows": null,
            "height": null,
            "justify_content": null,
            "justify_items": null,
            "left": null,
            "margin": null,
            "max_height": null,
            "max_width": null,
            "min_height": null,
            "min_width": null,
            "object_fit": null,
            "object_position": null,
            "order": null,
            "overflow": null,
            "overflow_x": null,
            "overflow_y": null,
            "padding": null,
            "right": null,
            "top": null,
            "visibility": null,
            "width": null
          }
        },
        "e1a522d9cab8411f921d4fde4a3cda48": {
          "model_module": "@jupyter-widgets/controls",
          "model_name": "DescriptionStyleModel",
          "model_module_version": "1.5.0",
          "state": {
            "_model_module": "@jupyter-widgets/controls",
            "_model_module_version": "1.5.0",
            "_model_name": "DescriptionStyleModel",
            "_view_count": null,
            "_view_module": "@jupyter-widgets/base",
            "_view_module_version": "1.2.0",
            "_view_name": "StyleView",
            "description_width": ""
          }
        }
      }
    },
    "accelerator": "GPU"
  },
  "nbformat": 4,
  "nbformat_minor": 0
}